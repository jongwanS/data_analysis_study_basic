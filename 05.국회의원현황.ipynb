{
 "cells": [
  {
   "cell_type": "markdown",
   "id": "bd7dbfd9",
   "metadata": {},
   "source": [
    "## 국회의원 현황정보 수집/분석/시각화/저장\n",
    "- 국회 의원현황\n",
    "- 이름과 ID 추출\n",
    "- 상세페이지 정보 추출 (json으로 저장)\n",
    "- 상세정보들을 DataFrame으로 변환\n",
    "- 시각화(막대그래프,히스토그램, 파이챠트, 히트맵)\n",
    "- 테이블로 저장"
   ]
  },
  {
   "cell_type": "code",
   "execution_count": 18,
   "id": "5ecba62a",
   "metadata": {},
   "outputs": [
    {
     "name": "stdout",
     "output_type": "stream",
     "text": [
      "https://www.assembly.go.kr/portal/cnts/cntsNaas/findNaasThx01.json?pageIndex=1\n",
      "https://www.assembly.go.kr/portal/cnts/cntsNaas/findNaasThx01.json?pageIndex=2\n",
      "https://www.assembly.go.kr/portal/cnts/cntsNaas/findNaasThx01.json?pageIndex=3\n",
      "https://www.assembly.go.kr/portal/cnts/cntsNaas/findNaasThx01.json?pageIndex=4\n",
      "40\n",
      "['KANGKYUNGSOOK', 'KANGDAESIK', 'KANGDEUKGU', 'KANGMYOUNGGU', 'KANGMINKUK', 'KANGSUNYOUNG', 'KANGSUNWOO', 'KangSeungKyoo', 'KANGYUJUNG', 'KANGJUNHYEON', 'KANGHOONSIK', 'KOHDONGJIN', 'KOMINJUNG', 'KWAKKYUTAEK', 'KWAKSANGEON', 'KUJAKEUN', 'KWEONSEONGDONG', 'KWONYOUNGSE', 'KwonYoungJin', 'KWONCHILSEUNG', 'KWONHYANGYUP', 'KIMGUNN', 'KIMKYOHEUNG', 'KIMKIWOONG', 'KIMGIPYO', 'KIMGIHYEON', 'KIMNAMGEUN', 'KIMNAMHEE', 'KIMDAISIK', 'KIMDOEUP', 'KIMDONGAH', 'KIMMOONSOO', 'KIMMIAE', 'KIMMINSEOK', 'KIMMEENGEON', 'KIMBYUNGKEE', 'KIMBYUNGJOO', 'KIMSANGWOOK', 'KIMSANGHOON', 'KIMSEOKKI']\n"
     ]
    }
   ],
   "source": [
    "import requests\n",
    "from bs4 import BeautifulSoup\n",
    "import re\n",
    "\n",
    "headers = {\n",
    "    'user-agent':'Mozilla/5.0 (Windows NT 10.0; Win64; x64) AppleWebKit/537.36 (KHTML, like Gecko) Chrome/74.0.3729.169 Safari/537.36'\n",
    "}\n",
    "\n",
    "id_list_300 = []\n",
    "for index in range(1,5): # 1 ~ 30\n",
    "    url = f'https://www.assembly.go.kr/portal/cnts/cntsNaas/findNaasThx01.json?pageIndex={index}'\n",
    "    print(url)\n",
    "    res = requests.get(url, headers=headers)\n",
    "    #print(res.status_code)\n",
    "    if res.ok:\n",
    "        #print(res.json()['resultList'])\n",
    "        id_list_10 = []\n",
    "        for member in res.json()['resultList']:\n",
    "            #print(member['openNaId'])\n",
    "            id_list_10.append(member['openNaId']) \n",
    "        \n",
    "        #print(id_list_10)\n",
    "        id_list_300.extend(id_list_10)\n",
    "    else:\n",
    "        print(res.status_code)\n",
    "print(len(id_list_300))\n",
    "print(id_list_300)"
   ]
  },
  {
   "cell_type": "markdown",
   "id": "f1228b5b",
   "metadata": {},
   "source": [
    "#### Json 일부 데이터와 웹페이지의 상세정보 데이터 가져오기"
   ]
  },
  {
   "cell_type": "code",
   "execution_count": 23,
   "id": "a7e961e6",
   "metadata": {},
   "outputs": [
    {
     "name": "stdout",
     "output_type": "stream",
     "text": [
      "===> 스크래핑 시작\n",
      "True 1 https://www.assembly.go.kr/members/22nd/KANGKYUNGSOOK\n",
      "교육위원회\n",
      "True 2 https://www.assembly.go.kr/members/22nd/KANGDAESIK\n",
      "국방위원회\n",
      "True 3 https://www.assembly.go.kr/members/22nd/KANGDEUKGU\n",
      "기후위기 특별위원회\n",
      "True 4 https://www.assembly.go.kr/members/22nd/KANGMYOUNGGU\n",
      "국회운영위원회\n",
      "True 5 https://www.assembly.go.kr/members/22nd/KANGMINKUK\n",
      "정무위원회\n",
      "True 6 https://www.assembly.go.kr/members/22nd/KANGSUNYOUNG\n",
      "국방위원회\n",
      "True 7 https://www.assembly.go.kr/members/22nd/KANGSUNWOO\n",
      "보건복지위원회\n",
      "True 8 https://www.assembly.go.kr/members/22nd/KangSeungKyoo\n",
      "산업통상자원중소벤처기업위원회\n",
      "True 9 https://www.assembly.go.kr/members/22nd/KANGYUJUNG\n",
      "국회운영위원회\n",
      "True 10 https://www.assembly.go.kr/members/22nd/KANGJUNHYEON\n",
      "정무위원회\n",
      "True 11 https://www.assembly.go.kr/members/22nd/KANGHOONSIK\n",
      "정무위원회\n",
      "True 12 https://www.assembly.go.kr/members/22nd/KOHDONGJIN\n",
      "산업통상자원중소벤처기업위원회\n",
      "True 13 https://www.assembly.go.kr/members/22nd/KOMINJUNG\n",
      "교육위원회\n",
      "True 14 https://www.assembly.go.kr/members/22nd/KWAKKYUTAEK\n",
      "법제사법위원회\n",
      "True 15 https://www.assembly.go.kr/members/22nd/KWAKSANGEON\n",
      "산업통상자원중소벤처기업위원회\n",
      "True 16 https://www.assembly.go.kr/members/22nd/KUJAKEUN\n",
      "기획재정위원회\n",
      "True 17 https://www.assembly.go.kr/members/22nd/KWEONSEONGDONG\n",
      "정무위원회\n",
      "True 18 https://www.assembly.go.kr/members/22nd/KWONYOUNGSE\n",
      "국토교통위원회\n",
      "True 19 https://www.assembly.go.kr/members/22nd/KwonYoungJin\n",
      "국토교통위원회\n",
      "True 20 https://www.assembly.go.kr/members/22nd/KWONCHILSEUNG\n",
      "외교통일위원회\n",
      "True 21 https://www.assembly.go.kr/members/22nd/KWONHYANGYUP\n",
      "산업통상자원중소벤처기업위원회\n",
      "True 22 https://www.assembly.go.kr/members/22nd/KIMGUNN\n",
      "외교통일위원회\n",
      "True 23 https://www.assembly.go.kr/members/22nd/KIMKYOHEUNG\n",
      "산업통상자원중소벤처기업위원회\n",
      "True 24 https://www.assembly.go.kr/members/22nd/KIMKIWOONG\n",
      "외교통일위원회\n",
      "True 25 https://www.assembly.go.kr/members/22nd/KIMGIPYO\n",
      "법제사법위원회\n",
      "True 26 https://www.assembly.go.kr/members/22nd/KIMGIHYEON\n",
      "외교통일위원회\n",
      "True 27 https://www.assembly.go.kr/members/22nd/KIMNAMGEUN\n",
      "정무위원회\n",
      "True 28 https://www.assembly.go.kr/members/22nd/KIMNAMHEE\n",
      "보건복지위원회\n",
      "True 29 https://www.assembly.go.kr/members/22nd/KIMDAISIK\n",
      "교육위원회\n",
      "True 30 https://www.assembly.go.kr/members/22nd/KIMDOEUP\n",
      "국토교통위원회\n",
      "True 31 https://www.assembly.go.kr/members/22nd/KIMDONGAH\n",
      "산업통상자원중소벤처기업위원회\n",
      "True 32 https://www.assembly.go.kr/members/22nd/KIMMOONSOO\n",
      "교육위원회\n",
      "True 33 https://www.assembly.go.kr/members/22nd/KIMMIAE\n",
      "보건복지위원회\n",
      "True 34 https://www.assembly.go.kr/members/22nd/KIMMINSEOK\n",
      "국방위원회\n",
      "True 35 https://www.assembly.go.kr/members/22nd/KIMMEENGEON\n",
      "교육위원회\n",
      "True 36 https://www.assembly.go.kr/members/22nd/KIMBYUNGKEE\n",
      "정무위원회\n",
      "True 37 https://www.assembly.go.kr/members/22nd/KIMBYUNGJOO\n",
      "국방위원회\n",
      "True 38 https://www.assembly.go.kr/members/22nd/KIMSANGWOOK\n",
      "여성가족위원회\n",
      "True 39 https://www.assembly.go.kr/members/22nd/KIMSANGHOON\n",
      "정무위원회\n",
      "True 40 https://www.assembly.go.kr/members/22nd/KIMSEOKKI\n",
      "외교통일위원회\n",
      "True 41 https://www.assembly.go.kr/members/22nd/KIMSUNGYO\n",
      "농림축산식품해양수산위원회\n",
      "True 42 https://www.assembly.go.kr/members/22nd/KIMSUNMIN\n",
      "보건복지위원회\n",
      "True 43 https://www.assembly.go.kr/members/22nd/KIMSUNGWON\n",
      "예산결산특별위원회\n",
      "True 44 https://www.assembly.go.kr/members/22nd/KIMSUNGWHAN\n",
      "기후위기 특별위원회\n",
      "True 45 https://www.assembly.go.kr/members/22nd/KIMSUNGHOI\n",
      "행정안전위원회\n",
      "True 46 https://www.assembly.go.kr/members/22nd/KIMSOHEE\n",
      "기후위기 특별위원회\n",
      "True 47 https://www.assembly.go.kr/members/22nd/KIMSEUNGSU\n",
      "문화체육관광위원회\n",
      "True 48 https://www.assembly.go.kr/members/22nd/KIMSEUNGWON\n",
      "정무위원회\n",
      "True 49 https://www.assembly.go.kr/members/22nd/KIMYOUNGBAE\n",
      "외교통일위원회\n",
      "True 50 https://www.assembly.go.kr/members/22nd/KIMYOUNGJIN\n",
      "예산결산특별위원회\n",
      "True 51 https://www.assembly.go.kr/members/22nd/KIMYOUNGHO\n",
      "교육위원회\n",
      "True 52 https://www.assembly.go.kr/members/22nd/KIMYOUNGWHAN\n",
      "기획재정위원회\n",
      "True 53 https://www.assembly.go.kr/members/22nd/KIMYEAJI\n",
      "보건복지위원회\n",
      "True 54 https://www.assembly.go.kr/members/22nd/KIMYONGMAN\n",
      "여성가족위원회\n",
      "True 55 https://www.assembly.go.kr/members/22nd/KIMYONGMIN\n",
      "법제사법위원회\n",
      "True 56 https://www.assembly.go.kr/members/22nd/YONGTAEKIM\n",
      "기후위기 특별위원회\n",
      "True 57 https://www.assembly.go.kr/members/22nd/KIMWOOYOUNG\n",
      "과학기술정보방송통신위원회\n",
      "True 58 https://www.assembly.go.kr/members/22nd/KIMWONI\n",
      "산업통상자원중소벤처기업위원회\n",
      "True 59 https://www.assembly.go.kr/members/22nd/KIMWISANG\n",
      "환경노동위원회\n",
      "True 60 https://www.assembly.go.kr/members/22nd/KIMYOON\n",
      "보건복지위원회\n",
      "True 61 https://www.assembly.go.kr/members/22nd/KIMYUNDUCK\n",
      "문화체육관광위원회\n",
      "True 62 https://www.assembly.go.kr/members/22nd/KIMEUNHYE\n",
      "국토교통위원회\n",
      "True 63 https://www.assembly.go.kr/members/22nd/KIMJANGKYOM\n",
      "과학기술정보방송통신위원회\n",
      "True 64 https://www.assembly.go.kr/members/22nd/KIMJAESUB\n",
      "정무위원회\n",
      "True 65 https://www.assembly.go.kr/members/22nd/JAEWONK\n",
      "문화체육관광위원회\n",
      "True 66 https://www.assembly.go.kr/members/22nd/KIMJUNGJAE\n",
      "국토교통위원회\n",
      "True 67 https://www.assembly.go.kr/members/22nd/KIMJUNGHO\n",
      "기후위기 특별위원회\n",
      "True 68 https://www.assembly.go.kr/members/22nd/KIMJONGMIN\n",
      "기후위기 특별위원회\n"
     ]
    },
    {
     "ename": "KeyboardInterrupt",
     "evalue": "",
     "output_type": "error",
     "traceback": [
      "\u001b[0;31m---------------------------------------------------------------------------\u001b[0m",
      "\u001b[0;31mKeyboardInterrupt\u001b[0m                         Traceback (most recent call last)",
      "Cell \u001b[0;32mIn[23], line 17\u001b[0m\n\u001b[1;32m     15\u001b[0m mem_sub_link \u001b[38;5;241m=\u001b[39m member[\u001b[38;5;124m'\u001b[39m\u001b[38;5;124mmLinkUrl\u001b[39m\u001b[38;5;124m'\u001b[39m]\n\u001b[1;32m     16\u001b[0m detail_url \u001b[38;5;241m=\u001b[39m \u001b[38;5;124mf\u001b[39m\u001b[38;5;124m'\u001b[39m\u001b[38;5;124mhttps://www.assembly.go.kr\u001b[39m\u001b[38;5;132;01m{\u001b[39;00mmem_sub_link\u001b[38;5;132;01m}\u001b[39;00m\u001b[38;5;124m'\u001b[39m\n\u001b[0;32m---> 17\u001b[0m res \u001b[38;5;241m=\u001b[39m \u001b[43mrequests\u001b[49m\u001b[38;5;241;43m.\u001b[39;49m\u001b[43mget\u001b[49m\u001b[43m(\u001b[49m\u001b[43mdetail_url\u001b[49m\u001b[43m,\u001b[49m\u001b[43m \u001b[49m\u001b[43mheaders\u001b[49m\u001b[38;5;241;43m=\u001b[39;49m\u001b[43mheaders\u001b[49m\u001b[43m)\u001b[49m\n\u001b[1;32m     18\u001b[0m \u001b[38;5;28mprint\u001b[39m(res\u001b[38;5;241m.\u001b[39mok, idx, detail_url)\n\u001b[1;32m     20\u001b[0m \u001b[38;5;28;01mif\u001b[39;00m res\u001b[38;5;241m.\u001b[39mok:\n\u001b[1;32m     21\u001b[0m     \u001b[38;5;66;03m# 응답값의 텍스트를 추출\u001b[39;00m\n",
      "File \u001b[0;32m~/Desktop/study/data_analysis/venv/lib/python3.12/site-packages/requests/api.py:73\u001b[0m, in \u001b[0;36mget\u001b[0;34m(url, params, **kwargs)\u001b[0m\n\u001b[1;32m     62\u001b[0m \u001b[38;5;28;01mdef\u001b[39;00m\u001b[38;5;250m \u001b[39m\u001b[38;5;21mget\u001b[39m(url, params\u001b[38;5;241m=\u001b[39m\u001b[38;5;28;01mNone\u001b[39;00m, \u001b[38;5;241m*\u001b[39m\u001b[38;5;241m*\u001b[39mkwargs):\n\u001b[1;32m     63\u001b[0m \u001b[38;5;250m    \u001b[39m\u001b[38;5;124mr\u001b[39m\u001b[38;5;124;03m\"\"\"Sends a GET request.\u001b[39;00m\n\u001b[1;32m     64\u001b[0m \n\u001b[1;32m     65\u001b[0m \u001b[38;5;124;03m    :param url: URL for the new :class:`Request` object.\u001b[39;00m\n\u001b[0;32m   (...)\u001b[0m\n\u001b[1;32m     70\u001b[0m \u001b[38;5;124;03m    :rtype: requests.Response\u001b[39;00m\n\u001b[1;32m     71\u001b[0m \u001b[38;5;124;03m    \"\"\"\u001b[39;00m\n\u001b[0;32m---> 73\u001b[0m     \u001b[38;5;28;01mreturn\u001b[39;00m \u001b[43mrequest\u001b[49m\u001b[43m(\u001b[49m\u001b[38;5;124;43m\"\u001b[39;49m\u001b[38;5;124;43mget\u001b[39;49m\u001b[38;5;124;43m\"\u001b[39;49m\u001b[43m,\u001b[49m\u001b[43m \u001b[49m\u001b[43murl\u001b[49m\u001b[43m,\u001b[49m\u001b[43m \u001b[49m\u001b[43mparams\u001b[49m\u001b[38;5;241;43m=\u001b[39;49m\u001b[43mparams\u001b[49m\u001b[43m,\u001b[49m\u001b[43m \u001b[49m\u001b[38;5;241;43m*\u001b[39;49m\u001b[38;5;241;43m*\u001b[39;49m\u001b[43mkwargs\u001b[49m\u001b[43m)\u001b[49m\n",
      "File \u001b[0;32m~/Desktop/study/data_analysis/venv/lib/python3.12/site-packages/requests/api.py:59\u001b[0m, in \u001b[0;36mrequest\u001b[0;34m(method, url, **kwargs)\u001b[0m\n\u001b[1;32m     55\u001b[0m \u001b[38;5;66;03m# By using the 'with' statement we are sure the session is closed, thus we\u001b[39;00m\n\u001b[1;32m     56\u001b[0m \u001b[38;5;66;03m# avoid leaving sockets open which can trigger a ResourceWarning in some\u001b[39;00m\n\u001b[1;32m     57\u001b[0m \u001b[38;5;66;03m# cases, and look like a memory leak in others.\u001b[39;00m\n\u001b[1;32m     58\u001b[0m \u001b[38;5;28;01mwith\u001b[39;00m sessions\u001b[38;5;241m.\u001b[39mSession() \u001b[38;5;28;01mas\u001b[39;00m session:\n\u001b[0;32m---> 59\u001b[0m     \u001b[38;5;28;01mreturn\u001b[39;00m \u001b[43msession\u001b[49m\u001b[38;5;241;43m.\u001b[39;49m\u001b[43mrequest\u001b[49m\u001b[43m(\u001b[49m\u001b[43mmethod\u001b[49m\u001b[38;5;241;43m=\u001b[39;49m\u001b[43mmethod\u001b[49m\u001b[43m,\u001b[49m\u001b[43m \u001b[49m\u001b[43murl\u001b[49m\u001b[38;5;241;43m=\u001b[39;49m\u001b[43murl\u001b[49m\u001b[43m,\u001b[49m\u001b[43m \u001b[49m\u001b[38;5;241;43m*\u001b[39;49m\u001b[38;5;241;43m*\u001b[39;49m\u001b[43mkwargs\u001b[49m\u001b[43m)\u001b[49m\n",
      "File \u001b[0;32m~/Desktop/study/data_analysis/venv/lib/python3.12/site-packages/requests/sessions.py:589\u001b[0m, in \u001b[0;36mSession.request\u001b[0;34m(self, method, url, params, data, headers, cookies, files, auth, timeout, allow_redirects, proxies, hooks, stream, verify, cert, json)\u001b[0m\n\u001b[1;32m    584\u001b[0m send_kwargs \u001b[38;5;241m=\u001b[39m {\n\u001b[1;32m    585\u001b[0m     \u001b[38;5;124m\"\u001b[39m\u001b[38;5;124mtimeout\u001b[39m\u001b[38;5;124m\"\u001b[39m: timeout,\n\u001b[1;32m    586\u001b[0m     \u001b[38;5;124m\"\u001b[39m\u001b[38;5;124mallow_redirects\u001b[39m\u001b[38;5;124m\"\u001b[39m: allow_redirects,\n\u001b[1;32m    587\u001b[0m }\n\u001b[1;32m    588\u001b[0m send_kwargs\u001b[38;5;241m.\u001b[39mupdate(settings)\n\u001b[0;32m--> 589\u001b[0m resp \u001b[38;5;241m=\u001b[39m \u001b[38;5;28;43mself\u001b[39;49m\u001b[38;5;241;43m.\u001b[39;49m\u001b[43msend\u001b[49m\u001b[43m(\u001b[49m\u001b[43mprep\u001b[49m\u001b[43m,\u001b[49m\u001b[43m \u001b[49m\u001b[38;5;241;43m*\u001b[39;49m\u001b[38;5;241;43m*\u001b[39;49m\u001b[43msend_kwargs\u001b[49m\u001b[43m)\u001b[49m\n\u001b[1;32m    591\u001b[0m \u001b[38;5;28;01mreturn\u001b[39;00m resp\n",
      "File \u001b[0;32m~/Desktop/study/data_analysis/venv/lib/python3.12/site-packages/requests/sessions.py:703\u001b[0m, in \u001b[0;36mSession.send\u001b[0;34m(self, request, **kwargs)\u001b[0m\n\u001b[1;32m    700\u001b[0m start \u001b[38;5;241m=\u001b[39m preferred_clock()\n\u001b[1;32m    702\u001b[0m \u001b[38;5;66;03m# Send the request\u001b[39;00m\n\u001b[0;32m--> 703\u001b[0m r \u001b[38;5;241m=\u001b[39m \u001b[43madapter\u001b[49m\u001b[38;5;241;43m.\u001b[39;49m\u001b[43msend\u001b[49m\u001b[43m(\u001b[49m\u001b[43mrequest\u001b[49m\u001b[43m,\u001b[49m\u001b[43m \u001b[49m\u001b[38;5;241;43m*\u001b[39;49m\u001b[38;5;241;43m*\u001b[39;49m\u001b[43mkwargs\u001b[49m\u001b[43m)\u001b[49m\n\u001b[1;32m    705\u001b[0m \u001b[38;5;66;03m# Total elapsed time of the request (approximately)\u001b[39;00m\n\u001b[1;32m    706\u001b[0m elapsed \u001b[38;5;241m=\u001b[39m preferred_clock() \u001b[38;5;241m-\u001b[39m start\n",
      "File \u001b[0;32m~/Desktop/study/data_analysis/venv/lib/python3.12/site-packages/requests/adapters.py:667\u001b[0m, in \u001b[0;36mHTTPAdapter.send\u001b[0;34m(self, request, stream, timeout, verify, cert, proxies)\u001b[0m\n\u001b[1;32m    664\u001b[0m     timeout \u001b[38;5;241m=\u001b[39m TimeoutSauce(connect\u001b[38;5;241m=\u001b[39mtimeout, read\u001b[38;5;241m=\u001b[39mtimeout)\n\u001b[1;32m    666\u001b[0m \u001b[38;5;28;01mtry\u001b[39;00m:\n\u001b[0;32m--> 667\u001b[0m     resp \u001b[38;5;241m=\u001b[39m \u001b[43mconn\u001b[49m\u001b[38;5;241;43m.\u001b[39;49m\u001b[43murlopen\u001b[49m\u001b[43m(\u001b[49m\n\u001b[1;32m    668\u001b[0m \u001b[43m        \u001b[49m\u001b[43mmethod\u001b[49m\u001b[38;5;241;43m=\u001b[39;49m\u001b[43mrequest\u001b[49m\u001b[38;5;241;43m.\u001b[39;49m\u001b[43mmethod\u001b[49m\u001b[43m,\u001b[49m\n\u001b[1;32m    669\u001b[0m \u001b[43m        \u001b[49m\u001b[43murl\u001b[49m\u001b[38;5;241;43m=\u001b[39;49m\u001b[43murl\u001b[49m\u001b[43m,\u001b[49m\n\u001b[1;32m    670\u001b[0m \u001b[43m        \u001b[49m\u001b[43mbody\u001b[49m\u001b[38;5;241;43m=\u001b[39;49m\u001b[43mrequest\u001b[49m\u001b[38;5;241;43m.\u001b[39;49m\u001b[43mbody\u001b[49m\u001b[43m,\u001b[49m\n\u001b[1;32m    671\u001b[0m \u001b[43m        \u001b[49m\u001b[43mheaders\u001b[49m\u001b[38;5;241;43m=\u001b[39;49m\u001b[43mrequest\u001b[49m\u001b[38;5;241;43m.\u001b[39;49m\u001b[43mheaders\u001b[49m\u001b[43m,\u001b[49m\n\u001b[1;32m    672\u001b[0m \u001b[43m        \u001b[49m\u001b[43mredirect\u001b[49m\u001b[38;5;241;43m=\u001b[39;49m\u001b[38;5;28;43;01mFalse\u001b[39;49;00m\u001b[43m,\u001b[49m\n\u001b[1;32m    673\u001b[0m \u001b[43m        \u001b[49m\u001b[43massert_same_host\u001b[49m\u001b[38;5;241;43m=\u001b[39;49m\u001b[38;5;28;43;01mFalse\u001b[39;49;00m\u001b[43m,\u001b[49m\n\u001b[1;32m    674\u001b[0m \u001b[43m        \u001b[49m\u001b[43mpreload_content\u001b[49m\u001b[38;5;241;43m=\u001b[39;49m\u001b[38;5;28;43;01mFalse\u001b[39;49;00m\u001b[43m,\u001b[49m\n\u001b[1;32m    675\u001b[0m \u001b[43m        \u001b[49m\u001b[43mdecode_content\u001b[49m\u001b[38;5;241;43m=\u001b[39;49m\u001b[38;5;28;43;01mFalse\u001b[39;49;00m\u001b[43m,\u001b[49m\n\u001b[1;32m    676\u001b[0m \u001b[43m        \u001b[49m\u001b[43mretries\u001b[49m\u001b[38;5;241;43m=\u001b[39;49m\u001b[38;5;28;43mself\u001b[39;49m\u001b[38;5;241;43m.\u001b[39;49m\u001b[43mmax_retries\u001b[49m\u001b[43m,\u001b[49m\n\u001b[1;32m    677\u001b[0m \u001b[43m        \u001b[49m\u001b[43mtimeout\u001b[49m\u001b[38;5;241;43m=\u001b[39;49m\u001b[43mtimeout\u001b[49m\u001b[43m,\u001b[49m\n\u001b[1;32m    678\u001b[0m \u001b[43m        \u001b[49m\u001b[43mchunked\u001b[49m\u001b[38;5;241;43m=\u001b[39;49m\u001b[43mchunked\u001b[49m\u001b[43m,\u001b[49m\n\u001b[1;32m    679\u001b[0m \u001b[43m    \u001b[49m\u001b[43m)\u001b[49m\n\u001b[1;32m    681\u001b[0m \u001b[38;5;28;01mexcept\u001b[39;00m (ProtocolError, \u001b[38;5;167;01mOSError\u001b[39;00m) \u001b[38;5;28;01mas\u001b[39;00m err:\n\u001b[1;32m    682\u001b[0m     \u001b[38;5;28;01mraise\u001b[39;00m \u001b[38;5;167;01mConnectionError\u001b[39;00m(err, request\u001b[38;5;241m=\u001b[39mrequest)\n",
      "File \u001b[0;32m~/Desktop/study/data_analysis/venv/lib/python3.12/site-packages/urllib3/connectionpool.py:787\u001b[0m, in \u001b[0;36mHTTPConnectionPool.urlopen\u001b[0;34m(self, method, url, body, headers, retries, redirect, assert_same_host, timeout, pool_timeout, release_conn, chunked, body_pos, preload_content, decode_content, **response_kw)\u001b[0m\n\u001b[1;32m    784\u001b[0m response_conn \u001b[38;5;241m=\u001b[39m conn \u001b[38;5;28;01mif\u001b[39;00m \u001b[38;5;129;01mnot\u001b[39;00m release_conn \u001b[38;5;28;01melse\u001b[39;00m \u001b[38;5;28;01mNone\u001b[39;00m\n\u001b[1;32m    786\u001b[0m \u001b[38;5;66;03m# Make the request on the HTTPConnection object\u001b[39;00m\n\u001b[0;32m--> 787\u001b[0m response \u001b[38;5;241m=\u001b[39m \u001b[38;5;28;43mself\u001b[39;49m\u001b[38;5;241;43m.\u001b[39;49m\u001b[43m_make_request\u001b[49m\u001b[43m(\u001b[49m\n\u001b[1;32m    788\u001b[0m \u001b[43m    \u001b[49m\u001b[43mconn\u001b[49m\u001b[43m,\u001b[49m\n\u001b[1;32m    789\u001b[0m \u001b[43m    \u001b[49m\u001b[43mmethod\u001b[49m\u001b[43m,\u001b[49m\n\u001b[1;32m    790\u001b[0m \u001b[43m    \u001b[49m\u001b[43murl\u001b[49m\u001b[43m,\u001b[49m\n\u001b[1;32m    791\u001b[0m \u001b[43m    \u001b[49m\u001b[43mtimeout\u001b[49m\u001b[38;5;241;43m=\u001b[39;49m\u001b[43mtimeout_obj\u001b[49m\u001b[43m,\u001b[49m\n\u001b[1;32m    792\u001b[0m \u001b[43m    \u001b[49m\u001b[43mbody\u001b[49m\u001b[38;5;241;43m=\u001b[39;49m\u001b[43mbody\u001b[49m\u001b[43m,\u001b[49m\n\u001b[1;32m    793\u001b[0m \u001b[43m    \u001b[49m\u001b[43mheaders\u001b[49m\u001b[38;5;241;43m=\u001b[39;49m\u001b[43mheaders\u001b[49m\u001b[43m,\u001b[49m\n\u001b[1;32m    794\u001b[0m \u001b[43m    \u001b[49m\u001b[43mchunked\u001b[49m\u001b[38;5;241;43m=\u001b[39;49m\u001b[43mchunked\u001b[49m\u001b[43m,\u001b[49m\n\u001b[1;32m    795\u001b[0m \u001b[43m    \u001b[49m\u001b[43mretries\u001b[49m\u001b[38;5;241;43m=\u001b[39;49m\u001b[43mretries\u001b[49m\u001b[43m,\u001b[49m\n\u001b[1;32m    796\u001b[0m \u001b[43m    \u001b[49m\u001b[43mresponse_conn\u001b[49m\u001b[38;5;241;43m=\u001b[39;49m\u001b[43mresponse_conn\u001b[49m\u001b[43m,\u001b[49m\n\u001b[1;32m    797\u001b[0m \u001b[43m    \u001b[49m\u001b[43mpreload_content\u001b[49m\u001b[38;5;241;43m=\u001b[39;49m\u001b[43mpreload_content\u001b[49m\u001b[43m,\u001b[49m\n\u001b[1;32m    798\u001b[0m \u001b[43m    \u001b[49m\u001b[43mdecode_content\u001b[49m\u001b[38;5;241;43m=\u001b[39;49m\u001b[43mdecode_content\u001b[49m\u001b[43m,\u001b[49m\n\u001b[1;32m    799\u001b[0m \u001b[43m    \u001b[49m\u001b[38;5;241;43m*\u001b[39;49m\u001b[38;5;241;43m*\u001b[39;49m\u001b[43mresponse_kw\u001b[49m\u001b[43m,\u001b[49m\n\u001b[1;32m    800\u001b[0m \u001b[43m\u001b[49m\u001b[43m)\u001b[49m\n\u001b[1;32m    802\u001b[0m \u001b[38;5;66;03m# Everything went great!\u001b[39;00m\n\u001b[1;32m    803\u001b[0m clean_exit \u001b[38;5;241m=\u001b[39m \u001b[38;5;28;01mTrue\u001b[39;00m\n",
      "File \u001b[0;32m~/Desktop/study/data_analysis/venv/lib/python3.12/site-packages/urllib3/connectionpool.py:464\u001b[0m, in \u001b[0;36mHTTPConnectionPool._make_request\u001b[0;34m(self, conn, method, url, body, headers, retries, timeout, chunked, response_conn, preload_content, decode_content, enforce_content_length)\u001b[0m\n\u001b[1;32m    461\u001b[0m \u001b[38;5;28;01mtry\u001b[39;00m:\n\u001b[1;32m    462\u001b[0m     \u001b[38;5;66;03m# Trigger any extra validation we need to do.\u001b[39;00m\n\u001b[1;32m    463\u001b[0m     \u001b[38;5;28;01mtry\u001b[39;00m:\n\u001b[0;32m--> 464\u001b[0m         \u001b[38;5;28;43mself\u001b[39;49m\u001b[38;5;241;43m.\u001b[39;49m\u001b[43m_validate_conn\u001b[49m\u001b[43m(\u001b[49m\u001b[43mconn\u001b[49m\u001b[43m)\u001b[49m\n\u001b[1;32m    465\u001b[0m     \u001b[38;5;28;01mexcept\u001b[39;00m (SocketTimeout, BaseSSLError) \u001b[38;5;28;01mas\u001b[39;00m e:\n\u001b[1;32m    466\u001b[0m         \u001b[38;5;28mself\u001b[39m\u001b[38;5;241m.\u001b[39m_raise_timeout(err\u001b[38;5;241m=\u001b[39me, url\u001b[38;5;241m=\u001b[39murl, timeout_value\u001b[38;5;241m=\u001b[39mconn\u001b[38;5;241m.\u001b[39mtimeout)\n",
      "File \u001b[0;32m~/Desktop/study/data_analysis/venv/lib/python3.12/site-packages/urllib3/connectionpool.py:1093\u001b[0m, in \u001b[0;36mHTTPSConnectionPool._validate_conn\u001b[0;34m(self, conn)\u001b[0m\n\u001b[1;32m   1091\u001b[0m \u001b[38;5;66;03m# Force connect early to allow us to validate the connection.\u001b[39;00m\n\u001b[1;32m   1092\u001b[0m \u001b[38;5;28;01mif\u001b[39;00m conn\u001b[38;5;241m.\u001b[39mis_closed:\n\u001b[0;32m-> 1093\u001b[0m     \u001b[43mconn\u001b[49m\u001b[38;5;241;43m.\u001b[39;49m\u001b[43mconnect\u001b[49m\u001b[43m(\u001b[49m\u001b[43m)\u001b[49m\n\u001b[1;32m   1095\u001b[0m \u001b[38;5;66;03m# TODO revise this, see https://github.com/urllib3/urllib3/issues/2791\u001b[39;00m\n\u001b[1;32m   1096\u001b[0m \u001b[38;5;28;01mif\u001b[39;00m \u001b[38;5;129;01mnot\u001b[39;00m conn\u001b[38;5;241m.\u001b[39mis_verified \u001b[38;5;129;01mand\u001b[39;00m \u001b[38;5;129;01mnot\u001b[39;00m conn\u001b[38;5;241m.\u001b[39mproxy_is_verified:\n",
      "File \u001b[0;32m~/Desktop/study/data_analysis/venv/lib/python3.12/site-packages/urllib3/connection.py:704\u001b[0m, in \u001b[0;36mHTTPSConnection.connect\u001b[0;34m(self)\u001b[0m\n\u001b[1;32m    702\u001b[0m \u001b[38;5;28;01mtry\u001b[39;00m:\n\u001b[1;32m    703\u001b[0m     sock: socket\u001b[38;5;241m.\u001b[39msocket \u001b[38;5;241m|\u001b[39m ssl\u001b[38;5;241m.\u001b[39mSSLSocket\n\u001b[0;32m--> 704\u001b[0m     \u001b[38;5;28mself\u001b[39m\u001b[38;5;241m.\u001b[39msock \u001b[38;5;241m=\u001b[39m sock \u001b[38;5;241m=\u001b[39m \u001b[38;5;28;43mself\u001b[39;49m\u001b[38;5;241;43m.\u001b[39;49m\u001b[43m_new_conn\u001b[49m\u001b[43m(\u001b[49m\u001b[43m)\u001b[49m\n\u001b[1;32m    705\u001b[0m     server_hostname: \u001b[38;5;28mstr\u001b[39m \u001b[38;5;241m=\u001b[39m \u001b[38;5;28mself\u001b[39m\u001b[38;5;241m.\u001b[39mhost\n\u001b[1;32m    706\u001b[0m     tls_in_tls \u001b[38;5;241m=\u001b[39m \u001b[38;5;28;01mFalse\u001b[39;00m\n",
      "File \u001b[0;32m~/Desktop/study/data_analysis/venv/lib/python3.12/site-packages/urllib3/connection.py:198\u001b[0m, in \u001b[0;36mHTTPConnection._new_conn\u001b[0;34m(self)\u001b[0m\n\u001b[1;32m    193\u001b[0m \u001b[38;5;250m\u001b[39m\u001b[38;5;124;03m\"\"\"Establish a socket connection and set nodelay settings on it.\u001b[39;00m\n\u001b[1;32m    194\u001b[0m \n\u001b[1;32m    195\u001b[0m \u001b[38;5;124;03m:return: New socket connection.\u001b[39;00m\n\u001b[1;32m    196\u001b[0m \u001b[38;5;124;03m\"\"\"\u001b[39;00m\n\u001b[1;32m    197\u001b[0m \u001b[38;5;28;01mtry\u001b[39;00m:\n\u001b[0;32m--> 198\u001b[0m     sock \u001b[38;5;241m=\u001b[39m \u001b[43mconnection\u001b[49m\u001b[38;5;241;43m.\u001b[39;49m\u001b[43mcreate_connection\u001b[49m\u001b[43m(\u001b[49m\n\u001b[1;32m    199\u001b[0m \u001b[43m        \u001b[49m\u001b[43m(\u001b[49m\u001b[38;5;28;43mself\u001b[39;49m\u001b[38;5;241;43m.\u001b[39;49m\u001b[43m_dns_host\u001b[49m\u001b[43m,\u001b[49m\u001b[43m \u001b[49m\u001b[38;5;28;43mself\u001b[39;49m\u001b[38;5;241;43m.\u001b[39;49m\u001b[43mport\u001b[49m\u001b[43m)\u001b[49m\u001b[43m,\u001b[49m\n\u001b[1;32m    200\u001b[0m \u001b[43m        \u001b[49m\u001b[38;5;28;43mself\u001b[39;49m\u001b[38;5;241;43m.\u001b[39;49m\u001b[43mtimeout\u001b[49m\u001b[43m,\u001b[49m\n\u001b[1;32m    201\u001b[0m \u001b[43m        \u001b[49m\u001b[43msource_address\u001b[49m\u001b[38;5;241;43m=\u001b[39;49m\u001b[38;5;28;43mself\u001b[39;49m\u001b[38;5;241;43m.\u001b[39;49m\u001b[43msource_address\u001b[49m\u001b[43m,\u001b[49m\n\u001b[1;32m    202\u001b[0m \u001b[43m        \u001b[49m\u001b[43msocket_options\u001b[49m\u001b[38;5;241;43m=\u001b[39;49m\u001b[38;5;28;43mself\u001b[39;49m\u001b[38;5;241;43m.\u001b[39;49m\u001b[43msocket_options\u001b[49m\u001b[43m,\u001b[49m\n\u001b[1;32m    203\u001b[0m \u001b[43m    \u001b[49m\u001b[43m)\u001b[49m\n\u001b[1;32m    204\u001b[0m \u001b[38;5;28;01mexcept\u001b[39;00m socket\u001b[38;5;241m.\u001b[39mgaierror \u001b[38;5;28;01mas\u001b[39;00m e:\n\u001b[1;32m    205\u001b[0m     \u001b[38;5;28;01mraise\u001b[39;00m NameResolutionError(\u001b[38;5;28mself\u001b[39m\u001b[38;5;241m.\u001b[39mhost, \u001b[38;5;28mself\u001b[39m, e) \u001b[38;5;28;01mfrom\u001b[39;00m\u001b[38;5;250m \u001b[39m\u001b[38;5;21;01me\u001b[39;00m\n",
      "File \u001b[0;32m~/Desktop/study/data_analysis/venv/lib/python3.12/site-packages/urllib3/util/connection.py:73\u001b[0m, in \u001b[0;36mcreate_connection\u001b[0;34m(address, timeout, source_address, socket_options)\u001b[0m\n\u001b[1;32m     71\u001b[0m \u001b[38;5;28;01mif\u001b[39;00m source_address:\n\u001b[1;32m     72\u001b[0m     sock\u001b[38;5;241m.\u001b[39mbind(source_address)\n\u001b[0;32m---> 73\u001b[0m \u001b[43msock\u001b[49m\u001b[38;5;241;43m.\u001b[39;49m\u001b[43mconnect\u001b[49m\u001b[43m(\u001b[49m\u001b[43msa\u001b[49m\u001b[43m)\u001b[49m\n\u001b[1;32m     74\u001b[0m \u001b[38;5;66;03m# Break explicitly a reference cycle\u001b[39;00m\n\u001b[1;32m     75\u001b[0m err \u001b[38;5;241m=\u001b[39m \u001b[38;5;28;01mNone\u001b[39;00m\n",
      "\u001b[0;31mKeyboardInterrupt\u001b[0m: "
     ]
    }
   ],
   "source": [
    "import requests\n",
    "from bs4 import BeautifulSoup\n",
    "import re\n",
    "from urllib.parse import urljoin\n",
    "\n",
    "print('===> 스크래핑 시작')\n",
    "#297명의 정보를 저장하는 List\n",
    "member_detail_list = []\n",
    "\n",
    "headers = {\n",
    "    'user-agent':'Mozilla/5.0 (Windows NT 10.0; Win64; x64) AppleWebKit/537.36 (KHTML, like Gecko) Chrome/74.0.3729.169 Safari/537.36'\n",
    "}\n",
    "\n",
    "for idx,member in enumerate(member_list_300,1):\n",
    "    mem_sub_link = member['mLinkUrl']\n",
    "    detail_url = f'https://www.assembly.go.kr{mem_sub_link}'\n",
    "    res = requests.get(detail_url, headers=headers)\n",
    "    print(res.ok, idx, detail_url)\n",
    "    \n",
    "    if res.ok:\n",
    "        # 응답값의 텍스트를 추출\n",
    "        soup = BeautifulSoup(res.text, 'html.parser')\n",
    "        \n",
    "        #1명의 정보를 저장하는 dict 선언\n",
    "        member_detail_dict = {}\n",
    "        #li:nth-of-type(n+4): 이 <ul> 아래에 있는 자식 <li> 중 4번째부터 이후 모든 li 선택\n",
    "        li_tags = soup.select('ul.list li:nth-of-type(n+4)')\n",
    "        #print(li_tags)\n",
    "        # for li in li_tags:\n",
    "        #     print(type(li.find('dt')))\n",
    "        #     print(li.find('dt').text)\n",
    "        \n",
    "        # https://www.assembly.go.kr/members/22nd/KANGKYUNGSOOK 예시\n",
    "        dt_list = [li_tag.find('dt').text for li_tag in li_tags]\n",
    "        #print(dt_list)\n",
    "\n",
    "        #dd_list = ['02-784-8551', '의원회관838호', 'http://blog.naver.com/hwanghee67', 'hwanghee6728@gmail.com', '나성채,조주연', '김병기,정대중', '오상혁,나유경,김용대,문경림', '']\n",
    "        dd_list = []        \n",
    "        for li_tag in li_tags:\n",
    "            dd_tag = li_tag.find('dd')\n",
    "            pattern = re.compile(f'[\\n\\r\\t]') #문자열에서 줄바꿈, 캐리지 리턴, 탭 문자 중 하나라도 포함되어 있으면 매칭\n",
    "            dd_text = pattern.sub('',dd_tag.text.strip()).replace(\" \",\"\") #dd_tag.text에서 특정 공백 문자들을 제거하고, 나중엔 띄어쓰기까지 없애는 작업\n",
    "            dd_list.append(dd_text)\n",
    "        #print(dd_list)\n",
    "        \n",
    "        #dt_list와 dd_list를 쌍(pair) 으로 묶어줌, key vlaue 느낌\n",
    "        '''\n",
    "        member_detail_dict\n",
    "        ={'사무실 전화': '02-784-5601', '사무실 호실': '의원회관515호', '개별 홈페이지': 'https://blog.naver.com/grace6752', '이메일': 'gracesook52@rebuildingk.kr', '보좌관': '김재삼,서용선', '선임비서관': '김홍,오세령', '비서관': '권혁,박문혁,김예닮,이경열,김희경', '의원실 안내': ''}\n",
    "        '''\n",
    "        member_detail_dict = dict(zip(dt_list, dd_list))\n",
    "        \n",
    "        member_detail_dict['이름'] = member['hgNm']        \n",
    "        member_detail_dict['정당'] = member['polyNm']\n",
    "        member_detail_dict['성별'] = member['sexGbnNm']\n",
    "        member_detail_dict['선거구'] = member['origNm']\n",
    "        member_detail_dict['지역비례'] = member['electGbnNm']\n",
    "\n",
    "        sosok = member['cmitNm']\n",
    "        if sosok is not None:\n",
    "            idx = sosok.find(',')\n",
    "            if idx > -1:            \n",
    "                #쉼표가 존재하면, 첫 번째 위원회만 저장함. 예: '정무위원회,운영위원회' → '정무위원회'\n",
    "                member_detail_dict['소속위원회'] = sosok[:idx]\n",
    "            else:\n",
    "                member_detail_dict['소속위원회'] = sosok\n",
    "        else:        \n",
    "            member_detail_dict['소속위원회'] = ''    \n",
    "\n",
    "        print(member_detail_dict['소속위원회'])                        \n",
    "        \n",
    "        member_detail_dict['당선횟수'] = member['reeleGbnNm']\n",
    "        \n",
    "        img_sub_url = member['mThumbImgUrl']\n",
    "        '''\n",
    "        detail_url = 'https://www.assembly.go.kr/members/22nd/KANGKYUNGSOOK',\n",
    "        img_sub_url = '/static/portal/img/openassm/new/thumb/68f83caf0c9e4546b1694ead863f45ce.jpg'\n",
    "\n",
    "        => https://www.assembly.go.kr/static/portal/img/openassm/new/thumb/68f83caf0c9e4546b1694ead863f45ce.jpg \n",
    "\n",
    "        절대 경로로 변경해준다.\n",
    "        '''\n",
    "        img_url = urljoin(detail_url,img_sub_url)\n",
    "        #print(img_url)\n",
    "        member_detail_dict['이미지'] = img_url\n",
    "        \n",
    "        #print(member_detail_dict)        \n",
    "                        \n",
    "        #1명의 정보가 저장된 dict를 list에 추가하기\n",
    "        member_detail_list.append(member_detail_dict)\n",
    "    else:\n",
    "        print(res.status_code)\n",
    "        \n",
    "print(len(member_detail_list))\n",
    "#print(member_detail_list[298:])\n",
    "print('===> 스크래핑 끝')"
   ]
  },
  {
   "cell_type": "code",
   "execution_count": 31,
   "id": "aae48c27",
   "metadata": {},
   "outputs": [
    {
     "name": "stdout",
     "output_type": "stream",
     "text": [
      "===> 스크래핑 시작\n",
      "40\n",
      "===> 스크래핑 끝\n"
     ]
    }
   ],
   "source": [
    "import requests\n",
    "from bs4 import BeautifulSoup\n",
    "import re\n",
    "from urllib.parse import urljoin\n",
    "\n",
    "print('===> 스크래핑 시작')\n",
    "#297명의 정보를 저장하는 List\n",
    "member_detail_list = []\n",
    "\n",
    "headers = {\n",
    "    'user-agent':'Mozilla/5.0 (Windows NT 10.0; Win64; x64) AppleWebKit/537.36 (KHTML, like Gecko) Chrome/74.0.3729.169 Safari/537.36'\n",
    "}\n",
    "\n",
    "for idx,mem_id in enumerate(id_list_300,1):\n",
    "    detail_url = f'https://www.assembly.go.kr/members/22st/{mem_id}'\n",
    "    res = requests.get(detail_url, headers=headers)\n",
    "    #print(res.ok, idx, detail_url)\n",
    "    \n",
    "    if res.ok:\n",
    "        soup = BeautifulSoup(res.text, 'html.parser')\n",
    "        \n",
    "        #1명의 정보를 저장하는 dict 선언\n",
    "        member_detail_dict = {}\n",
    "        dt_list = [dt_tag.text for dt_tag in soup.select('ul.list li dt')]\n",
    "        #print(dt_list)\n",
    "        \n",
    "        dd_list = []        \n",
    "        for dd_tag in soup.select('ul.list li dd'):\n",
    "            pattern = re.compile(f'[\\n\\r\\t]')\n",
    "            dd_text = pattern.sub('',dd_tag.text.strip()).replace(\" \",\"\")\n",
    "            dd_list.append(dd_text)\n",
    "        #print(dd_list)\n",
    "        '''\n",
    "        ds_list = ['선거구', '소속위원회', '당선횟수', '사무실 전화', '사무실 호실', '개별 홈페이지', '이메일', '보좌관', '선임비서관', '비서관', '의원실 안내']\n",
    "        dd_list = ['비례대표', '교육위원회', '초선(제22대)2024.05.30~제22대국회의원', '02-784-5601', '의원회관515호', 'https://blog.naver.com/grace6752', 'gracesook52@rebuildingk.kr', '김재삼,서용선', '김홍,오세령', '권혁,박문혁,김예닮,이경열,김희경', '']\n",
    "        member_detail_dict = {'선거구': '비례대표', '소속위원회': '교육위원회', '당선횟수': '초선(제22대)2024.05.30~제22대국회의원', '사무실 전화': '02-784-5601', '사무실 호실': '의원회관515호', '개별 홈페이지': 'https://blog.naver.com/grace6752', '이메일': 'gracesook52@rebuildingk.kr', '보좌관': '김재삼,서용선', '선임비서관': '김홍,오세령', '비서관': '권혁,박문혁,김예닮,이경열,김희경', '의원실 안내': ''}\n",
    "        '''\n",
    "        member_detail_dict = dict(zip(dt_list, dd_list))\n",
    "        #print(member_detail_dict)\n",
    "        \n",
    "        # <strong>홍길동 (洪吉童)</strong>\n",
    "        name = soup.select_one('div.mamber_name').text\n",
    "        #print(name.split(' ')[0])\n",
    "        member_detail_dict['이름'] = name.split(' ')[0] #['박주민','(朴柱民)']\n",
    "        \n",
    "        ## 나이는 없어짐\n",
    "        # span_tag_age = soup.select_one('div.intro p.tit span.sm span')\n",
    "        # member_detail_dict['생년월일'] = span_tag_age.text\n",
    "        \n",
    "        spanimg_tag = soup.select('span.img-set span.img')\n",
    "        if spanimg_tag:\n",
    "            style_url = spanimg_tag[0]['style']\n",
    "            start_idx = style_url.find(\"(\")+1\n",
    "            end_idx = style_url.find(\")\")\n",
    "            img_sub_url = style_url[start_idx:end_idx].replace(\"'\",\"\")\n",
    "            img_url = urljoin(detail_url,img_sub_url)\n",
    "            #print(img_url)\n",
    "            member_detail_dict['이미지'] = img_url\n",
    "        \n",
    "        dd_tag_party = soup.select_one('div.member_assem_dang')\n",
    "        member_detail_dict['정당'] =  dd_tag_party.text\n",
    "                \n",
    "        #1명의 정보가 저장된 dict를 list에 추가하기\n",
    "        member_detail_list.append(member_detail_dict)\n",
    "    else:\n",
    "        print(res.status_code)\n",
    "        \n",
    "print(len(member_detail_list))        \n",
    "print('===> 스크래핑 끝')"
   ]
  },
  {
   "cell_type": "code",
   "execution_count": 32,
   "id": "bc2d4840",
   "metadata": {},
   "outputs": [],
   "source": [
    "import json\n",
    "\n",
    "with open('data/member.json','w') as file:\n",
    "    json.dump(member_detail_list, file)"
   ]
  },
  {
   "cell_type": "code",
   "execution_count": 33,
   "id": "73b45ed2",
   "metadata": {},
   "outputs": [
    {
     "name": "stdout",
     "output_type": "stream",
     "text": [
      "(40, 14)\n"
     ]
    },
    {
     "data": {
      "text/html": [
       "<div>\n",
       "<style scoped>\n",
       "    .dataframe tbody tr th:only-of-type {\n",
       "        vertical-align: middle;\n",
       "    }\n",
       "\n",
       "    .dataframe tbody tr th {\n",
       "        vertical-align: top;\n",
       "    }\n",
       "\n",
       "    .dataframe thead th {\n",
       "        text-align: right;\n",
       "    }\n",
       "</style>\n",
       "<table border=\"1\" class=\"dataframe\">\n",
       "  <thead>\n",
       "    <tr style=\"text-align: right;\">\n",
       "      <th></th>\n",
       "      <th>선거구</th>\n",
       "      <th>소속위원회</th>\n",
       "      <th>당선횟수</th>\n",
       "      <th>사무실 전화</th>\n",
       "      <th>사무실 호실</th>\n",
       "      <th>개별 홈페이지</th>\n",
       "      <th>이메일</th>\n",
       "      <th>보좌관</th>\n",
       "      <th>선임비서관</th>\n",
       "      <th>비서관</th>\n",
       "      <th>의원실 안내</th>\n",
       "      <th>이름</th>\n",
       "      <th>이미지</th>\n",
       "      <th>정당</th>\n",
       "    </tr>\n",
       "  </thead>\n",
       "  <tbody>\n",
       "    <tr>\n",
       "      <th>0</th>\n",
       "      <td>비례대표</td>\n",
       "      <td>교육위원회</td>\n",
       "      <td>초선(제22대)2024.05.30~제22대국회의원</td>\n",
       "      <td>02-784-5601</td>\n",
       "      <td>의원회관515호</td>\n",
       "      <td>https://blog.naver.com/grace6752</td>\n",
       "      <td>gracesook52@rebuildingk.kr</td>\n",
       "      <td>김재삼,서용선</td>\n",
       "      <td>김홍,오세령</td>\n",
       "      <td>권혁,박문혁,김예닮,이경열,김희경</td>\n",
       "      <td></td>\n",
       "      <td>\\n강경숙(姜景淑)\\n</td>\n",
       "      <td>https://www.assembly.go.kr/static/portal/img/o...</td>\n",
       "      <td>\\n\\t\\t\\t\\t\\t\\t\\t조국혁신당\\n\\t\\t\\t\\t\\t\\t</td>\n",
       "    </tr>\n",
       "    <tr>\n",
       "      <th>1</th>\n",
       "      <td>대구동구군위군을</td>\n",
       "      <td>국방위원회</td>\n",
       "      <td>재선(제21대,제22대)2024.05.30~제22대국회의원2020.05.30~202...</td>\n",
       "      <td>02-784-5275</td>\n",
       "      <td>의원회관341호</td>\n",
       "      <td></td>\n",
       "      <td>kds21341@naver.com</td>\n",
       "      <td>박홍규,유진영</td>\n",
       "      <td>김기일,이기백</td>\n",
       "      <td>박순권,김현정,황인택,박동혁,이정은</td>\n",
       "      <td></td>\n",
       "      <td>\\n강대식(姜大植)\\n</td>\n",
       "      <td>https://www.assembly.go.kr/static/portal/img/o...</td>\n",
       "      <td>\\n\\t\\t\\t\\t\\t\\t\\t국민의힘\\n\\t\\t\\t\\t\\t\\t</td>\n",
       "    </tr>\n",
       "  </tbody>\n",
       "</table>\n",
       "</div>"
      ],
      "text/plain": [
       "        선거구  소속위원회                                               당선횟수  \\\n",
       "0      비례대표  교육위원회                        초선(제22대)2024.05.30~제22대국회의원   \n",
       "1  대구동구군위군을  국방위원회  재선(제21대,제22대)2024.05.30~제22대국회의원2020.05.30~202...   \n",
       "\n",
       "        사무실 전화    사무실 호실                           개별 홈페이지  \\\n",
       "0  02-784-5601  의원회관515호  https://blog.naver.com/grace6752   \n",
       "1  02-784-5275  의원회관341호                                     \n",
       "\n",
       "                          이메일      보좌관    선임비서관                  비서관 의원실 안내  \\\n",
       "0  gracesook52@rebuildingk.kr  김재삼,서용선   김홍,오세령   권혁,박문혁,김예닮,이경열,김희경          \n",
       "1          kds21341@naver.com  박홍규,유진영  김기일,이기백  박순권,김현정,황인택,박동혁,이정은          \n",
       "\n",
       "             이름                                                이미지  \\\n",
       "0  \\n강경숙(姜景淑)\\n  https://www.assembly.go.kr/static/portal/img/o...   \n",
       "1  \\n강대식(姜大植)\\n  https://www.assembly.go.kr/static/portal/img/o...   \n",
       "\n",
       "                                    정당  \n",
       "0  \\n\\t\\t\\t\\t\\t\\t\\t조국혁신당\\n\\t\\t\\t\\t\\t\\t  \n",
       "1   \\n\\t\\t\\t\\t\\t\\t\\t국민의힘\\n\\t\\t\\t\\t\\t\\t  "
      ]
     },
     "execution_count": 33,
     "metadata": {},
     "output_type": "execute_result"
    }
   ],
   "source": [
    "import pandas as pd\n",
    "\n",
    "member_json_df = pd.read_json('data/member.json')\n",
    "print(member_json_df.shape)\n",
    "member_json_df.head(2)"
   ]
  },
  {
   "cell_type": "code",
   "execution_count": null,
   "id": "ce32bb08",
   "metadata": {},
   "outputs": [
    {
     "data": {
      "text/html": [
       "<div>\n",
       "<style scoped>\n",
       "    .dataframe tbody tr th:only-of-type {\n",
       "        vertical-align: middle;\n",
       "    }\n",
       "\n",
       "    .dataframe tbody tr th {\n",
       "        vertical-align: top;\n",
       "    }\n",
       "\n",
       "    .dataframe thead th {\n",
       "        text-align: right;\n",
       "    }\n",
       "</style>\n",
       "<table border=\"1\" class=\"dataframe\">\n",
       "  <thead>\n",
       "    <tr style=\"text-align: right;\">\n",
       "      <th></th>\n",
       "      <th>이름</th>\n",
       "      <th>정당</th>\n",
       "      <th>생년월일</th>\n",
       "      <th>당선횟수</th>\n",
       "      <th>선거구</th>\n",
       "      <th>소속위원회</th>\n",
       "      <th>이미지</th>\n",
       "      <th>사무실 전화</th>\n",
       "      <th>사무실 호실</th>\n",
       "      <th>의원 홈페이지</th>\n",
       "      <th>개별 홈페이지</th>\n",
       "      <th>이메일</th>\n",
       "      <th>보좌관</th>\n",
       "      <th>선임비서관</th>\n",
       "      <th>비서관</th>\n",
       "      <th>의원실 안내</th>\n",
       "    </tr>\n",
       "  </thead>\n",
       "  <tbody>\n",
       "    <tr>\n",
       "      <th>0</th>\n",
       "      <td>\\n강경숙(姜景淑)\\n</td>\n",
       "      <td>\\n\\t\\t\\t\\t\\t\\t\\t조국혁신당\\n\\t\\t\\t\\t\\t\\t</td>\n",
       "      <td>NaN</td>\n",
       "      <td>초선(제22대)2024.05.30~제22대국회의원</td>\n",
       "      <td>비례대표</td>\n",
       "      <td>교육위원회</td>\n",
       "      <td>https://www.assembly.go.kr/static/portal/img/o...</td>\n",
       "      <td>02-784-5601</td>\n",
       "      <td>의원회관515호</td>\n",
       "      <td>NaN</td>\n",
       "      <td>https://blog.naver.com/grace6752</td>\n",
       "      <td>gracesook52@rebuildingk.kr</td>\n",
       "      <td>김재삼,서용선</td>\n",
       "      <td>김홍,오세령</td>\n",
       "      <td>권혁,박문혁,김예닮,이경열,김희경</td>\n",
       "      <td></td>\n",
       "    </tr>\n",
       "    <tr>\n",
       "      <th>0</th>\n",
       "      <td>\\n강대식(姜大植)\\n</td>\n",
       "      <td>\\n\\t\\t\\t\\t\\t\\t\\t국민의힘\\n\\t\\t\\t\\t\\t\\t</td>\n",
       "      <td>NaN</td>\n",
       "      <td>재선(제21대,제22대)2024.05.30~제22대국회의원2020.05.30~202...</td>\n",
       "      <td>대구동구군위군을</td>\n",
       "      <td>국방위원회</td>\n",
       "      <td>https://www.assembly.go.kr/static/portal/img/o...</td>\n",
       "      <td>02-784-5275</td>\n",
       "      <td>의원회관341호</td>\n",
       "      <td>NaN</td>\n",
       "      <td></td>\n",
       "      <td>kds21341@naver.com</td>\n",
       "      <td>박홍규,유진영</td>\n",
       "      <td>김기일,이기백</td>\n",
       "      <td>박순권,김현정,황인택,박동혁,이정은</td>\n",
       "      <td></td>\n",
       "    </tr>\n",
       "  </tbody>\n",
       "</table>\n",
       "</div>"
      ],
      "text/plain": [
       "             이름                                   정당 생년월일  \\\n",
       "0  \\n강경숙(姜景淑)\\n  \\n\\t\\t\\t\\t\\t\\t\\t조국혁신당\\n\\t\\t\\t\\t\\t\\t  NaN   \n",
       "0  \\n강대식(姜大植)\\n   \\n\\t\\t\\t\\t\\t\\t\\t국민의힘\\n\\t\\t\\t\\t\\t\\t  NaN   \n",
       "\n",
       "                                                당선횟수       선거구  소속위원회  \\\n",
       "0                        초선(제22대)2024.05.30~제22대국회의원      비례대표  교육위원회   \n",
       "0  재선(제21대,제22대)2024.05.30~제22대국회의원2020.05.30~202...  대구동구군위군을  국방위원회   \n",
       "\n",
       "                                                 이미지       사무실 전화    사무실 호실  \\\n",
       "0  https://www.assembly.go.kr/static/portal/img/o...  02-784-5601  의원회관515호   \n",
       "0  https://www.assembly.go.kr/static/portal/img/o...  02-784-5275  의원회관341호   \n",
       "\n",
       "  의원 홈페이지                           개별 홈페이지                         이메일  \\\n",
       "0     NaN  https://blog.naver.com/grace6752  gracesook52@rebuildingk.kr   \n",
       "0     NaN                                            kds21341@naver.com   \n",
       "\n",
       "       보좌관    선임비서관                  비서관 의원실 안내  \n",
       "0  김재삼,서용선   김홍,오세령   권혁,박문혁,김예닮,이경열,김희경         \n",
       "0  박홍규,유진영  김기일,이기백  박순권,김현정,황인택,박동혁,이정은         "
      ]
     },
     "execution_count": 34,
     "metadata": {},
     "output_type": "execute_result"
    }
   ],
   "source": [
    "import pandas as pd\n",
    "\n",
    "member_df = pd.DataFrame(columns=['이름','정당','생년월일','당선횟수','선거구','소속위원회','이미지','사무실 전화','사무실 호실',\\\n",
    "                                  '의원 홈페이지','개별 홈페이지','이메일','보좌관','선임비서관','비서관','의원실 안내'])\n",
    "\n",
    "for member_detail in member_detail_list:\n",
    "    #pd.DataFrame.from_records([member_detail]): 이 딕셔너리를 한 줄짜리 DataFrame으로 변환.\n",
    "    df_new_row = pd.DataFrame.from_records([member_detail])\n",
    "    #pd.concat([...]): 기존 member_df에 새 행을 하나씩 붙이는 방식.\n",
    "    member_df = pd.concat([member_df, df_new_row])\n",
    "    \n",
    "    #series_obj = pd.Series(member_detail)\n",
    "    # Series 객체를 append \n",
    "    #member_df = member_df.append(series_obj, ignore_index=True)\n",
    "    \n",
    "member_df.head(2)"
   ]
  },
  {
   "cell_type": "code",
   "execution_count": 35,
   "id": "b8dce471",
   "metadata": {},
   "outputs": [
    {
     "data": {
      "text/plain": [
       "(40, 16)"
      ]
     },
     "execution_count": 35,
     "metadata": {},
     "output_type": "execute_result"
    }
   ],
   "source": [
    "member_df.shape"
   ]
  },
  {
   "cell_type": "code",
   "execution_count": 37,
   "id": "91b00315",
   "metadata": {},
   "outputs": [
    {
     "data": {
      "text/plain": [
       "Index([ 1,  2,  3,  4,  5,  6,  7,  8,  9, 10, 11, 12, 13, 14, 15, 16, 17, 18,\n",
       "       19, 20, 21, 22, 23, 24, 25, 26, 27, 28, 29, 30, 31, 32, 33, 34, 35, 36,\n",
       "       37, 38, 39, 40],\n",
       "      dtype='int64')"
      ]
     },
     "execution_count": 37,
     "metadata": {},
     "output_type": "execute_result"
    }
   ],
   "source": [
    "import numpy as np\n",
    "\n",
    "#index 변경, 이걸 통해 인덱스를 기존의 0부터 시작하는 숫자가 아니라 1부터 시작하는 인덱스로 바꾸는 것\n",
    "member_df.index = np.arange(1, len(member_df)+1)\n",
    "member_df.index"
   ]
  },
  {
   "cell_type": "code",
   "execution_count": 40,
   "id": "a976b152",
   "metadata": {},
   "outputs": [
    {
     "data": {
      "text/html": [
       "<div>\n",
       "<style scoped>\n",
       "    .dataframe tbody tr th:only-of-type {\n",
       "        vertical-align: middle;\n",
       "    }\n",
       "\n",
       "    .dataframe tbody tr th {\n",
       "        vertical-align: top;\n",
       "    }\n",
       "\n",
       "    .dataframe thead th {\n",
       "        text-align: right;\n",
       "    }\n",
       "</style>\n",
       "<table border=\"1\" class=\"dataframe\">\n",
       "  <thead>\n",
       "    <tr style=\"text-align: right;\">\n",
       "      <th></th>\n",
       "      <th>이름</th>\n",
       "      <th>정당</th>\n",
       "      <th>생년월일</th>\n",
       "      <th>당선횟수</th>\n",
       "      <th>선거구</th>\n",
       "      <th>소속위원회</th>\n",
       "      <th>이미지</th>\n",
       "      <th>사무실 전화</th>\n",
       "      <th>사무실 호실</th>\n",
       "      <th>의원 홈페이지</th>\n",
       "      <th>개별 홈페이지</th>\n",
       "      <th>이메일</th>\n",
       "      <th>보좌관</th>\n",
       "      <th>선임비서관</th>\n",
       "      <th>비서관</th>\n",
       "      <th>의원실 안내</th>\n",
       "    </tr>\n",
       "  </thead>\n",
       "  <tbody>\n",
       "    <tr>\n",
       "      <th>1</th>\n",
       "      <td>\\n강경숙(姜景淑)\\n</td>\n",
       "      <td>\\n\\t\\t\\t\\t\\t\\t\\t조국혁신당\\n\\t\\t\\t\\t\\t\\t</td>\n",
       "      <td>NaN</td>\n",
       "      <td>초선(제22대)2024.05.30~제22대국회의원</td>\n",
       "      <td>비례대표</td>\n",
       "      <td>교육위원회</td>\n",
       "      <td>https://www.assembly.go.kr/static/portal/img/o...</td>\n",
       "      <td>02-784-5601</td>\n",
       "      <td>의원회관515호</td>\n",
       "      <td>NaN</td>\n",
       "      <td>https://blog.naver.com/grace6752</td>\n",
       "      <td>gracesook52@rebuildingk.kr</td>\n",
       "      <td>김재삼,서용선</td>\n",
       "      <td>김홍,오세령</td>\n",
       "      <td>권혁,박문혁,김예닮,이경열,김희경</td>\n",
       "      <td></td>\n",
       "    </tr>\n",
       "    <tr>\n",
       "      <th>2</th>\n",
       "      <td>\\n강대식(姜大植)\\n</td>\n",
       "      <td>\\n\\t\\t\\t\\t\\t\\t\\t국민의힘\\n\\t\\t\\t\\t\\t\\t</td>\n",
       "      <td>NaN</td>\n",
       "      <td>재선(제21대,제22대)2024.05.30~제22대국회의원2020.05.30~202...</td>\n",
       "      <td>대구동구군위군을</td>\n",
       "      <td>국방위원회</td>\n",
       "      <td>https://www.assembly.go.kr/static/portal/img/o...</td>\n",
       "      <td>02-784-5275</td>\n",
       "      <td>의원회관341호</td>\n",
       "      <td>NaN</td>\n",
       "      <td></td>\n",
       "      <td>kds21341@naver.com</td>\n",
       "      <td>박홍규,유진영</td>\n",
       "      <td>김기일,이기백</td>\n",
       "      <td>박순권,김현정,황인택,박동혁,이정은</td>\n",
       "      <td></td>\n",
       "    </tr>\n",
       "  </tbody>\n",
       "</table>\n",
       "</div>"
      ],
      "text/plain": [
       "             이름                                   정당 생년월일  \\\n",
       "1  \\n강경숙(姜景淑)\\n  \\n\\t\\t\\t\\t\\t\\t\\t조국혁신당\\n\\t\\t\\t\\t\\t\\t  NaN   \n",
       "2  \\n강대식(姜大植)\\n   \\n\\t\\t\\t\\t\\t\\t\\t국민의힘\\n\\t\\t\\t\\t\\t\\t  NaN   \n",
       "\n",
       "                                                당선횟수       선거구  소속위원회  \\\n",
       "1                        초선(제22대)2024.05.30~제22대국회의원      비례대표  교육위원회   \n",
       "2  재선(제21대,제22대)2024.05.30~제22대국회의원2020.05.30~202...  대구동구군위군을  국방위원회   \n",
       "\n",
       "                                                 이미지       사무실 전화    사무실 호실  \\\n",
       "1  https://www.assembly.go.kr/static/portal/img/o...  02-784-5601  의원회관515호   \n",
       "2  https://www.assembly.go.kr/static/portal/img/o...  02-784-5275  의원회관341호   \n",
       "\n",
       "  의원 홈페이지                           개별 홈페이지                         이메일  \\\n",
       "1     NaN  https://blog.naver.com/grace6752  gracesook52@rebuildingk.kr   \n",
       "2     NaN                                            kds21341@naver.com   \n",
       "\n",
       "       보좌관    선임비서관                  비서관 의원실 안내  \n",
       "1  김재삼,서용선   김홍,오세령   권혁,박문혁,김예닮,이경열,김희경         \n",
       "2  박홍규,유진영  김기일,이기백  박순권,김현정,황인택,박동혁,이정은         "
      ]
     },
     "execution_count": 40,
     "metadata": {},
     "output_type": "execute_result"
    }
   ],
   "source": [
    "member_df.head(2)"
   ]
  },
  {
   "cell_type": "code",
   "execution_count": 39,
   "id": "265b2769",
   "metadata": {},
   "outputs": [
    {
     "name": "stdout",
     "output_type": "stream",
     "text": [
      "<class 'pandas.core.frame.DataFrame'>\n",
      "Index: 40 entries, 1 to 40\n",
      "Data columns (total 16 columns):\n",
      " #   Column   Non-Null Count  Dtype \n",
      "---  ------   --------------  ----- \n",
      " 0   이름       40 non-null     object\n",
      " 1   정당       40 non-null     object\n",
      " 2   생년월일     0 non-null      object\n",
      " 3   당선횟수     40 non-null     object\n",
      " 4   선거구      40 non-null     object\n",
      " 5   소속위원회    40 non-null     object\n",
      " 6   이미지      40 non-null     object\n",
      " 7   사무실 전화   40 non-null     object\n",
      " 8   사무실 호실   40 non-null     object\n",
      " 9   의원 홈페이지  0 non-null      object\n",
      " 10  개별 홈페이지  40 non-null     object\n",
      " 11  이메일      40 non-null     object\n",
      " 12  보좌관      40 non-null     object\n",
      " 13  선임비서관    40 non-null     object\n",
      " 14  비서관      40 non-null     object\n",
      " 15  의원실 안내   40 non-null     object\n",
      "dtypes: object(16)\n",
      "memory usage: 5.3+ KB\n"
     ]
    }
   ],
   "source": [
    "member_df.info()"
   ]
  },
  {
   "cell_type": "code",
   "execution_count": 41,
   "id": "aa92bfca",
   "metadata": {},
   "outputs": [
    {
     "name": "stdout",
     "output_type": "stream",
     "text": [
      "<class 'pandas.core.series.Series'>\n",
      "<class 'pandas.core.strings.accessor.StringMethods'>\n"
     ]
    },
    {
     "data": {
      "text/html": [
       "<div>\n",
       "<style scoped>\n",
       "    .dataframe tbody tr th:only-of-type {\n",
       "        vertical-align: middle;\n",
       "    }\n",
       "\n",
       "    .dataframe tbody tr th {\n",
       "        vertical-align: top;\n",
       "    }\n",
       "\n",
       "    .dataframe thead th {\n",
       "        text-align: right;\n",
       "    }\n",
       "</style>\n",
       "<table border=\"1\" class=\"dataframe\">\n",
       "  <thead>\n",
       "    <tr style=\"text-align: right;\">\n",
       "      <th></th>\n",
       "      <th>선거구</th>\n",
       "      <th>선거구2</th>\n",
       "    </tr>\n",
       "  </thead>\n",
       "  <tbody>\n",
       "    <tr>\n",
       "      <th>1</th>\n",
       "      <td>비례대표</td>\n",
       "      <td>비례</td>\n",
       "    </tr>\n",
       "    <tr>\n",
       "      <th>2</th>\n",
       "      <td>대구동구군위군을</td>\n",
       "      <td>대구</td>\n",
       "    </tr>\n",
       "    <tr>\n",
       "      <th>3</th>\n",
       "      <td>경기안양시만안구</td>\n",
       "      <td>경기</td>\n",
       "    </tr>\n",
       "  </tbody>\n",
       "</table>\n",
       "</div>"
      ],
      "text/plain": [
       "        선거구 선거구2\n",
       "1      비례대표   비례\n",
       "2  대구동구군위군을   대구\n",
       "3  경기안양시만안구   경기"
      ]
     },
     "execution_count": 41,
     "metadata": {},
     "output_type": "execute_result"
    }
   ],
   "source": [
    "#선거구2 컬럼을 새로 추가\n",
    "#경남창원시성산구 -> 경남\n",
    "print(type(member_df['선거구']))\n",
    "print(type(member_df['선거구'].str))\n",
    "#Series객체를 StringMethods 객체로 변환(문자열 슬라이싱을 하기 위해서)\n",
    "temp_str = member_df['선거구'].str\n",
    "#2글자 슬라이싱 값을 선거구2 라는 컬럼으로 저장\n",
    "member_df['선거구2'] = temp_str[:2]\n",
    "\n",
    "member_df.loc[0:3,['선거구','선거구2']]"
   ]
  },
  {
   "cell_type": "code",
   "execution_count": 42,
   "id": "87ec7f07",
   "metadata": {},
   "outputs": [
    {
     "data": {
      "text/plain": [
       "선거구2\n",
       "서울    9\n",
       "비례    5\n",
       "경기    5\n",
       "대구    4\n",
       "부산    4\n",
       "경북    3\n",
       "충남    2\n",
       "전남    2\n",
       "울산    2\n",
       "경남    1\n",
       "세종    1\n",
       "강원    1\n",
       "인천    1\n",
       "Name: count, dtype: int64"
      ]
     },
     "execution_count": 42,
     "metadata": {},
     "output_type": "execute_result"
    }
   ],
   "source": [
    "member_df['선거구2'].value_counts()"
   ]
  },
  {
   "cell_type": "code",
   "execution_count": 43,
   "id": "57e08a50",
   "metadata": {},
   "outputs": [
    {
     "data": {
      "text/plain": [
       "36    https://www.assembly.go.kr/static/portal/img/o...\n",
       "37    https://www.assembly.go.kr/static/portal/img/o...\n",
       "38    https://www.assembly.go.kr/static/portal/img/o...\n",
       "39    https://www.assembly.go.kr/static/portal/img/o...\n",
       "40    https://www.assembly.go.kr/static/portal/img/o...\n",
       "Name: 이미지, dtype: object"
      ]
     },
     "execution_count": 43,
     "metadata": {},
     "output_type": "execute_result"
    }
   ],
   "source": [
    "member_df['이미지'].tail()"
   ]
  },
  {
   "cell_type": "code",
   "execution_count": 44,
   "id": "176ffbba",
   "metadata": {},
   "outputs": [],
   "source": [
    "%matplotlib inline"
   ]
  },
  {
   "cell_type": "code",
   "execution_count": 45,
   "id": "b8637759",
   "metadata": {},
   "outputs": [],
   "source": [
    "import matplotlib\n",
    "import matplotlib.pyplot as plt\n",
    "import matplotlib.font_manager as fm\n",
    "\n",
    "import seaborn as sns"
   ]
  },
  {
   "cell_type": "code",
   "execution_count": 46,
   "id": "95ecc969",
   "metadata": {},
   "outputs": [
    {
     "name": "stdout",
     "output_type": "stream",
     "text": [
      "AppleGothic\n"
     ]
    }
   ],
   "source": [
    "# font name을 알고 있다면 생략가능\n",
    "#한글폰트 path 설정\n",
    "font_path = '/System/Library/Fonts/Supplemental/AppleGothic.ttf'\n",
    "#font의 파일정보로 font name 을 알아내기\n",
    "font_prop = fm.FontProperties(fname=font_path).get_name()\n",
    "plt.rc('font', family=font_prop)\n",
    "print(font_prop)"
   ]
  },
  {
   "cell_type": "code",
   "execution_count": 47,
   "id": "acfec6a6",
   "metadata": {},
   "outputs": [
    {
     "data": {
      "text/plain": [
       "정당\n",
       "\\n\\t\\t\\t\\t\\t\\t\\t국민의힘\\n\\t\\t\\t\\t\\t\\t      21\n",
       "\\n\\t\\t\\t\\t\\t\\t\\t더불어민주당\\n\\t\\t\\t\\t\\t\\t    18\n",
       "\\n\\t\\t\\t\\t\\t\\t\\t조국혁신당\\n\\t\\t\\t\\t\\t\\t      1\n",
       "Name: count, dtype: int64"
      ]
     },
     "execution_count": 47,
     "metadata": {},
     "output_type": "execute_result"
    }
   ],
   "source": [
    "member_df['정당'].value_counts()"
   ]
  },
  {
   "cell_type": "code",
   "execution_count": 48,
   "id": "d34d40c0",
   "metadata": {},
   "outputs": [
    {
     "data": {
      "text/plain": [
       "Index(['\\n\\t\\t\\t\\t\\t\\t\\t국민의힘\\n\\t\\t\\t\\t\\t\\t',\n",
       "       '\\n\\t\\t\\t\\t\\t\\t\\t더불어민주당\\n\\t\\t\\t\\t\\t\\t',\n",
       "       '\\n\\t\\t\\t\\t\\t\\t\\t조국혁신당\\n\\t\\t\\t\\t\\t\\t'],\n",
       "      dtype='object', name='정당')"
      ]
     },
     "execution_count": 48,
     "metadata": {},
     "output_type": "execute_result"
    }
   ],
   "source": [
    "member_df['정당'].value_counts().index"
   ]
  },
  {
   "cell_type": "code",
   "execution_count": 52,
   "id": "c4100c24",
   "metadata": {},
   "outputs": [
    {
     "data": {
      "text/plain": [
       "<Axes: xlabel='당선횟수', ylabel='count'>"
      ]
     },
     "execution_count": 52,
     "metadata": {},
     "output_type": "execute_result"
    },
    {
     "data": {
      "image/png": "[encoded data removed]",
      "text/plain": [
       "<Figure size 1800x1200 with 2 Axes>"
      ]
     },
     "metadata": {},
     "output_type": "display_data"
    }
   ],
   "source": [
    "figure, (axes1,axes2) = plt.subplots(nrows=2, ncols=1)\n",
    "figure.set_size_inches(18,12)\n",
    "\n",
    "sns.countplot(data=member_df, x='정당', ax=axes1, order=member_df['정당'].value_counts().index, hue='정당')\n",
    "sns.countplot(data=member_df, x='당선횟수', ax=axes2, order=member_df['당선횟수'].value_counts().index,hue='당선횟수')"
   ]
  },
  {
   "cell_type": "code",
   "execution_count": 53,
   "id": "c673e269",
   "metadata": {},
   "outputs": [
    {
     "data": {
      "text/plain": [
       "<Axes: xlabel='count', ylabel='선거구2'>"
      ]
     },
     "execution_count": 53,
     "metadata": {},
     "output_type": "execute_result"
    },
    {
     "data": {
      "image/png": "[encoded data removed]",
      "text/plain": [
       "<Figure size 1800x1200 with 1 Axes>"
      ]
     },
     "metadata": {},
     "output_type": "display_data"
    }
   ],
   "source": [
    "#선거구2 컬럼을 값으로  countplot 그리기\n",
    "figure, axes1 = plt.subplots(nrows=1, ncols=1)\n",
    "figure.set_size_inches(18,12)\n",
    "sns.countplot(data=member_df, y='선거구2', ax=axes1, order=member_df['선거구2'].value_counts().index,hue='선거구2')"
   ]
  }
 ],
 "metadata": {
  "kernelspec": {
   "display_name": "venv",
   "language": "python",
   "name": "python3"
  },
  "language_info": {
   "codemirror_mode": {
    "name": "ipython",
    "version": 3
   },
   "file_extension": ".py",
   "mimetype": "text/x-python",
   "name": "python",
   "nbconvert_exporter": "python",
   "pygments_lexer": "ipython3",
   "version": "3.12.0"
  }
 },
 "nbformat": 4,
 "nbformat_minor": 5
}
