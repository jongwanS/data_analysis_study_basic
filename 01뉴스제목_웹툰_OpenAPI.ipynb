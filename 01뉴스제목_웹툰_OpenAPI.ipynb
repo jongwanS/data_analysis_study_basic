{
 "cells": [
  {
   "metadata": {},
   "cell_type": "markdown",
   "source": "## 1. 뉴스제목 가져오기",
   "id": "ecec92612335152"
  },
  {
   "cell_type": "code",
   "id": "initial_id",
   "metadata": {
    "collapsed": true,
    "ExecuteTime": {
     "end_time": "2025-02-25T14:09:46.287616Z",
     "start_time": "2025-02-25T14:09:45.423398Z"
    }
   },
   "source": [
    "#!는 쉘 명령어를 실행할때 사용\n",
    "#requests 라이브러리는 http 호출 관련 라이브러리\n",
    "!pip show requests"
   ],
   "outputs": [
    {
     "name": "stdout",
     "output_type": "stream",
     "text": [
      "Name: requests\r\n",
      "Version: 2.32.3\r\n",
      "Summary: Python HTTP for Humans.\r\n",
      "Home-page: https://requests.readthedocs.io\r\n",
      "Author: Kenneth Reitz\r\n",
      "Author-email: me@kennethreitz.org\r\n",
      "License: Apache-2.0\r\n",
      "Location: /Users/limjong-wan/Desktop/study/data_analysis/venv/lib/python3.12/site-packages\r\n",
      "Requires: certifi, charset-normalizer, idna, urllib3\r\n",
      "Required-by: jupyterlab_server\r\n"
     ]
    }
   ],
   "execution_count": 16
  },
  {
   "metadata": {
    "ExecuteTime": {
     "end_time": "2025-02-25T14:09:47.058463Z",
     "start_time": "2025-02-25T14:09:46.329094Z"
    }
   },
   "cell_type": "code",
   "source": "!pip show beautifulsoup4",
   "id": "b736f289a49fbf1",
   "outputs": [
    {
     "name": "stdout",
     "output_type": "stream",
     "text": [
      "Name: beautifulsoup4\r\n",
      "Version: 4.13.3\r\n",
      "Summary: Screen-scraping library\r\n",
      "Home-page: \r\n",
      "Author: \r\n",
      "Author-email: Leonard Richardson <leonardr@segfault.org>\r\n",
      "License: MIT License\r\n",
      "Location: /Users/limjong-wan/Desktop/study/data_analysis/venv/lib/python3.12/site-packages\r\n",
      "Requires: soupsieve, typing-extensions\r\n",
      "Required-by: nbconvert\r\n"
     ]
    }
   ],
   "execution_count": 17
  },
  {
   "metadata": {
    "ExecuteTime": {
     "end_time": "2025-02-25T14:09:47.101029Z",
     "start_time": "2025-02-25T14:09:47.098257Z"
    }
   },
   "cell_type": "code",
   "source": [
    "import requests\n",
    "import bs4\n",
    "from bs4 import BeautifulSoup"
   ],
   "id": "59be8394553d589",
   "outputs": [],
   "execution_count": 18
  },
  {
   "metadata": {
    "ExecuteTime": {
     "end_time": "2025-02-25T14:09:47.111800Z",
     "start_time": "2025-02-25T14:09:47.109895Z"
    }
   },
   "cell_type": "code",
   "source": [
    "print(f'requests 버전 {requests.__version__}' )\n",
    "print('beautifulsoup 버전 {}'.format(bs4.__version__))"
   ],
   "id": "f619c28a97728d69",
   "outputs": [
    {
     "name": "stdout",
     "output_type": "stream",
     "text": [
      "requests 버전 2.32.3\n",
      "beautifulsoup 버전 4.13.3\n"
     ]
    }
   ],
   "execution_count": 19
  },
  {
   "metadata": {
    "ExecuteTime": {
     "end_time": "2025-02-25T14:09:47.325662Z",
     "start_time": "2025-02-25T14:09:47.174645Z"
    }
   },
   "cell_type": "code",
   "outputs": [
    {
     "name": "stdout",
     "output_type": "stream",
     "text": [
      "url : https://news.naver.com/section/105\n",
      "<class 'requests.models.Response'>\n",
      "200\n",
      "<class 'bs4.element.ResultSet'>\n",
      "다쏘시스템-쿠카, 로봇공학·자동화 효율성 향상 파트너십 https://n.news.naver.com/mnews/article/029/0002937640\n",
      " https://n.news.naver.com/mnews/article/comment/029/0002937640\n",
      "차세대 발사체 재사용화 공식 절차 밟는다... 한화와 지재권 갈등 해결되나 https://n.news.naver.com/mnews/article/469/0000850777\n",
      " https://n.news.naver.com/mnews/article/comment/469/0000850777\n",
      "LGU+, AI비서 ‘익시오’에 양자내성암호 심는다 [MWC 2025] https://n.news.naver.com/mnews/article/011/0004454397\n",
      " https://n.news.naver.com/mnews/article/comment/011/0004454397\n",
      "네이버 '레벨제' 도입…'조직 쇄신' 긴장감 https://n.news.naver.com/mnews/article/014/0005312943\n",
      " https://n.news.naver.com/mnews/article/comment/014/0005312943\n",
      "유상임 과기정통부 장관 \"한국 AI, 인프라·모델·인재 모두 해외와 격차 커\" https://n.news.naver.com/mnews/article/138/0002191519\n",
      " https://n.news.naver.com/mnews/article/comment/138/0002191519\n",
      "티맵모빌리티, 작년 매출 3226억…'데이터·솔루션' 실적 견인 https://n.news.naver.com/mnews/article/018/0005951076\n",
      " https://n.news.naver.com/mnews/article/comment/018/0005951076\n",
      "NHN, 좀비 게임 ‘다키스트 데이즈’ 글로벌 테스트 시작 https://n.news.naver.com/mnews/article/009/0005449760\n",
      " https://n.news.naver.com/mnews/article/comment/009/0005449760\n",
      "키움 '독점' 깨진다…4개 운용사 美 양자컴 ETF 3월 출시 https://n.news.naver.com/mnews/article/011/0004454705\n",
      " https://n.news.naver.com/mnews/article/comment/011/0004454705\n",
      "\"국산 AI 반도체 상용화 속도…올해 의료·공공 등 AI서비스 실증\" https://n.news.naver.com/mnews/article/031/0000911724\n",
      " https://n.news.naver.com/mnews/article/comment/031/0000911724\n",
      "\"지금이 韓 AI 골든타임…규제는 2~3년 유예기간 두자\" https://n.news.naver.com/mnews/article/277/0005551940\n",
      " https://n.news.naver.com/mnews/article/comment/277/0005551940\n",
      "“언제부터 짜장면 배달비 냈다고?” 무료 배달 ‘대박’났다더니…이 정도였어? https://n.news.naver.com/mnews/article/016/0002434040\n",
      " https://n.news.naver.com/mnews/article/comment/016/0002434040\n",
      "화성이 붉은 이유, 물이 있었기 때문…\"물 함유 산화철 확인\" https://n.news.naver.com/mnews/article/584/0000031096\n",
      " https://n.news.naver.com/mnews/article/comment/584/0000031096\n",
      "보스턴다이내믹스 창립자 \"인간 같은 로봇, 현 AI 기술론 부족\" https://n.news.naver.com/mnews/article/029/0002937729\n",
      " https://n.news.naver.com/mnews/article/comment/029/0002937729\n",
      "“완전 새 옷을 태워 버린다니” 이게 말이 돼?…차라리 나눠주지, 왜? [지구, 뭐래?] https://n.news.naver.com/mnews/article/016/0002434032\n",
      " https://n.news.naver.com/mnews/article/comment/016/0002434032\n",
      "김재교 메리츠증권 부사장, 한미사이언스 대표 내정 https://n.news.naver.com/mnews/article/018/0005951136\n",
      " https://n.news.naver.com/mnews/article/comment/018/0005951136\n",
      "갤럭시 S25 흥행에⋯SKT, 아이폰16 공시지원금 47만원↑ https://n.news.naver.com/mnews/article/031/0000911681\n",
      " https://n.news.naver.com/mnews/article/comment/031/0000911681\n",
      "컴퓨터 조작하는 AI 'CUA' 상용화… 국내 개발은 지지부진 https://n.news.naver.com/mnews/article/014/0005313325\n",
      " https://n.news.naver.com/mnews/article/comment/014/0005313325\n",
      "KTOA \"AI에 명운 건 이통사⋯정책지원·규제개선 필요\"(종합) https://n.news.naver.com/mnews/article/031/0000911676\n",
      " https://n.news.naver.com/mnews/article/comment/031/0000911676\n",
      "삼성·LG에 밀린 日 JDI, 생존 위해 美 밀착 https://n.news.naver.com/mnews/article/031/0000911675\n",
      " https://n.news.naver.com/mnews/article/comment/031/0000911675\n",
      "스페이스X '팰콘9'처럼… 韓도 차세대발사체, 2032년까지 재사용 발사체로 개발 https://n.news.naver.com/mnews/article/014/0005313269\n",
      " https://n.news.naver.com/mnews/article/comment/014/0005313269\n",
      "\"한번 쓰고 버리는 소비 개념 저문다...버추얼 트윈이 순환 시스템 촉진\" https://n.news.naver.com/mnews/article/092/0002364554\n",
      " https://n.news.naver.com/mnews/article/comment/092/0002364554\n",
      "인터넷기업협회 \"AI 인재에 병역특례 적용 필요\"(종합2보) https://n.news.naver.com/mnews/article/001/0015233447\n",
      " https://n.news.naver.com/mnews/article/comment/001/0015233447\n",
      "AI는 세상에 없던 기술, 결국 창의력 싸움 https://n.news.naver.com/mnews/article/009/0005449825\n",
      " https://n.news.naver.com/mnews/article/comment/009/0005449825\n",
      "\"일주일에 소주 5~6병 마시면 못 걸을 수 있다\"…대퇴골두 골괴사, 예방법은 https://n.news.naver.com/mnews/article/421/0008097649\n",
      " https://n.news.naver.com/mnews/article/comment/421/0008097649\n",
      "韓도 재활용발사체 개발…2035년 20회 이상 쏜다 https://n.news.naver.com/mnews/article/011/0004454707\n",
      " https://n.news.naver.com/mnews/article/comment/011/0004454707\n",
      "트럼프플레이션 경고등… 갤럭시·아이폰 가격 동반 급등할까 https://n.news.naver.com/mnews/article/417/0001060429\n",
      " https://n.news.naver.com/mnews/article/comment/417/0001060429\n",
      "보스턴다이내믹스 창업자 \"로봇이 韓인력난 해결\" https://n.news.naver.com/mnews/article/011/0004454701\n",
      " https://n.news.naver.com/mnews/article/comment/011/0004454701\n",
      "다이소 영양제·건기식, 왜 더 싼가 살펴보니 https://n.news.naver.com/mnews/article/092/0002364551\n",
      " https://n.news.naver.com/mnews/article/comment/092/0002364551\n",
      "또 한번 혁신…\"버추얼 트윈에 AI 설계 비서 장착\" https://n.news.naver.com/mnews/article/011/0004454698\n",
      " https://n.news.naver.com/mnews/article/comment/011/0004454698\n",
      "[코스닥밸류업 진단] 넥스틴, CAPEX 성과 가시화...밸류업 계획은 '아직' https://n.news.naver.com/mnews/article/293/0000064206\n",
      " https://n.news.naver.com/mnews/article/comment/293/0000064206\n",
      "\"한국 AI 발전 위해선 주52시간제 폐지해야\" https://n.news.naver.com/mnews/article/008/0005158148\n",
      " https://n.news.naver.com/mnews/article/comment/008/0005158148\n",
      "[기고] 우주 개발 '게임 체인저' 재사용발사체 https://n.news.naver.com/mnews/article/011/0004454679\n",
      " https://n.news.naver.com/mnews/article/comment/011/0004454679\n",
      "다쏘시스템, AI 챗봇 '아우라' 솔리드웍스 적용…\"한국 매출 두배↑ 목표\" https://n.news.naver.com/mnews/article/018/0005951059\n",
      " https://n.news.naver.com/mnews/article/comment/018/0005951059\n",
      "오픈AI 이어 앤스로픽까지 … AI 韓 각축전 https://n.news.naver.com/mnews/article/009/0005449761\n",
      " https://n.news.naver.com/mnews/article/comment/009/0005449761\n",
      "\"中 화웨이, 첨단 AI 칩 수율 2배로 향상...40%\" https://n.news.naver.com/mnews/article/031/0000911668\n",
      " https://n.news.naver.com/mnews/article/comment/031/0000911668\n",
      "'2조원 K로켓사업' 원점으로 차세대 발사체 재사용 목표 https://n.news.naver.com/mnews/article/009/0005449757\n",
      " https://n.news.naver.com/mnews/article/comment/009/0005449757\n",
      "\"기회 영영 없을지도\" 韓, AI 2군 전락…국가 청사진 나와야 https://n.news.naver.com/mnews/article/018/0005951051\n",
      " https://n.news.naver.com/mnews/article/comment/018/0005951051\n",
      "인도서 중저가 스마트폰 조기 출시 예고한 삼성… 보급형 아이폰 가격 올린 애플 빈틈 노린다 https://n.news.naver.com/mnews/article/366/0001056674\n",
      " https://n.news.naver.com/mnews/article/comment/366/0001056674\n",
      "롯데바이오로직스 송도공장 준공 6개월 연기…상업가동은 예정대로 https://n.news.naver.com/mnews/article/015/0005099075\n",
      " https://n.news.naver.com/mnews/article/comment/015/0005099075\n",
      "\"공들여 키웠는데 배신을…\" 114조 쓴다던 MS '공포 확산' https://n.news.naver.com/mnews/article/015/0005099074\n",
      " https://n.news.naver.com/mnews/article/comment/015/0005099074\n",
      "SK하이닉스, 용인 반도체 클러스터 1기 팹 착공 https://n.news.naver.com/mnews/article/031/0000911664\n",
      " https://n.news.naver.com/mnews/article/comment/031/0000911664\n",
      "\"한국 글로벌 AI 패권 골든타임 기로...과감한 지원 필요\" https://n.news.naver.com/mnews/article/092/0002364548\n",
      " https://n.news.naver.com/mnews/article/comment/092/0002364548\n",
      "붉은 행성서 바다 흔적 찾았다…해안 지하 퇴적층 확인 [여기는 화성] https://n.news.naver.com/mnews/article/092/0002364547\n",
      " https://n.news.naver.com/mnews/article/comment/092/0002364547\n",
      "유상임 \"반도체법 52시간 예외 찬성\"…野 \"IT 노동계 입장도 들을 것\" https://n.news.naver.com/mnews/article/138/0002191528\n",
      " https://n.news.naver.com/mnews/article/comment/138/0002191528\n"
     ]
    }
   ],
   "execution_count": 20,
   "source": [
    "# IT/과학 뉴스\n",
    "# https://news.naver.com/section/105\n",
    "req_param = {\n",
    "    'sid': 105\n",
    "}\n",
    "url = 'https://news.naver.com/section/{sid}'.format(**req_param)\n",
    "print('url : ' + url)\n",
    "# 요청 헤더 설정 : 브라우저 정보\n",
    "req_header = {\n",
    "    'user-agent': 'Mozilla/5.0 (Windows NT 10.0; Win64; x64) AppleWebKit/537.36 (KHTML, like Gecko) Chrome/104.0.0.0 Safari/537.36'\n",
    "}\n",
    "res = requests.get(url, headers=req_header)\n",
    "\n",
    "print(type(res))\n",
    "print(res.status_code)\n",
    "# status_code == 200\n",
    "if res.ok:\n",
    "    html = res.text\n",
    "    soup = BeautifulSoup(html,'html.parser')\n",
    "    #print(soup.select(\"div.sa_text a[href*='mnews/article']\"))\n",
    "    a_tag_list = soup.select(\"div.sa_text a[href*='mnews/article']\")\n",
    "    print(type(a_tag_list)) #[<a>뉴스제목</a>,<a></a>]\n",
    "    for a_tag in a_tag_list:\n",
    "        #print(a_tag)\n",
    "        title = a_tag.text.strip() #strip() => \\n \\t 없애줌\n",
    "        link = a_tag['href']\n",
    "        print(title, link)\n",
    "else:\n",
    "    print(f'에러코드 = {res.status_code}')"
   ],
   "id": "abc91091b7e64279"
  },
  {
   "metadata": {},
   "cell_type": "markdown",
   "source": "### 1.1 뉴스제목 추출 함수 선언\n",
   "id": "3eb35d83140f6b99"
  },
  {
   "metadata": {
    "ExecuteTime": {
     "end_time": "2025-02-25T14:03:01.679323Z",
     "start_time": "2025-02-25T14:03:01.659828Z"
    }
   },
   "cell_type": "code",
   "outputs": [],
   "execution_count": 12,
   "source": [
    "import requests\n",
    "from bs4 import BeautifulSoup\n",
    "\n",
    "section_dict = {100:'정치',101:'경제',102:'사회',103:'생활/문화',104:'세계',105:'IT/과학'}\n",
    "\n",
    "def print_news(sid, section):  #print_new(103,'생활/문화')\n",
    "    # 요청 Parameter\n",
    "    req_param = {\n",
    "        'sid': sid\n",
    "    }\n",
    "    url = 'https://news.naver.com/section/{sid}'.format(**req_param)\n",
    "\n",
    "    print(f'======> {url} {section} 뉴스 <======')\n",
    "\n",
    "    # 요청 헤더 설정 : 브라우저 정보\n",
    "    req_header = {\n",
    "        'user-agent': 'Mozilla/5.0 (Windows NT 10.0; Win64; x64) AppleWebKit/537.36 (KHTML, like Gecko) Chrome/104.0.0.0 Safari/537.36'\n",
    "    }\n",
    "\n",
    "    res = requests.get(url, headers=req_header)\n",
    "    if res.ok:\n",
    "        soup = BeautifulSoup(res.text, 'html.parser')\n",
    "        # <div class=\"sa_text\">\n",
    "        # atag_list = soup.select(\"div.sa_text a[href*='https://n.news.naver.com/mnews/article']\")\n",
    "        atag_list = soup.select(\"div.sa_text a.sa_text_title\")\n",
    "        print(len(atag_list))\n",
    "\n",
    "        for atag in atag_list:\n",
    "            title = atag.text\n",
    "            link = atag['href']\n",
    "            print(f'{title}')\n",
    "            print(f'기사링크 = {link}')\n",
    "    else:\n",
    "        print(f'Error Code = {res.status_code}')"
   ],
   "id": "46e330acd42b8aec"
  },
  {
   "metadata": {},
   "cell_type": "markdown",
   "source": "",
   "id": "3cb9e34649cbdb11"
  },
  {
   "metadata": {
    "ExecuteTime": {
     "end_time": "2025-02-25T14:11:57.088300Z",
     "start_time": "2025-02-25T14:11:56.872691Z"
    }
   },
   "cell_type": "code",
   "source": "print_news(103,section_dict[103])",
   "id": "3ca60a109c7b6e65",
   "outputs": [
    {
     "name": "stdout",
     "output_type": "stream",
     "text": [
      "======> https://news.naver.com/section/103 생활/문화 뉴스 <======\n",
      "42\n",
      "\n",
      "국립예술단체 통합 반대 연대 서명에 나선 무용계\n",
      "\n",
      "기사링크 = https://n.news.naver.com/mnews/article/022/0004013959\n",
      "\n",
      "피아니스트 임윤찬 ‘깜짝 공연’…“출연료 없이 수익금 기부”\n",
      "\n",
      "기사링크 = https://n.news.naver.com/mnews/article/056/0011899795\n",
      "\n",
      "현대차·기아, 1월 유럽 판매량 8만3297대…전년比 3.7%↓\n",
      "\n",
      "기사링크 = https://n.news.naver.com/mnews/article/629/0000367923\n",
      "\n",
      "佛작가 피에르 위그가 상상한 '예측불가능한 과도기적 세계'(종합)\n",
      "\n",
      "기사링크 = https://n.news.naver.com/mnews/article/001/0015233174\n",
      "\n",
      "배우 이영애, 32년 만에 LG아트센터에서 연극 무대 복귀\n",
      "\n",
      "기사링크 = https://n.news.naver.com/mnews/article/022/0004013995\n",
      "\n",
      "전두환 장남 설립 '북플러스', 결국 법원에 파산 신청\n",
      "\n",
      "기사링크 = https://n.news.naver.com/mnews/article/003/0013087005\n",
      "\n",
      "[오늘의 별자리 운세] 2월 26일 수요일\n",
      "\n",
      "기사링크 = https://n.news.naver.com/mnews/article/366/0001056695\n",
      "\n",
      "“하루 10번 화장실. 체중 23kg 빠졌다” 세계 1위 유튜버의 희귀질환\n",
      "\n",
      "기사링크 = https://n.news.naver.com/mnews/article/016/0002434072\n",
      "\n",
      "[뉴스9 날씨] 내일 황사, 미세먼지 주의…산불 조심\n",
      "\n",
      "기사링크 = https://n.news.naver.com/mnews/article/056/0011900010\n",
      "\n",
      "[날씨] 평년 날씨 회복…'불청객' 황사 온다\n",
      "\n",
      "기사링크 = https://n.news.naver.com/mnews/article/055/0001235091\n",
      "\n",
      "김사은, “출산 후에도 탄탄 복근”...늘어난 '살가죽' 없애는 복부 운동은?\n",
      "\n",
      "기사링크 = https://n.news.naver.com/mnews/article/296/0000087067\n",
      "\n",
      "편리하게 건강 챙기려다… ‘이 주스’ 3일 마셨더니 몸에 심각한 문제 생겼다\n",
      "\n",
      "기사링크 = https://n.news.naver.com/mnews/article/346/0000088030\n",
      "\n",
      "[날씨] 내일 반짝 황사 영향, 기온은 오름세‥대기 건조\n",
      "\n",
      "기사링크 = https://n.news.naver.com/mnews/article/214/0001407681\n",
      "\n",
      "\"장점 있지만\" 껌 절대로 씹으면 안 되는 사람은\n",
      "\n",
      "기사링크 = https://n.news.naver.com/mnews/article/123/0002353712\n",
      "\n",
      "방안에 ‘이것’ 있으면… 오래 자도 다음 날 아침 비몽사몽\n",
      "\n",
      "기사링크 = https://n.news.naver.com/mnews/article/346/0000088029\n",
      "\n",
      "[날씨] 점점 약해지는 추위…삼일절 연휴 땐 '포근'\n",
      "\n",
      "기사링크 = https://n.news.naver.com/mnews/article/437/0000431374\n",
      "\n",
      "\"152kg 풍만한 내몸 사랑한다\"던 女...1년간 32kg 뺀 건강상 이유 보니\n",
      "\n",
      "기사링크 = https://n.news.naver.com/mnews/article/296/0000087066\n",
      "\n",
      "귀에서 ‘이런 귀지’ 나오면 건강 이상 신호\n",
      "\n",
      "기사링크 = https://n.news.naver.com/mnews/article/346/0000088028\n",
      "\n",
      "오래 서 있어 다리 아플 땐 ‘이 동작’으로 푼다\n",
      "\n",
      "기사링크 = https://n.news.naver.com/mnews/article/020/0003617593\n",
      "\n",
      "‘나폴리 맛피아’ 권성준 셰프 부친상…“해외서 부고 들어”\n",
      "\n",
      "기사링크 = https://n.news.naver.com/mnews/article/005/0001759644\n",
      "\n",
      "손톱·눈에도 증상이… 심장마비 위험 신호, 몸 곳곳에서 나타난다\n",
      "\n",
      "기사링크 = https://n.news.naver.com/mnews/article/346/0000088027\n",
      "\n",
      "'흑백요리사' 앞세워 또 '품절 대란'…\"없어서 못 팔아요\"\n",
      "\n",
      "기사링크 = https://n.news.naver.com/mnews/article/015/0005099220\n",
      "\n",
      "\"배터리 충전 아니었네\"…전기차 '긴급출동' 1위는?\n",
      "\n",
      "기사링크 = https://n.news.naver.com/mnews/article/031/0000911720\n",
      "\n",
      "프란치스코 교황 “화려한 제대 없는 소박한 장례 될 겁니다”\n",
      "\n",
      "기사링크 = https://n.news.naver.com/mnews/article/081/0003520764\n",
      "\n",
      "중년들의 3월 등산이 독이 되는 경우...최악의 상황은?\n",
      "\n",
      "기사링크 = https://n.news.naver.com/mnews/article/296/0000087065\n",
      "\n",
      "하루 5분 ‘이것’ 했더니, 치매 위험 확 줄었다\n",
      "\n",
      "기사링크 = https://n.news.naver.com/mnews/article/346/0000088026\n",
      "\n",
      "‘시총 3조’ 넘던 회사가 어쩌다… 셀리버리, 상장폐지\n",
      "\n",
      "기사링크 = https://n.news.naver.com/mnews/article/346/0000088025\n",
      "\n",
      "이마트, G마켓 인수 특수목적법인 합병...알리 합작법인 후속절차\n",
      "\n",
      "기사링크 = https://n.news.naver.com/mnews/article/009/0005449861\n",
      "\n",
      "\"뉴진스 갈등? 최고매출 거뒀잖아\"…'공연·MD'로 입증한 하이브\n",
      "\n",
      "기사링크 = https://n.news.naver.com/mnews/article/138/0002191534\n",
      "\n",
      "[fn이사람] \"곧 초음파로 뇌종양 치료하는 시대 옵니다\"\n",
      "\n",
      "기사링크 = https://n.news.naver.com/mnews/article/014/0005313288\n",
      "\n",
      "카페인, 각성효과 외 두통·불면도…‘이것’ 의존 심해졌다?\n",
      "\n",
      "기사링크 = https://n.news.naver.com/mnews/article/296/0000087062\n",
      "\n",
      "\"이번 정류장은 주민센터 … 공짜입니다, 올라타세요\"\n",
      "\n",
      "기사링크 = https://n.news.naver.com/mnews/article/009/0005449834\n",
      "\n",
      "리더의 덕목을 실천한 위대한 법조인, 김병로 [한ZOOM]\n",
      "\n",
      "기사링크 = https://n.news.naver.com/mnews/article/081/0003520745\n",
      "\n",
      "[내일날씨] 강추위 물러가고 봄 시작되나…낮 최고 12도 ‘포근’\n",
      "\n",
      "기사링크 = https://n.news.naver.com/mnews/article/022/0004014096\n",
      "\n",
      "[팩토리 팝콘] 현대차 포터2 공장장의 대자보\n",
      "\n",
      "기사링크 = https://n.news.naver.com/mnews/article/009/0005449799\n",
      "\n",
      "삼성·현대차, 로봇 전용 배터리 만든다\n",
      "\n",
      "기사링크 = https://n.news.naver.com/mnews/article/009/0005449795\n",
      "\n",
      "亞·유럽은 K팝, 북미는 김치·불닭볶음면에 빠졌네\n",
      "\n",
      "기사링크 = https://n.news.naver.com/mnews/article/011/0004454694\n",
      "\n",
      "[위기의 소청과] 수도권 대학병원도 신생아중환자실 문 닫았다(상)\n",
      "\n",
      "기사링크 = https://n.news.naver.com/mnews/article/584/0000031095\n",
      "\n",
      "'준스톤 이어원' 이준석 \"다큐 제안받고 30초...새드엔딩 우려\"\n",
      "\n",
      "기사링크 = https://n.news.naver.com/mnews/article/014/0005313252\n",
      "\n",
      "\"살 빼긴 어려운데 찌는 건⋯\" 매일 '이것' 반 숟갈이면 체중 증가 억제\n",
      "\n",
      "기사링크 = https://n.news.naver.com/mnews/article/031/0000911663\n",
      "\n",
      "하이브, BTS 부재에도 최대 실적...멀티 레이블 안착 효과\n",
      "\n",
      "기사링크 = https://n.news.naver.com/mnews/article/015/0005099066\n",
      "\n",
      "\"1년에 100만장 팔았다\" 스파오 청바지 열풍\n",
      "\n",
      "기사링크 = https://n.news.naver.com/mnews/article/009/0005449728\n"
     ]
    }
   ],
   "execution_count": 21
  },
  {
   "metadata": {},
   "cell_type": "markdown",
   "source": "## 2. Image 다운로드",
   "id": "22f16e6d1a58455c"
  },
  {
   "metadata": {
    "ExecuteTime": {
     "end_time": "2025-02-25T14:18:37.550918Z",
     "start_time": "2025-02-25T14:18:37.291070Z"
    }
   },
   "cell_type": "code",
   "source": [
    "import requests\n",
    "import os\n",
    "\n",
    "req_header = {\n",
    "    'referer':'https://comic.naver.com/webtoon/detail?titleId=798173&no=5&amp;weekday=thu'\n",
    "}\n",
    "img_urls = [\n",
    "    'https://image-comic.pstatic.net/webtoon/798173/5/20220804112251_d97bd1e1b38f0cd022e4e3639d2926b3_IMAG01_1.jpg',\n",
    "    'https://image-comic.pstatic.net/webtoon/798173/5/20220804112251_d97bd1e1b38f0cd022e4e3639d2926b3_IMAG01_2.jpg',\n",
    "    'https://image-comic.pstatic.net/webtoon/798173/5/20220804112251_d97bd1e1b38f0cd022e4e3639d2926b3_IMAG01_3.jpg'\n",
    "]\n",
    "\n",
    "save_path = \"images/ch01\"\n",
    "os.makedirs(save_path, exist_ok=True)\n",
    "\n",
    "for img_url in img_urls:\n",
    "    res = requests.get(img_url, headers=req_header)\n",
    "    print(res.status_code)\n",
    "    if res.ok:\n",
    "        # binary 응답 데이터 가져오기\n",
    "        img_data = res.content\n",
    "        # url에서 파일명만 추출하기\n",
    "        file_name = os.path.join(save_path, os.path.basename(img_url))  # 경로 추가\n",
    "        # binday data를 file에 write하기\n",
    "        with open(file_name,'wb') as file:\n",
    "            print(f'writing to {file_name}({len(img_data):,} bytes)')\n",
    "            # binary data를 file로 write 하기\n",
    "            file.write(img_data)\n",
    "    else:\n",
    "        print(f'Error Code = {res.status_code}')"
   ],
   "id": "d3ca9cb68830b221",
   "outputs": [
    {
     "name": "stdout",
     "output_type": "stream",
     "text": [
      "200\n",
      "writing to images/ch01/20220804112251_d97bd1e1b38f0cd022e4e3639d2926b3_IMAG01_1.jpg(299,319 bytes)\n",
      "200\n",
      "writing to images/ch01/20220804112251_d97bd1e1b38f0cd022e4e3639d2926b3_IMAG01_2.jpg(163,333 bytes)\n",
      "200\n",
      "writing to images/ch01/20220804112251_d97bd1e1b38f0cd022e4e3639d2926b3_IMAG01_3.jpg(182,530 bytes)\n"
     ]
    }
   ],
   "execution_count": 25
  },
  {
   "metadata": {},
   "cell_type": "markdown",
   "source": "### 2.1 현재 요청된 페이지 image 다운받기",
   "id": "eeeb55bfdb6e50e2"
  },
  {
   "metadata": {
    "ExecuteTime": {
     "end_time": "2025-02-25T14:24:53.882488Z",
     "start_time": "2025-02-25T14:24:52.868941Z"
    }
   },
   "cell_type": "code",
   "source": [
    "import requests\n",
    "import os\n",
    "\n",
    "url = 'https://comic.naver.com/webtoon/detail?titleId=817945&no=37&week=mon'\n",
    "req_header = {\n",
    "    'referer': url\n",
    "}\n",
    "res = requests.get(url)\n",
    "if res.ok: #200\n",
    "    # xx.jpg 이미지 파일명 목록 가져오기\n",
    "    soup = BeautifulSoup(res.text, 'html.parser')\n",
    "    img_tags = soup.select(\"img[src*='IMAG01']\") #soup.select(\"img[src$='.jpg']\")\n",
    "    print(len(img_tags)) #ResultSet\n",
    "\n",
    "    # jpg 파일명을 저장할 list\n",
    "    img_url_list = list()\n",
    "    for img_tag in img_tags:\n",
    "        # <img src='xxx.jpg'>태그의 src 속성의 값을 추출하기\n",
    "        img_url_list.append(img_tag['src']) #['a.jpg','b.jpg']\n",
    "\n",
    "    print(len(img_url_list), img_url_list[:3])\n",
    "\n",
    "    imgdir_name = 'images/ch01/img'\n",
    "    # img 디렉토리가 없으면 생성\n",
    "    if not os.path.isdir(imgdir_name):\n",
    "        os.mkdir(imgdir_name)\n",
    "\n",
    "    for img_url in img_url_list:\n",
    "        res = requests.get(img_url, headers=req_header)\n",
    "        if res.ok:\n",
    "            # binary data 가져오기\n",
    "            img_data = res.content\n",
    "            # img/xxx.jpg 디렉토리명과 파일명을 join\n",
    "            dir_name = os.path.join(imgdir_name, os.path.basename(img_url))\n",
    "            # binday data를 file에 write하기\n",
    "            with open(dir_name,'wb') as file:\n",
    "                print(f'writing to {dir_name}({len(img_data):,} bytes)')\n",
    "                file.write(img_data)\n",
    "        else:\n",
    "            print(f'Error Code = {res.status_code}')\n",
    "else:\n",
    "    print(res.status_code)"
   ],
   "id": "92fabb27f46b4617",
   "outputs": [
    {
     "name": "stdout",
     "output_type": "stream",
     "text": [
      "18\n",
      "18 ['https://image-comic.pstatic.net/webtoon/817945/37/20240226100634_548bfa8f14799d53d45b5f12df1b289e_IMAG01_1.jpg', 'https://image-comic.pstatic.net/webtoon/817945/37/20240226100634_548bfa8f14799d53d45b5f12df1b289e_IMAG01_2.jpg', 'https://image-comic.pstatic.net/webtoon/817945/37/20240226100634_548bfa8f14799d53d45b5f12df1b289e_IMAG01_3.jpg']\n",
      "writing to images/ch01/img/20240226100634_548bfa8f14799d53d45b5f12df1b289e_IMAG01_1.jpg(128,897 bytes)\n",
      "writing to images/ch01/img/20240226100634_548bfa8f14799d53d45b5f12df1b289e_IMAG01_2.jpg(143,194 bytes)\n",
      "writing to images/ch01/img/20240226100634_548bfa8f14799d53d45b5f12df1b289e_IMAG01_3.jpg(101,900 bytes)\n",
      "writing to images/ch01/img/20240226100634_548bfa8f14799d53d45b5f12df1b289e_IMAG01_4.jpg(112,007 bytes)\n",
      "writing to images/ch01/img/20240226100634_548bfa8f14799d53d45b5f12df1b289e_IMAG01_5.jpg(190,876 bytes)\n",
      "writing to images/ch01/img/20240226100634_548bfa8f14799d53d45b5f12df1b289e_IMAG01_6.jpg(134,590 bytes)\n",
      "writing to images/ch01/img/20240226100634_548bfa8f14799d53d45b5f12df1b289e_IMAG01_7.jpg(132,910 bytes)\n",
      "writing to images/ch01/img/20240226100634_548bfa8f14799d53d45b5f12df1b289e_IMAG01_8.jpg(174,434 bytes)\n",
      "writing to images/ch01/img/20240226100634_548bfa8f14799d53d45b5f12df1b289e_IMAG01_9.jpg(88,576 bytes)\n",
      "writing to images/ch01/img/20240226100634_548bfa8f14799d53d45b5f12df1b289e_IMAG01_10.jpg(177,240 bytes)\n",
      "writing to images/ch01/img/20240226100634_548bfa8f14799d53d45b5f12df1b289e_IMAG01_11.jpg(95,130 bytes)\n",
      "writing to images/ch01/img/20240226100634_548bfa8f14799d53d45b5f12df1b289e_IMAG01_12.jpg(109,718 bytes)\n",
      "writing to images/ch01/img/20240226100634_548bfa8f14799d53d45b5f12df1b289e_IMAG01_13.jpg(144,476 bytes)\n",
      "writing to images/ch01/img/20240226100634_548bfa8f14799d53d45b5f12df1b289e_IMAG01_14.jpg(127,739 bytes)\n",
      "writing to images/ch01/img/20240226100634_548bfa8f14799d53d45b5f12df1b289e_IMAG01_15.jpg(143,133 bytes)\n",
      "writing to images/ch01/img/20240226100634_548bfa8f14799d53d45b5f12df1b289e_IMAG01_16.jpg(159,328 bytes)\n",
      "writing to images/ch01/img/20240226100634_548bfa8f14799d53d45b5f12df1b289e_IMAG01_17.jpg(139,300 bytes)\n",
      "writing to images/ch01/img/20240226100634_548bfa8f14799d53d45b5f12df1b289e_IMAG01_18.jpg(54,967 bytes)\n"
     ]
    }
   ],
   "execution_count": 26
  },
  {
   "metadata": {},
   "cell_type": "markdown",
   "source": [
    "## 3. 파일 업로드 하기\n",
    "- http://httpbin.org/post 업로드 요청을 할 수 있는 url\n"
   ],
   "id": "cf04b758523898e3"
  },
  {
   "metadata": {
    "ExecuteTime": {
     "end_time": "2025-02-25T14:34:01.533654Z",
     "start_time": "2025-02-25T14:33:58.510204Z"
    }
   },
   "cell_type": "code",
   "source": [
    "import requests\n",
    "\n",
    "upload_files = {\n",
    "    'img1': open('images/ch01/img.png','rb'), # rb --> read binary 의 약자\n",
    "    'img2': open('images/ch01/img_1.png','rb'),\n",
    "}\n",
    "#print(upload_files)\n",
    "url = 'http://httpbin.org/post'\n",
    "# file 업로드 하려면 post 함수에 files 속성을 사용합니다.\n",
    "res = requests.post(url, files=upload_files)\n",
    "print(res.status_code)\n",
    "#print(res.json())\n",
    "#print(res.json()['files']['img1'])"
   ],
   "id": "de55ecb6f2622953",
   "outputs": [
    {
     "name": "stdout",
     "output_type": "stream",
     "text": [
      "200\n"
     ]
    }
   ],
   "execution_count": 29
  },
  {
   "metadata": {},
   "cell_type": "markdown",
   "source": [
    "## 4. 캡챠 API 호출하기\n",
    "- urllib 사용\n",
    "    - 캡차 키 발급 요청\n",
    "    - 캡차 이미지 요청\n",
    "    - 사용자 입력값 검증 요청 ( requests 라이브러리 사용으로 코드 변경해 보기)"
   ],
   "id": "4e9d66a961763e0d"
  },
  {
   "metadata": {
    "ExecuteTime": {
     "end_time": "2025-02-25T14:37:42.536389Z",
     "start_time": "2025-02-25T14:37:42.284956Z"
    }
   },
   "cell_type": "code",
   "source": [
    "# 캡차 키 발급 요청\n",
    "import os\n",
    "import sys\n",
    "import urllib.request\n",
    "\n",
    "client_id = \"######\" # 개발자센터에서 발급받은 Client ID 값\n",
    "client_secret = \"######\" # 개발자센터에서 발급받은 Client Secret 값\n",
    "\n",
    "#요청하는 작업의 코드(기본값: 0). 캡차 키 발급을 요청할 때는 값을 0으로 설정해야 합니다.\n",
    "code = \"0\"\n",
    "url = f\"https://openapi.naver.com/v1/captcha/nkey?code={code}\"\n",
    "# Request 객체생성\n",
    "request = urllib.request.Request(url)\n",
    "\n",
    "# request header 설정\n",
    "request.add_header(\"X-Naver-Client-Id\",client_id)\n",
    "request.add_header(\"X-Naver-Client-Secret\",client_secret)\n",
    "\n",
    "# Request 요청 보내기\n",
    "response = urllib.request.urlopen(request)\n",
    "# 응답 코드 받기\n",
    "rescode = response.getcode()\n",
    "if(rescode==200):\n",
    "    response_body = response.read()\n",
    "    print(response_body.decode('utf-8'))\n",
    "else:\n",
    "    print(\"Error Code:\" + rescode)"
   ],
   "id": "bf4e2df497008be1",
   "outputs": [
    {
     "ename": "URLError",
     "evalue": "<urlopen error [SSL: CERTIFICATE_VERIFY_FAILED] certificate verify failed: self-signed certificate in certificate chain (_ssl.c:1000)>",
     "output_type": "error",
     "traceback": [
      "\u001B[0;31m---------------------------------------------------------------------------\u001B[0m",
      "\u001B[0;31mSSLCertVerificationError\u001B[0m                  Traceback (most recent call last)",
      "File \u001B[0;32m/Library/Frameworks/Python.framework/Versions/3.12/lib/python3.12/urllib/request.py:1344\u001B[0m, in \u001B[0;36mAbstractHTTPHandler.do_open\u001B[0;34m(self, http_class, req, **http_conn_args)\u001B[0m\n\u001B[1;32m   1343\u001B[0m \u001B[38;5;28;01mtry\u001B[39;00m:\n\u001B[0;32m-> 1344\u001B[0m     \u001B[43mh\u001B[49m\u001B[38;5;241;43m.\u001B[39;49m\u001B[43mrequest\u001B[49m\u001B[43m(\u001B[49m\u001B[43mreq\u001B[49m\u001B[38;5;241;43m.\u001B[39;49m\u001B[43mget_method\u001B[49m\u001B[43m(\u001B[49m\u001B[43m)\u001B[49m\u001B[43m,\u001B[49m\u001B[43m \u001B[49m\u001B[43mreq\u001B[49m\u001B[38;5;241;43m.\u001B[39;49m\u001B[43mselector\u001B[49m\u001B[43m,\u001B[49m\u001B[43m \u001B[49m\u001B[43mreq\u001B[49m\u001B[38;5;241;43m.\u001B[39;49m\u001B[43mdata\u001B[49m\u001B[43m,\u001B[49m\u001B[43m \u001B[49m\u001B[43mheaders\u001B[49m\u001B[43m,\u001B[49m\n\u001B[1;32m   1345\u001B[0m \u001B[43m              \u001B[49m\u001B[43mencode_chunked\u001B[49m\u001B[38;5;241;43m=\u001B[39;49m\u001B[43mreq\u001B[49m\u001B[38;5;241;43m.\u001B[39;49m\u001B[43mhas_header\u001B[49m\u001B[43m(\u001B[49m\u001B[38;5;124;43m'\u001B[39;49m\u001B[38;5;124;43mTransfer-encoding\u001B[39;49m\u001B[38;5;124;43m'\u001B[39;49m\u001B[43m)\u001B[49m\u001B[43m)\u001B[49m\n\u001B[1;32m   1346\u001B[0m \u001B[38;5;28;01mexcept\u001B[39;00m \u001B[38;5;167;01mOSError\u001B[39;00m \u001B[38;5;28;01mas\u001B[39;00m err: \u001B[38;5;66;03m# timeout error\u001B[39;00m\n",
      "File \u001B[0;32m/Library/Frameworks/Python.framework/Versions/3.12/lib/python3.12/http/client.py:1319\u001B[0m, in \u001B[0;36mHTTPConnection.request\u001B[0;34m(self, method, url, body, headers, encode_chunked)\u001B[0m\n\u001B[1;32m   1318\u001B[0m \u001B[38;5;250m\u001B[39m\u001B[38;5;124;03m\"\"\"Send a complete request to the server.\"\"\"\u001B[39;00m\n\u001B[0;32m-> 1319\u001B[0m \u001B[38;5;28;43mself\u001B[39;49m\u001B[38;5;241;43m.\u001B[39;49m\u001B[43m_send_request\u001B[49m\u001B[43m(\u001B[49m\u001B[43mmethod\u001B[49m\u001B[43m,\u001B[49m\u001B[43m \u001B[49m\u001B[43murl\u001B[49m\u001B[43m,\u001B[49m\u001B[43m \u001B[49m\u001B[43mbody\u001B[49m\u001B[43m,\u001B[49m\u001B[43m \u001B[49m\u001B[43mheaders\u001B[49m\u001B[43m,\u001B[49m\u001B[43m \u001B[49m\u001B[43mencode_chunked\u001B[49m\u001B[43m)\u001B[49m\n",
      "File \u001B[0;32m/Library/Frameworks/Python.framework/Versions/3.12/lib/python3.12/http/client.py:1365\u001B[0m, in \u001B[0;36mHTTPConnection._send_request\u001B[0;34m(self, method, url, body, headers, encode_chunked)\u001B[0m\n\u001B[1;32m   1364\u001B[0m     body \u001B[38;5;241m=\u001B[39m _encode(body, \u001B[38;5;124m'\u001B[39m\u001B[38;5;124mbody\u001B[39m\u001B[38;5;124m'\u001B[39m)\n\u001B[0;32m-> 1365\u001B[0m \u001B[38;5;28;43mself\u001B[39;49m\u001B[38;5;241;43m.\u001B[39;49m\u001B[43mendheaders\u001B[49m\u001B[43m(\u001B[49m\u001B[43mbody\u001B[49m\u001B[43m,\u001B[49m\u001B[43m \u001B[49m\u001B[43mencode_chunked\u001B[49m\u001B[38;5;241;43m=\u001B[39;49m\u001B[43mencode_chunked\u001B[49m\u001B[43m)\u001B[49m\n",
      "File \u001B[0;32m/Library/Frameworks/Python.framework/Versions/3.12/lib/python3.12/http/client.py:1314\u001B[0m, in \u001B[0;36mHTTPConnection.endheaders\u001B[0;34m(self, message_body, encode_chunked)\u001B[0m\n\u001B[1;32m   1313\u001B[0m     \u001B[38;5;28;01mraise\u001B[39;00m CannotSendHeader()\n\u001B[0;32m-> 1314\u001B[0m \u001B[38;5;28;43mself\u001B[39;49m\u001B[38;5;241;43m.\u001B[39;49m\u001B[43m_send_output\u001B[49m\u001B[43m(\u001B[49m\u001B[43mmessage_body\u001B[49m\u001B[43m,\u001B[49m\u001B[43m \u001B[49m\u001B[43mencode_chunked\u001B[49m\u001B[38;5;241;43m=\u001B[39;49m\u001B[43mencode_chunked\u001B[49m\u001B[43m)\u001B[49m\n",
      "File \u001B[0;32m/Library/Frameworks/Python.framework/Versions/3.12/lib/python3.12/http/client.py:1074\u001B[0m, in \u001B[0;36mHTTPConnection._send_output\u001B[0;34m(self, message_body, encode_chunked)\u001B[0m\n\u001B[1;32m   1073\u001B[0m \u001B[38;5;28;01mdel\u001B[39;00m \u001B[38;5;28mself\u001B[39m\u001B[38;5;241m.\u001B[39m_buffer[:]\n\u001B[0;32m-> 1074\u001B[0m \u001B[38;5;28;43mself\u001B[39;49m\u001B[38;5;241;43m.\u001B[39;49m\u001B[43msend\u001B[49m\u001B[43m(\u001B[49m\u001B[43mmsg\u001B[49m\u001B[43m)\u001B[49m\n\u001B[1;32m   1076\u001B[0m \u001B[38;5;28;01mif\u001B[39;00m message_body \u001B[38;5;129;01mis\u001B[39;00m \u001B[38;5;129;01mnot\u001B[39;00m \u001B[38;5;28;01mNone\u001B[39;00m:\n\u001B[1;32m   1077\u001B[0m \n\u001B[1;32m   1078\u001B[0m     \u001B[38;5;66;03m# create a consistent interface to message_body\u001B[39;00m\n",
      "File \u001B[0;32m/Library/Frameworks/Python.framework/Versions/3.12/lib/python3.12/http/client.py:1018\u001B[0m, in \u001B[0;36mHTTPConnection.send\u001B[0;34m(self, data)\u001B[0m\n\u001B[1;32m   1017\u001B[0m \u001B[38;5;28;01mif\u001B[39;00m \u001B[38;5;28mself\u001B[39m\u001B[38;5;241m.\u001B[39mauto_open:\n\u001B[0;32m-> 1018\u001B[0m     \u001B[38;5;28;43mself\u001B[39;49m\u001B[38;5;241;43m.\u001B[39;49m\u001B[43mconnect\u001B[49m\u001B[43m(\u001B[49m\u001B[43m)\u001B[49m\n\u001B[1;32m   1019\u001B[0m \u001B[38;5;28;01melse\u001B[39;00m:\n",
      "File \u001B[0;32m/Library/Frameworks/Python.framework/Versions/3.12/lib/python3.12/http/client.py:1460\u001B[0m, in \u001B[0;36mHTTPSConnection.connect\u001B[0;34m(self)\u001B[0m\n\u001B[1;32m   1458\u001B[0m     server_hostname \u001B[38;5;241m=\u001B[39m \u001B[38;5;28mself\u001B[39m\u001B[38;5;241m.\u001B[39mhost\n\u001B[0;32m-> 1460\u001B[0m \u001B[38;5;28mself\u001B[39m\u001B[38;5;241m.\u001B[39msock \u001B[38;5;241m=\u001B[39m \u001B[38;5;28;43mself\u001B[39;49m\u001B[38;5;241;43m.\u001B[39;49m\u001B[43m_context\u001B[49m\u001B[38;5;241;43m.\u001B[39;49m\u001B[43mwrap_socket\u001B[49m\u001B[43m(\u001B[49m\u001B[38;5;28;43mself\u001B[39;49m\u001B[38;5;241;43m.\u001B[39;49m\u001B[43msock\u001B[49m\u001B[43m,\u001B[49m\n\u001B[1;32m   1461\u001B[0m \u001B[43m                                      \u001B[49m\u001B[43mserver_hostname\u001B[49m\u001B[38;5;241;43m=\u001B[39;49m\u001B[43mserver_hostname\u001B[49m\u001B[43m)\u001B[49m\n",
      "File \u001B[0;32m/Library/Frameworks/Python.framework/Versions/3.12/lib/python3.12/ssl.py:455\u001B[0m, in \u001B[0;36mSSLContext.wrap_socket\u001B[0;34m(self, sock, server_side, do_handshake_on_connect, suppress_ragged_eofs, server_hostname, session)\u001B[0m\n\u001B[1;32m    449\u001B[0m \u001B[38;5;28;01mdef\u001B[39;00m\u001B[38;5;250m \u001B[39m\u001B[38;5;21mwrap_socket\u001B[39m(\u001B[38;5;28mself\u001B[39m, sock, server_side\u001B[38;5;241m=\u001B[39m\u001B[38;5;28;01mFalse\u001B[39;00m,\n\u001B[1;32m    450\u001B[0m                 do_handshake_on_connect\u001B[38;5;241m=\u001B[39m\u001B[38;5;28;01mTrue\u001B[39;00m,\n\u001B[1;32m    451\u001B[0m                 suppress_ragged_eofs\u001B[38;5;241m=\u001B[39m\u001B[38;5;28;01mTrue\u001B[39;00m,\n\u001B[1;32m    452\u001B[0m                 server_hostname\u001B[38;5;241m=\u001B[39m\u001B[38;5;28;01mNone\u001B[39;00m, session\u001B[38;5;241m=\u001B[39m\u001B[38;5;28;01mNone\u001B[39;00m):\n\u001B[1;32m    453\u001B[0m     \u001B[38;5;66;03m# SSLSocket class handles server_hostname encoding before it calls\u001B[39;00m\n\u001B[1;32m    454\u001B[0m     \u001B[38;5;66;03m# ctx._wrap_socket()\u001B[39;00m\n\u001B[0;32m--> 455\u001B[0m     \u001B[38;5;28;01mreturn\u001B[39;00m \u001B[38;5;28;43mself\u001B[39;49m\u001B[38;5;241;43m.\u001B[39;49m\u001B[43msslsocket_class\u001B[49m\u001B[38;5;241;43m.\u001B[39;49m\u001B[43m_create\u001B[49m\u001B[43m(\u001B[49m\n\u001B[1;32m    456\u001B[0m \u001B[43m        \u001B[49m\u001B[43msock\u001B[49m\u001B[38;5;241;43m=\u001B[39;49m\u001B[43msock\u001B[49m\u001B[43m,\u001B[49m\n\u001B[1;32m    457\u001B[0m \u001B[43m        \u001B[49m\u001B[43mserver_side\u001B[49m\u001B[38;5;241;43m=\u001B[39;49m\u001B[43mserver_side\u001B[49m\u001B[43m,\u001B[49m\n\u001B[1;32m    458\u001B[0m \u001B[43m        \u001B[49m\u001B[43mdo_handshake_on_connect\u001B[49m\u001B[38;5;241;43m=\u001B[39;49m\u001B[43mdo_handshake_on_connect\u001B[49m\u001B[43m,\u001B[49m\n\u001B[1;32m    459\u001B[0m \u001B[43m        \u001B[49m\u001B[43msuppress_ragged_eofs\u001B[49m\u001B[38;5;241;43m=\u001B[39;49m\u001B[43msuppress_ragged_eofs\u001B[49m\u001B[43m,\u001B[49m\n\u001B[1;32m    460\u001B[0m \u001B[43m        \u001B[49m\u001B[43mserver_hostname\u001B[49m\u001B[38;5;241;43m=\u001B[39;49m\u001B[43mserver_hostname\u001B[49m\u001B[43m,\u001B[49m\n\u001B[1;32m    461\u001B[0m \u001B[43m        \u001B[49m\u001B[43mcontext\u001B[49m\u001B[38;5;241;43m=\u001B[39;49m\u001B[38;5;28;43mself\u001B[39;49m\u001B[43m,\u001B[49m\n\u001B[1;32m    462\u001B[0m \u001B[43m        \u001B[49m\u001B[43msession\u001B[49m\u001B[38;5;241;43m=\u001B[39;49m\u001B[43msession\u001B[49m\n\u001B[1;32m    463\u001B[0m \u001B[43m    \u001B[49m\u001B[43m)\u001B[49m\n",
      "File \u001B[0;32m/Library/Frameworks/Python.framework/Versions/3.12/lib/python3.12/ssl.py:1046\u001B[0m, in \u001B[0;36mSSLSocket._create\u001B[0;34m(cls, sock, server_side, do_handshake_on_connect, suppress_ragged_eofs, server_hostname, context, session)\u001B[0m\n\u001B[1;32m   1045\u001B[0m             \u001B[38;5;28;01mraise\u001B[39;00m \u001B[38;5;167;01mValueError\u001B[39;00m(\u001B[38;5;124m\"\u001B[39m\u001B[38;5;124mdo_handshake_on_connect should not be specified for non-blocking sockets\u001B[39m\u001B[38;5;124m\"\u001B[39m)\n\u001B[0;32m-> 1046\u001B[0m         \u001B[38;5;28;43mself\u001B[39;49m\u001B[38;5;241;43m.\u001B[39;49m\u001B[43mdo_handshake\u001B[49m\u001B[43m(\u001B[49m\u001B[43m)\u001B[49m\n\u001B[1;32m   1047\u001B[0m \u001B[38;5;28;01mexcept\u001B[39;00m (\u001B[38;5;167;01mOSError\u001B[39;00m, \u001B[38;5;167;01mValueError\u001B[39;00m):\n",
      "File \u001B[0;32m/Library/Frameworks/Python.framework/Versions/3.12/lib/python3.12/ssl.py:1317\u001B[0m, in \u001B[0;36mSSLSocket.do_handshake\u001B[0;34m(self, block)\u001B[0m\n\u001B[1;32m   1316\u001B[0m         \u001B[38;5;28mself\u001B[39m\u001B[38;5;241m.\u001B[39msettimeout(\u001B[38;5;28;01mNone\u001B[39;00m)\n\u001B[0;32m-> 1317\u001B[0m     \u001B[38;5;28;43mself\u001B[39;49m\u001B[38;5;241;43m.\u001B[39;49m\u001B[43m_sslobj\u001B[49m\u001B[38;5;241;43m.\u001B[39;49m\u001B[43mdo_handshake\u001B[49m\u001B[43m(\u001B[49m\u001B[43m)\u001B[49m\n\u001B[1;32m   1318\u001B[0m \u001B[38;5;28;01mfinally\u001B[39;00m:\n",
      "\u001B[0;31mSSLCertVerificationError\u001B[0m: [SSL: CERTIFICATE_VERIFY_FAILED] certificate verify failed: self-signed certificate in certificate chain (_ssl.c:1000)",
      "\nDuring handling of the above exception, another exception occurred:\n",
      "\u001B[0;31mURLError\u001B[0m                                  Traceback (most recent call last)",
      "Cell \u001B[0;32mIn[30], line 20\u001B[0m\n\u001B[1;32m     17\u001B[0m request\u001B[38;5;241m.\u001B[39madd_header(\u001B[38;5;124m\"\u001B[39m\u001B[38;5;124mX-Naver-Client-Secret\u001B[39m\u001B[38;5;124m\"\u001B[39m,client_secret)\n\u001B[1;32m     19\u001B[0m \u001B[38;5;66;03m# Request 요청 보내기\u001B[39;00m\n\u001B[0;32m---> 20\u001B[0m response \u001B[38;5;241m=\u001B[39m \u001B[43murllib\u001B[49m\u001B[38;5;241;43m.\u001B[39;49m\u001B[43mrequest\u001B[49m\u001B[38;5;241;43m.\u001B[39;49m\u001B[43murlopen\u001B[49m\u001B[43m(\u001B[49m\u001B[43mrequest\u001B[49m\u001B[43m)\u001B[49m\n\u001B[1;32m     21\u001B[0m \u001B[38;5;66;03m# 응답 코드 받기\u001B[39;00m\n\u001B[1;32m     22\u001B[0m rescode \u001B[38;5;241m=\u001B[39m response\u001B[38;5;241m.\u001B[39mgetcode()\n",
      "File \u001B[0;32m/Library/Frameworks/Python.framework/Versions/3.12/lib/python3.12/urllib/request.py:215\u001B[0m, in \u001B[0;36murlopen\u001B[0;34m(url, data, timeout, cafile, capath, cadefault, context)\u001B[0m\n\u001B[1;32m    213\u001B[0m \u001B[38;5;28;01melse\u001B[39;00m:\n\u001B[1;32m    214\u001B[0m     opener \u001B[38;5;241m=\u001B[39m _opener\n\u001B[0;32m--> 215\u001B[0m \u001B[38;5;28;01mreturn\u001B[39;00m \u001B[43mopener\u001B[49m\u001B[38;5;241;43m.\u001B[39;49m\u001B[43mopen\u001B[49m\u001B[43m(\u001B[49m\u001B[43murl\u001B[49m\u001B[43m,\u001B[49m\u001B[43m \u001B[49m\u001B[43mdata\u001B[49m\u001B[43m,\u001B[49m\u001B[43m \u001B[49m\u001B[43mtimeout\u001B[49m\u001B[43m)\u001B[49m\n",
      "File \u001B[0;32m/Library/Frameworks/Python.framework/Versions/3.12/lib/python3.12/urllib/request.py:515\u001B[0m, in \u001B[0;36mOpenerDirector.open\u001B[0;34m(self, fullurl, data, timeout)\u001B[0m\n\u001B[1;32m    512\u001B[0m     req \u001B[38;5;241m=\u001B[39m meth(req)\n\u001B[1;32m    514\u001B[0m sys\u001B[38;5;241m.\u001B[39maudit(\u001B[38;5;124m'\u001B[39m\u001B[38;5;124murllib.Request\u001B[39m\u001B[38;5;124m'\u001B[39m, req\u001B[38;5;241m.\u001B[39mfull_url, req\u001B[38;5;241m.\u001B[39mdata, req\u001B[38;5;241m.\u001B[39mheaders, req\u001B[38;5;241m.\u001B[39mget_method())\n\u001B[0;32m--> 515\u001B[0m response \u001B[38;5;241m=\u001B[39m \u001B[38;5;28;43mself\u001B[39;49m\u001B[38;5;241;43m.\u001B[39;49m\u001B[43m_open\u001B[49m\u001B[43m(\u001B[49m\u001B[43mreq\u001B[49m\u001B[43m,\u001B[49m\u001B[43m \u001B[49m\u001B[43mdata\u001B[49m\u001B[43m)\u001B[49m\n\u001B[1;32m    517\u001B[0m \u001B[38;5;66;03m# post-process response\u001B[39;00m\n\u001B[1;32m    518\u001B[0m meth_name \u001B[38;5;241m=\u001B[39m protocol\u001B[38;5;241m+\u001B[39m\u001B[38;5;124m\"\u001B[39m\u001B[38;5;124m_response\u001B[39m\u001B[38;5;124m\"\u001B[39m\n",
      "File \u001B[0;32m/Library/Frameworks/Python.framework/Versions/3.12/lib/python3.12/urllib/request.py:532\u001B[0m, in \u001B[0;36mOpenerDirector._open\u001B[0;34m(self, req, data)\u001B[0m\n\u001B[1;32m    529\u001B[0m     \u001B[38;5;28;01mreturn\u001B[39;00m result\n\u001B[1;32m    531\u001B[0m protocol \u001B[38;5;241m=\u001B[39m req\u001B[38;5;241m.\u001B[39mtype\n\u001B[0;32m--> 532\u001B[0m result \u001B[38;5;241m=\u001B[39m \u001B[38;5;28;43mself\u001B[39;49m\u001B[38;5;241;43m.\u001B[39;49m\u001B[43m_call_chain\u001B[49m\u001B[43m(\u001B[49m\u001B[38;5;28;43mself\u001B[39;49m\u001B[38;5;241;43m.\u001B[39;49m\u001B[43mhandle_open\u001B[49m\u001B[43m,\u001B[49m\u001B[43m \u001B[49m\u001B[43mprotocol\u001B[49m\u001B[43m,\u001B[49m\u001B[43m \u001B[49m\u001B[43mprotocol\u001B[49m\u001B[43m \u001B[49m\u001B[38;5;241;43m+\u001B[39;49m\n\u001B[1;32m    533\u001B[0m \u001B[43m                          \u001B[49m\u001B[38;5;124;43m'\u001B[39;49m\u001B[38;5;124;43m_open\u001B[39;49m\u001B[38;5;124;43m'\u001B[39;49m\u001B[43m,\u001B[49m\u001B[43m \u001B[49m\u001B[43mreq\u001B[49m\u001B[43m)\u001B[49m\n\u001B[1;32m    534\u001B[0m \u001B[38;5;28;01mif\u001B[39;00m result:\n\u001B[1;32m    535\u001B[0m     \u001B[38;5;28;01mreturn\u001B[39;00m result\n",
      "File \u001B[0;32m/Library/Frameworks/Python.framework/Versions/3.12/lib/python3.12/urllib/request.py:492\u001B[0m, in \u001B[0;36mOpenerDirector._call_chain\u001B[0;34m(self, chain, kind, meth_name, *args)\u001B[0m\n\u001B[1;32m    490\u001B[0m \u001B[38;5;28;01mfor\u001B[39;00m handler \u001B[38;5;129;01min\u001B[39;00m handlers:\n\u001B[1;32m    491\u001B[0m     func \u001B[38;5;241m=\u001B[39m \u001B[38;5;28mgetattr\u001B[39m(handler, meth_name)\n\u001B[0;32m--> 492\u001B[0m     result \u001B[38;5;241m=\u001B[39m \u001B[43mfunc\u001B[49m\u001B[43m(\u001B[49m\u001B[38;5;241;43m*\u001B[39;49m\u001B[43margs\u001B[49m\u001B[43m)\u001B[49m\n\u001B[1;32m    493\u001B[0m     \u001B[38;5;28;01mif\u001B[39;00m result \u001B[38;5;129;01mis\u001B[39;00m \u001B[38;5;129;01mnot\u001B[39;00m \u001B[38;5;28;01mNone\u001B[39;00m:\n\u001B[1;32m    494\u001B[0m         \u001B[38;5;28;01mreturn\u001B[39;00m result\n",
      "File \u001B[0;32m/Library/Frameworks/Python.framework/Versions/3.12/lib/python3.12/urllib/request.py:1392\u001B[0m, in \u001B[0;36mHTTPSHandler.https_open\u001B[0;34m(self, req)\u001B[0m\n\u001B[1;32m   1391\u001B[0m \u001B[38;5;28;01mdef\u001B[39;00m\u001B[38;5;250m \u001B[39m\u001B[38;5;21mhttps_open\u001B[39m(\u001B[38;5;28mself\u001B[39m, req):\n\u001B[0;32m-> 1392\u001B[0m     \u001B[38;5;28;01mreturn\u001B[39;00m \u001B[38;5;28;43mself\u001B[39;49m\u001B[38;5;241;43m.\u001B[39;49m\u001B[43mdo_open\u001B[49m\u001B[43m(\u001B[49m\u001B[43mhttp\u001B[49m\u001B[38;5;241;43m.\u001B[39;49m\u001B[43mclient\u001B[49m\u001B[38;5;241;43m.\u001B[39;49m\u001B[43mHTTPSConnection\u001B[49m\u001B[43m,\u001B[49m\u001B[43m \u001B[49m\u001B[43mreq\u001B[49m\u001B[43m,\u001B[49m\n\u001B[1;32m   1393\u001B[0m \u001B[43m                        \u001B[49m\u001B[43mcontext\u001B[49m\u001B[38;5;241;43m=\u001B[39;49m\u001B[38;5;28;43mself\u001B[39;49m\u001B[38;5;241;43m.\u001B[39;49m\u001B[43m_context\u001B[49m\u001B[43m)\u001B[49m\n",
      "File \u001B[0;32m/Library/Frameworks/Python.framework/Versions/3.12/lib/python3.12/urllib/request.py:1347\u001B[0m, in \u001B[0;36mAbstractHTTPHandler.do_open\u001B[0;34m(self, http_class, req, **http_conn_args)\u001B[0m\n\u001B[1;32m   1344\u001B[0m         h\u001B[38;5;241m.\u001B[39mrequest(req\u001B[38;5;241m.\u001B[39mget_method(), req\u001B[38;5;241m.\u001B[39mselector, req\u001B[38;5;241m.\u001B[39mdata, headers,\n\u001B[1;32m   1345\u001B[0m                   encode_chunked\u001B[38;5;241m=\u001B[39mreq\u001B[38;5;241m.\u001B[39mhas_header(\u001B[38;5;124m'\u001B[39m\u001B[38;5;124mTransfer-encoding\u001B[39m\u001B[38;5;124m'\u001B[39m))\n\u001B[1;32m   1346\u001B[0m     \u001B[38;5;28;01mexcept\u001B[39;00m \u001B[38;5;167;01mOSError\u001B[39;00m \u001B[38;5;28;01mas\u001B[39;00m err: \u001B[38;5;66;03m# timeout error\u001B[39;00m\n\u001B[0;32m-> 1347\u001B[0m         \u001B[38;5;28;01mraise\u001B[39;00m URLError(err)\n\u001B[1;32m   1348\u001B[0m     r \u001B[38;5;241m=\u001B[39m h\u001B[38;5;241m.\u001B[39mgetresponse()\n\u001B[1;32m   1349\u001B[0m \u001B[38;5;28;01mexcept\u001B[39;00m:\n",
      "\u001B[0;31mURLError\u001B[0m: <urlopen error [SSL: CERTIFICATE_VERIFY_FAILED] certificate verify failed: self-signed certificate in certificate chain (_ssl.c:1000)>"
     ]
    }
   ],
   "execution_count": 30
  },
  {
   "metadata": {},
   "cell_type": "code",
   "outputs": [],
   "execution_count": null,
   "source": "",
   "id": "24ddaa98745eb949"
  }
 ],
 "metadata": {
  "kernelspec": {
   "display_name": "Python 3",
   "language": "python",
   "name": "python3"
  },
  "language_info": {
   "codemirror_mode": {
    "name": "ipython",
    "version": 2
   },
   "file_extension": ".py",
   "mimetype": "text/x-python",
   "name": "python",
   "nbconvert_exporter": "python",
   "pygments_lexer": "ipython2",
   "version": "2.7.6"
  }
 },
 "nbformat": 4,
 "nbformat_minor": 5
}
