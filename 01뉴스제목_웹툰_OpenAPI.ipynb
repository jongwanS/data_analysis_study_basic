{
 "cells": [
  {
   "metadata": {},
   "cell_type": "markdown",
   "source": "## 1. 뉴스제목 가져오기",
   "id": "ecec92612335152"
  },
  {
   "cell_type": "code",
   "id": "initial_id",
   "metadata": {
    "collapsed": true,
    "ExecuteTime": {
     "end_time": "2025-02-25T14:09:46.287616Z",
     "start_time": "2025-02-25T14:09:45.423398Z"
    }
   },
   "source": [
    "#!는 쉘 명령어를 실행할때 사용\n",
    "#requests 라이브러리는 http 호출 관련 라이브러리\n",
    "!pip show requests"
   ],
   "outputs": [
    {
     "name": "stdout",
     "output_type": "stream",
     "text": [
      "Name: requests\r\n",
      "Version: 2.32.3\r\n",
      "Summary: Python HTTP for Humans.\r\n",
      "Home-page: https://requests.readthedocs.io\r\n",
      "Author: Kenneth Reitz\r\n",
      "Author-email: me@kennethreitz.org\r\n",
      "License: Apache-2.0\r\n",
      "Location: /Users/limjong-wan/Desktop/study/data_analysis/venv/lib/python3.12/site-packages\r\n",
      "Requires: certifi, charset-normalizer, idna, urllib3\r\n",
      "Required-by: jupyterlab_server\r\n"
     ]
    }
   ],
   "execution_count": 16
  },
  {
   "metadata": {
    "ExecuteTime": {
     "end_time": "2025-02-25T14:09:47.058463Z",
     "start_time": "2025-02-25T14:09:46.329094Z"
    }
   },
   "cell_type": "code",
   "source": "!pip show beautifulsoup4",
   "id": "b736f289a49fbf1",
   "outputs": [
    {
     "name": "stdout",
     "output_type": "stream",
     "text": [
      "Name: beautifulsoup4\r\n",
      "Version: 4.13.3\r\n",
      "Summary: Screen-scraping library\r\n",
      "Home-page: \r\n",
      "Author: \r\n",
      "Author-email: Leonard Richardson <leonardr@segfault.org>\r\n",
      "License: MIT License\r\n",
      "Location: /Users/limjong-wan/Desktop/study/data_analysis/venv/lib/python3.12/site-packages\r\n",
      "Requires: soupsieve, typing-extensions\r\n",
      "Required-by: nbconvert\r\n"
     ]
    }
   ],
   "execution_count": 17
  },
  {
   "metadata": {
    "ExecuteTime": {
     "end_time": "2025-02-25T14:09:47.101029Z",
     "start_time": "2025-02-25T14:09:47.098257Z"
    }
   },
   "cell_type": "code",
   "source": [
    "import requests\n",
    "import bs4\n",
    "from bs4 import BeautifulSoup"
   ],
   "id": "59be8394553d589",
   "outputs": [],
   "execution_count": 18
  },
  {
   "metadata": {
    "ExecuteTime": {
     "end_time": "2025-02-25T14:09:47.111800Z",
     "start_time": "2025-02-25T14:09:47.109895Z"
    }
   },
   "cell_type": "code",
   "source": [
    "print(f'requests 버전 {requests.__version__}' )\n",
    "print('beautifulsoup 버전 {}'.format(bs4.__version__))"
   ],
   "id": "f619c28a97728d69",
   "outputs": [
    {
     "name": "stdout",
     "output_type": "stream",
     "text": [
      "requests 버전 2.32.3\n",
      "beautifulsoup 버전 4.13.3\n"
     ]
    }
   ],
   "execution_count": 19
  },
  {
   "metadata": {
    "ExecuteTime": {
     "end_time": "2025-02-25T14:09:47.325662Z",
     "start_time": "2025-02-25T14:09:47.174645Z"
    }
   },
   "cell_type": "code",
   "outputs": [
    {
     "name": "stdout",
     "output_type": "stream",
     "text": [
      "url : https://news.naver.com/section/105\n",
      "<class 'requests.models.Response'>\n",
      "200\n",
      "<class 'bs4.element.ResultSet'>\n",
      "다쏘시스템-쿠카, 로봇공학·자동화 효율성 향상 파트너십 https://n.news.naver.com/mnews/article/029/0002937640\n",
      " https://n.news.naver.com/mnews/article/comment/029/0002937640\n",
      "차세대 발사체 재사용화 공식 절차 밟는다... 한화와 지재권 갈등 해결되나 https://n.news.naver.com/mnews/article/469/0000850777\n",
      " https://n.news.naver.com/mnews/article/comment/469/0000850777\n",
      "LGU+, AI비서 ‘익시오’에 양자내성암호 심는다 [MWC 2025] https://n.news.naver.com/mnews/article/011/0004454397\n",
      " https://n.news.naver.com/mnews/article/comment/011/0004454397\n",
      "네이버 '레벨제' 도입…'조직 쇄신' 긴장감 https://n.news.naver.com/mnews/article/014/0005312943\n",
      " https://n.news.naver.com/mnews/article/comment/014/0005312943\n",
      "유상임 과기정통부 장관 \"한국 AI, 인프라·모델·인재 모두 해외와 격차 커\" https://n.news.naver.com/mnews/article/138/0002191519\n",
      " https://n.news.naver.com/mnews/article/comment/138/0002191519\n",
      "티맵모빌리티, 작년 매출 3226억…'데이터·솔루션' 실적 견인 https://n.news.naver.com/mnews/article/018/0005951076\n",
      " https://n.news.naver.com/mnews/article/comment/018/0005951076\n",
      "NHN, 좀비 게임 ‘다키스트 데이즈’ 글로벌 테스트 시작 https://n.news.naver.com/mnews/article/009/0005449760\n",
      " https://n.news.naver.com/mnews/article/comment/009/0005449760\n",
      "키움 '독점' 깨진다…4개 운용사 美 양자컴 ETF 3월 출시 https://n.news.naver.com/mnews/article/011/0004454705\n",
      " https://n.news.naver.com/mnews/article/comment/011/0004454705\n",
      "\"국산 AI 반도체 상용화 속도…올해 의료·공공 등 AI서비스 실증\" https://n.news.naver.com/mnews/article/031/0000911724\n",
      " https://n.news.naver.com/mnews/article/comment/031/0000911724\n",
      "\"지금이 韓 AI 골든타임…규제는 2~3년 유예기간 두자\" https://n.news.naver.com/mnews/article/277/0005551940\n",
      " https://n.news.naver.com/mnews/article/comment/277/0005551940\n",
      "“언제부터 짜장면 배달비 냈다고?” 무료 배달 ‘대박’났다더니…이 정도였어? https://n.news.naver.com/mnews/article/016/0002434040\n",
      " https://n.news.naver.com/mnews/article/comment/016/0002434040\n",
      "화성이 붉은 이유, 물이 있었기 때문…\"물 함유 산화철 확인\" https://n.news.naver.com/mnews/article/584/0000031096\n",
      " https://n.news.naver.com/mnews/article/comment/584/0000031096\n",
      "보스턴다이내믹스 창립자 \"인간 같은 로봇, 현 AI 기술론 부족\" https://n.news.naver.com/mnews/article/029/0002937729\n",
      " https://n.news.naver.com/mnews/article/comment/029/0002937729\n",
      "“완전 새 옷을 태워 버린다니” 이게 말이 돼?…차라리 나눠주지, 왜? [지구, 뭐래?] https://n.news.naver.com/mnews/article/016/0002434032\n",
      " https://n.news.naver.com/mnews/article/comment/016/0002434032\n",
      "김재교 메리츠증권 부사장, 한미사이언스 대표 내정 https://n.news.naver.com/mnews/article/018/0005951136\n",
      " https://n.news.naver.com/mnews/article/comment/018/0005951136\n",
      "갤럭시 S25 흥행에⋯SKT, 아이폰16 공시지원금 47만원↑ https://n.news.naver.com/mnews/article/031/0000911681\n",
      " https://n.news.naver.com/mnews/article/comment/031/0000911681\n",
      "컴퓨터 조작하는 AI 'CUA' 상용화… 국내 개발은 지지부진 https://n.news.naver.com/mnews/article/014/0005313325\n",
      " https://n.news.naver.com/mnews/article/comment/014/0005313325\n",
      "KTOA \"AI에 명운 건 이통사⋯정책지원·규제개선 필요\"(종합) https://n.news.naver.com/mnews/article/031/0000911676\n",
      " https://n.news.naver.com/mnews/article/comment/031/0000911676\n",
      "삼성·LG에 밀린 日 JDI, 생존 위해 美 밀착 https://n.news.naver.com/mnews/article/031/0000911675\n",
      " https://n.news.naver.com/mnews/article/comment/031/0000911675\n",
      "스페이스X '팰콘9'처럼… 韓도 차세대발사체, 2032년까지 재사용 발사체로 개발 https://n.news.naver.com/mnews/article/014/0005313269\n",
      " https://n.news.naver.com/mnews/article/comment/014/0005313269\n",
      "\"한번 쓰고 버리는 소비 개념 저문다...버추얼 트윈이 순환 시스템 촉진\" https://n.news.naver.com/mnews/article/092/0002364554\n",
      " https://n.news.naver.com/mnews/article/comment/092/0002364554\n",
      "인터넷기업협회 \"AI 인재에 병역특례 적용 필요\"(종합2보) https://n.news.naver.com/mnews/article/001/0015233447\n",
      " https://n.news.naver.com/mnews/article/comment/001/0015233447\n",
      "AI는 세상에 없던 기술, 결국 창의력 싸움 https://n.news.naver.com/mnews/article/009/0005449825\n",
      " https://n.news.naver.com/mnews/article/comment/009/0005449825\n",
      "\"일주일에 소주 5~6병 마시면 못 걸을 수 있다\"…대퇴골두 골괴사, 예방법은 https://n.news.naver.com/mnews/article/421/0008097649\n",
      " https://n.news.naver.com/mnews/article/comment/421/0008097649\n",
      "韓도 재활용발사체 개발…2035년 20회 이상 쏜다 https://n.news.naver.com/mnews/article/011/0004454707\n",
      " https://n.news.naver.com/mnews/article/comment/011/0004454707\n",
      "트럼프플레이션 경고등… 갤럭시·아이폰 가격 동반 급등할까 https://n.news.naver.com/mnews/article/417/0001060429\n",
      " https://n.news.naver.com/mnews/article/comment/417/0001060429\n",
      "보스턴다이내믹스 창업자 \"로봇이 韓인력난 해결\" https://n.news.naver.com/mnews/article/011/0004454701\n",
      " https://n.news.naver.com/mnews/article/comment/011/0004454701\n",
      "다이소 영양제·건기식, 왜 더 싼가 살펴보니 https://n.news.naver.com/mnews/article/092/0002364551\n",
      " https://n.news.naver.com/mnews/article/comment/092/0002364551\n",
      "또 한번 혁신…\"버추얼 트윈에 AI 설계 비서 장착\" https://n.news.naver.com/mnews/article/011/0004454698\n",
      " https://n.news.naver.com/mnews/article/comment/011/0004454698\n",
      "[코스닥밸류업 진단] 넥스틴, CAPEX 성과 가시화...밸류업 계획은 '아직' https://n.news.naver.com/mnews/article/293/0000064206\n",
      " https://n.news.naver.com/mnews/article/comment/293/0000064206\n",
      "\"한국 AI 발전 위해선 주52시간제 폐지해야\" https://n.news.naver.com/mnews/article/008/0005158148\n",
      " https://n.news.naver.com/mnews/article/comment/008/0005158148\n",
      "[기고] 우주 개발 '게임 체인저' 재사용발사체 https://n.news.naver.com/mnews/article/011/0004454679\n",
      " https://n.news.naver.com/mnews/article/comment/011/0004454679\n",
      "다쏘시스템, AI 챗봇 '아우라' 솔리드웍스 적용…\"한국 매출 두배↑ 목표\" https://n.news.naver.com/mnews/article/018/0005951059\n",
      " https://n.news.naver.com/mnews/article/comment/018/0005951059\n",
      "오픈AI 이어 앤스로픽까지 … AI 韓 각축전 https://n.news.naver.com/mnews/article/009/0005449761\n",
      " https://n.news.naver.com/mnews/article/comment/009/0005449761\n",
      "\"中 화웨이, 첨단 AI 칩 수율 2배로 향상...40%\" https://n.news.naver.com/mnews/article/031/0000911668\n",
      " https://n.news.naver.com/mnews/article/comment/031/0000911668\n",
      "'2조원 K로켓사업' 원점으로 차세대 발사체 재사용 목표 https://n.news.naver.com/mnews/article/009/0005449757\n",
      " https://n.news.naver.com/mnews/article/comment/009/0005449757\n",
      "\"기회 영영 없을지도\" 韓, AI 2군 전락…국가 청사진 나와야 https://n.news.naver.com/mnews/article/018/0005951051\n",
      " https://n.news.naver.com/mnews/article/comment/018/0005951051\n",
      "인도서 중저가 스마트폰 조기 출시 예고한 삼성… 보급형 아이폰 가격 올린 애플 빈틈 노린다 https://n.news.naver.com/mnews/article/366/0001056674\n",
      " https://n.news.naver.com/mnews/article/comment/366/0001056674\n",
      "롯데바이오로직스 송도공장 준공 6개월 연기…상업가동은 예정대로 https://n.news.naver.com/mnews/article/015/0005099075\n",
      " https://n.news.naver.com/mnews/article/comment/015/0005099075\n",
      "\"공들여 키웠는데 배신을…\" 114조 쓴다던 MS '공포 확산' https://n.news.naver.com/mnews/article/015/0005099074\n",
      " https://n.news.naver.com/mnews/article/comment/015/0005099074\n",
      "SK하이닉스, 용인 반도체 클러스터 1기 팹 착공 https://n.news.naver.com/mnews/article/031/0000911664\n",
      " https://n.news.naver.com/mnews/article/comment/031/0000911664\n",
      "\"한국 글로벌 AI 패권 골든타임 기로...과감한 지원 필요\" https://n.news.naver.com/mnews/article/092/0002364548\n",
      " https://n.news.naver.com/mnews/article/comment/092/0002364548\n",
      "붉은 행성서 바다 흔적 찾았다…해안 지하 퇴적층 확인 [여기는 화성] https://n.news.naver.com/mnews/article/092/0002364547\n",
      " https://n.news.naver.com/mnews/article/comment/092/0002364547\n",
      "유상임 \"반도체법 52시간 예외 찬성\"…野 \"IT 노동계 입장도 들을 것\" https://n.news.naver.com/mnews/article/138/0002191528\n",
      " https://n.news.naver.com/mnews/article/comment/138/0002191528\n"
     ]
    }
   ],
   "execution_count": 20,
   "source": [
    "# IT/과학 뉴스\n",
    "# https://news.naver.com/section/105\n",
    "req_param = {\n",
    "    'sid': 105\n",
    "}\n",
    "url = 'https://news.naver.com/section/{sid}'.format(**req_param)\n",
    "print('url : ' + url)\n",
    "# 요청 헤더 설정 : 브라우저 정보\n",
    "req_header = {\n",
    "    'user-agent': 'Mozilla/5.0 (Windows NT 10.0; Win64; x64) AppleWebKit/537.36 (KHTML, like Gecko) Chrome/104.0.0.0 Safari/537.36'\n",
    "}\n",
    "res = requests.get(url, headers=req_header)\n",
    "\n",
    "print(type(res))\n",
    "print(res.status_code)\n",
    "# status_code == 200\n",
    "if res.ok:\n",
    "    html = res.text\n",
    "    soup = BeautifulSoup(html,'html.parser')\n",
    "    #print(soup.select(\"div.sa_text a[href*='mnews/article']\"))\n",
    "    a_tag_list = soup.select(\"div.sa_text a[href*='mnews/article']\")\n",
    "    print(type(a_tag_list)) #[<a>뉴스제목</a>,<a></a>]\n",
    "    for a_tag in a_tag_list:\n",
    "        #print(a_tag)\n",
    "        title = a_tag.text.strip() #strip() => \\n \\t 없애줌\n",
    "        link = a_tag['href']\n",
    "        print(title, link)\n",
    "else:\n",
    "    print(f'에러코드 = {res.status_code}')"
   ],
   "id": "abc91091b7e64279"
  },
  {
   "metadata": {},
   "cell_type": "markdown",
   "source": "### 1.1 뉴스제목 추출 함수 선언\n",
   "id": "3eb35d83140f6b99"
  },
  {
   "metadata": {
    "ExecuteTime": {
     "end_time": "2025-02-25T14:03:01.679323Z",
     "start_time": "2025-02-25T14:03:01.659828Z"
    }
   },
   "cell_type": "code",
   "outputs": [],
   "execution_count": 12,
   "source": [
    "import requests\n",
    "from bs4 import BeautifulSoup\n",
    "\n",
    "section_dict = {100:'정치',101:'경제',102:'사회',103:'생활/문화',104:'세계',105:'IT/과학'}\n",
    "\n",
    "def print_news(sid, section):  #print_new(103,'생활/문화')\n",
    "    # 요청 Parameter\n",
    "    req_param = {\n",
    "        'sid': sid\n",
    "    }\n",
    "    url = 'https://news.naver.com/section/{sid}'.format(**req_param)\n",
    "\n",
    "    print(f'======> {url} {section} 뉴스 <======')\n",
    "\n",
    "    # 요청 헤더 설정 : 브라우저 정보\n",
    "    req_header = {\n",
    "        'user-agent': 'Mozilla/5.0 (Windows NT 10.0; Win64; x64) AppleWebKit/537.36 (KHTML, like Gecko) Chrome/104.0.0.0 Safari/537.36'\n",
    "    }\n",
    "\n",
    "    res = requests.get(url, headers=req_header)\n",
    "    if res.ok:\n",
    "        soup = BeautifulSoup(res.text, 'html.parser')\n",
    "        # <div class=\"sa_text\">\n",
    "        # atag_list = soup.select(\"div.sa_text a[href*='https://n.news.naver.com/mnews/article']\")\n",
    "        atag_list = soup.select(\"div.sa_text a.sa_text_title\")\n",
    "        print(len(atag_list))\n",
    "\n",
    "        for atag in atag_list:\n",
    "            title = atag.text\n",
    "            link = atag['href']\n",
    "            print(f'{title}')\n",
    "            print(f'기사링크 = {link}')\n",
    "    else:\n",
    "        print(f'Error Code = {res.status_code}')"
   ],
   "id": "46e330acd42b8aec"
  },
  {
   "metadata": {},
   "cell_type": "markdown",
   "source": "",
   "id": "3cb9e34649cbdb11"
  },
  {
   "metadata": {
    "ExecuteTime": {
     "end_time": "2025-02-25T14:11:57.088300Z",
     "start_time": "2025-02-25T14:11:56.872691Z"
    }
   },
   "cell_type": "code",
   "source": "print_news(103,section_dict[103])",
   "id": "3ca60a109c7b6e65",
   "outputs": [
    {
     "name": "stdout",
     "output_type": "stream",
     "text": [
      "======> https://news.naver.com/section/103 생활/문화 뉴스 <======\n",
      "42\n",
      "\n",
      "국립예술단체 통합 반대 연대 서명에 나선 무용계\n",
      "\n",
      "기사링크 = https://n.news.naver.com/mnews/article/022/0004013959\n",
      "\n",
      "피아니스트 임윤찬 ‘깜짝 공연’…“출연료 없이 수익금 기부”\n",
      "\n",
      "기사링크 = https://n.news.naver.com/mnews/article/056/0011899795\n",
      "\n",
      "현대차·기아, 1월 유럽 판매량 8만3297대…전년比 3.7%↓\n",
      "\n",
      "기사링크 = https://n.news.naver.com/mnews/article/629/0000367923\n",
      "\n",
      "佛작가 피에르 위그가 상상한 '예측불가능한 과도기적 세계'(종합)\n",
      "\n",
      "기사링크 = https://n.news.naver.com/mnews/article/001/0015233174\n",
      "\n",
      "배우 이영애, 32년 만에 LG아트센터에서 연극 무대 복귀\n",
      "\n",
      "기사링크 = https://n.news.naver.com/mnews/article/022/0004013995\n",
      "\n",
      "전두환 장남 설립 '북플러스', 결국 법원에 파산 신청\n",
      "\n",
      "기사링크 = https://n.news.naver.com/mnews/article/003/0013087005\n",
      "\n",
      "[오늘의 별자리 운세] 2월 26일 수요일\n",
      "\n",
      "기사링크 = https://n.news.naver.com/mnews/article/366/0001056695\n",
      "\n",
      "“하루 10번 화장실. 체중 23kg 빠졌다” 세계 1위 유튜버의 희귀질환\n",
      "\n",
      "기사링크 = https://n.news.naver.com/mnews/article/016/0002434072\n",
      "\n",
      "[뉴스9 날씨] 내일 황사, 미세먼지 주의…산불 조심\n",
      "\n",
      "기사링크 = https://n.news.naver.com/mnews/article/056/0011900010\n",
      "\n",
      "[날씨] 평년 날씨 회복…'불청객' 황사 온다\n",
      "\n",
      "기사링크 = https://n.news.naver.com/mnews/article/055/0001235091\n",
      "\n",
      "김사은, “출산 후에도 탄탄 복근”...늘어난 '살가죽' 없애는 복부 운동은?\n",
      "\n",
      "기사링크 = https://n.news.naver.com/mnews/article/296/0000087067\n",
      "\n",
      "편리하게 건강 챙기려다… ‘이 주스’ 3일 마셨더니 몸에 심각한 문제 생겼다\n",
      "\n",
      "기사링크 = https://n.news.naver.com/mnews/article/346/0000088030\n",
      "\n",
      "[날씨] 내일 반짝 황사 영향, 기온은 오름세‥대기 건조\n",
      "\n",
      "기사링크 = https://n.news.naver.com/mnews/article/214/0001407681\n",
      "\n",
      "\"장점 있지만\" 껌 절대로 씹으면 안 되는 사람은\n",
      "\n",
      "기사링크 = https://n.news.naver.com/mnews/article/123/0002353712\n",
      "\n",
      "방안에 ‘이것’ 있으면… 오래 자도 다음 날 아침 비몽사몽\n",
      "\n",
      "기사링크 = https://n.news.naver.com/mnews/article/346/0000088029\n",
      "\n",
      "[날씨] 점점 약해지는 추위…삼일절 연휴 땐 '포근'\n",
      "\n",
      "기사링크 = https://n.news.naver.com/mnews/article/437/0000431374\n",
      "\n",
      "\"152kg 풍만한 내몸 사랑한다\"던 女...1년간 32kg 뺀 건강상 이유 보니\n",
      "\n",
      "기사링크 = https://n.news.naver.com/mnews/article/296/0000087066\n",
      "\n",
      "귀에서 ‘이런 귀지’ 나오면 건강 이상 신호\n",
      "\n",
      "기사링크 = https://n.news.naver.com/mnews/article/346/0000088028\n",
      "\n",
      "오래 서 있어 다리 아플 땐 ‘이 동작’으로 푼다\n",
      "\n",
      "기사링크 = https://n.news.naver.com/mnews/article/020/0003617593\n",
      "\n",
      "‘나폴리 맛피아’ 권성준 셰프 부친상…“해외서 부고 들어”\n",
      "\n",
      "기사링크 = https://n.news.naver.com/mnews/article/005/0001759644\n",
      "\n",
      "손톱·눈에도 증상이… 심장마비 위험 신호, 몸 곳곳에서 나타난다\n",
      "\n",
      "기사링크 = https://n.news.naver.com/mnews/article/346/0000088027\n",
      "\n",
      "'흑백요리사' 앞세워 또 '품절 대란'…\"없어서 못 팔아요\"\n",
      "\n",
      "기사링크 = https://n.news.naver.com/mnews/article/015/0005099220\n",
      "\n",
      "\"배터리 충전 아니었네\"…전기차 '긴급출동' 1위는?\n",
      "\n",
      "기사링크 = https://n.news.naver.com/mnews/article/031/0000911720\n",
      "\n",
      "프란치스코 교황 “화려한 제대 없는 소박한 장례 될 겁니다”\n",
      "\n",
      "기사링크 = https://n.news.naver.com/mnews/article/081/0003520764\n",
      "\n",
      "중년들의 3월 등산이 독이 되는 경우...최악의 상황은?\n",
      "\n",
      "기사링크 = https://n.news.naver.com/mnews/article/296/0000087065\n",
      "\n",
      "하루 5분 ‘이것’ 했더니, 치매 위험 확 줄었다\n",
      "\n",
      "기사링크 = https://n.news.naver.com/mnews/article/346/0000088026\n",
      "\n",
      "‘시총 3조’ 넘던 회사가 어쩌다… 셀리버리, 상장폐지\n",
      "\n",
      "기사링크 = https://n.news.naver.com/mnews/article/346/0000088025\n",
      "\n",
      "이마트, G마켓 인수 특수목적법인 합병...알리 합작법인 후속절차\n",
      "\n",
      "기사링크 = https://n.news.naver.com/mnews/article/009/0005449861\n",
      "\n",
      "\"뉴진스 갈등? 최고매출 거뒀잖아\"…'공연·MD'로 입증한 하이브\n",
      "\n",
      "기사링크 = https://n.news.naver.com/mnews/article/138/0002191534\n",
      "\n",
      "[fn이사람] \"곧 초음파로 뇌종양 치료하는 시대 옵니다\"\n",
      "\n",
      "기사링크 = https://n.news.naver.com/mnews/article/014/0005313288\n",
      "\n",
      "카페인, 각성효과 외 두통·불면도…‘이것’ 의존 심해졌다?\n",
      "\n",
      "기사링크 = https://n.news.naver.com/mnews/article/296/0000087062\n",
      "\n",
      "\"이번 정류장은 주민센터 … 공짜입니다, 올라타세요\"\n",
      "\n",
      "기사링크 = https://n.news.naver.com/mnews/article/009/0005449834\n",
      "\n",
      "리더의 덕목을 실천한 위대한 법조인, 김병로 [한ZOOM]\n",
      "\n",
      "기사링크 = https://n.news.naver.com/mnews/article/081/0003520745\n",
      "\n",
      "[내일날씨] 강추위 물러가고 봄 시작되나…낮 최고 12도 ‘포근’\n",
      "\n",
      "기사링크 = https://n.news.naver.com/mnews/article/022/0004014096\n",
      "\n",
      "[팩토리 팝콘] 현대차 포터2 공장장의 대자보\n",
      "\n",
      "기사링크 = https://n.news.naver.com/mnews/article/009/0005449799\n",
      "\n",
      "삼성·현대차, 로봇 전용 배터리 만든다\n",
      "\n",
      "기사링크 = https://n.news.naver.com/mnews/article/009/0005449795\n",
      "\n",
      "亞·유럽은 K팝, 북미는 김치·불닭볶음면에 빠졌네\n",
      "\n",
      "기사링크 = https://n.news.naver.com/mnews/article/011/0004454694\n",
      "\n",
      "[위기의 소청과] 수도권 대학병원도 신생아중환자실 문 닫았다(상)\n",
      "\n",
      "기사링크 = https://n.news.naver.com/mnews/article/584/0000031095\n",
      "\n",
      "'준스톤 이어원' 이준석 \"다큐 제안받고 30초...새드엔딩 우려\"\n",
      "\n",
      "기사링크 = https://n.news.naver.com/mnews/article/014/0005313252\n",
      "\n",
      "\"살 빼긴 어려운데 찌는 건⋯\" 매일 '이것' 반 숟갈이면 체중 증가 억제\n",
      "\n",
      "기사링크 = https://n.news.naver.com/mnews/article/031/0000911663\n",
      "\n",
      "하이브, BTS 부재에도 최대 실적...멀티 레이블 안착 효과\n",
      "\n",
      "기사링크 = https://n.news.naver.com/mnews/article/015/0005099066\n",
      "\n",
      "\"1년에 100만장 팔았다\" 스파오 청바지 열풍\n",
      "\n",
      "기사링크 = https://n.news.naver.com/mnews/article/009/0005449728\n"
     ]
    }
   ],
   "execution_count": 21
  },
  {
   "metadata": {},
   "cell_type": "markdown",
   "source": "## 2. Image 다운로드",
   "id": "22f16e6d1a58455c"
  },
  {
   "metadata": {
    "ExecuteTime": {
     "end_time": "2025-02-25T14:18:37.550918Z",
     "start_time": "2025-02-25T14:18:37.291070Z"
    }
   },
   "cell_type": "code",
   "source": [
    "import requests\n",
    "import os\n",
    "\n",
    "req_header = {\n",
    "    'referer':'https://comic.naver.com/webtoon/detail?titleId=798173&no=5&amp;weekday=thu'\n",
    "}\n",
    "img_urls = [\n",
    "    'https://image-comic.pstatic.net/webtoon/798173/5/20220804112251_d97bd1e1b38f0cd022e4e3639d2926b3_IMAG01_1.jpg',\n",
    "    'https://image-comic.pstatic.net/webtoon/798173/5/20220804112251_d97bd1e1b38f0cd022e4e3639d2926b3_IMAG01_2.jpg',\n",
    "    'https://image-comic.pstatic.net/webtoon/798173/5/20220804112251_d97bd1e1b38f0cd022e4e3639d2926b3_IMAG01_3.jpg'\n",
    "]\n",
    "\n",
    "save_path = \"images/ch01\"\n",
    "os.makedirs(save_path, exist_ok=True)\n",
    "\n",
    "for img_url in img_urls:\n",
    "    res = requests.get(img_url, headers=req_header)\n",
    "    print(res.status_code)\n",
    "    if res.ok:\n",
    "        # binary 응답 데이터 가져오기\n",
    "        img_data = res.content\n",
    "        # url에서 파일명만 추출하기\n",
    "        file_name = os.path.join(save_path, os.path.basename(img_url))  # 경로 추가\n",
    "        # binday data를 file에 write하기\n",
    "        with open(file_name,'wb') as file:\n",
    "            print(f'writing to {file_name}({len(img_data):,} bytes)')\n",
    "            # binary data를 file로 write 하기\n",
    "            file.write(img_data)\n",
    "    else:\n",
    "        print(f'Error Code = {res.status_code}')"
   ],
   "id": "d3ca9cb68830b221",
   "outputs": [
    {
     "name": "stdout",
     "output_type": "stream",
     "text": [
      "200\n",
      "writing to images/ch01/20220804112251_d97bd1e1b38f0cd022e4e3639d2926b3_IMAG01_1.jpg(299,319 bytes)\n",
      "200\n",
      "writing to images/ch01/20220804112251_d97bd1e1b38f0cd022e4e3639d2926b3_IMAG01_2.jpg(163,333 bytes)\n",
      "200\n",
      "writing to images/ch01/20220804112251_d97bd1e1b38f0cd022e4e3639d2926b3_IMAG01_3.jpg(182,530 bytes)\n"
     ]
    }
   ],
   "execution_count": 25
  },
  {
   "metadata": {},
   "cell_type": "markdown",
   "source": "### 2.1 현재 요청된 페이지 image 다운받기",
   "id": "eeeb55bfdb6e50e2"
  },
  {
   "metadata": {
    "ExecuteTime": {
     "end_time": "2025-02-25T14:24:53.882488Z",
     "start_time": "2025-02-25T14:24:52.868941Z"
    }
   },
   "cell_type": "code",
   "source": [
    "import requests\n",
    "import os\n",
    "\n",
    "url = 'https://comic.naver.com/webtoon/detail?titleId=817945&no=37&week=mon'\n",
    "req_header = {\n",
    "    'referer': url\n",
    "}\n",
    "res = requests.get(url)\n",
    "if res.ok: #200\n",
    "    # xx.jpg 이미지 파일명 목록 가져오기\n",
    "    soup = BeautifulSoup(res.text, 'html.parser')\n",
    "    img_tags = soup.select(\"img[src*='IMAG01']\") #soup.select(\"img[src$='.jpg']\")\n",
    "    print(len(img_tags)) #ResultSet\n",
    "\n",
    "    # jpg 파일명을 저장할 list\n",
    "    img_url_list = list()\n",
    "    for img_tag in img_tags:\n",
    "        # <img src='xxx.jpg'>태그의 src 속성의 값을 추출하기\n",
    "        img_url_list.append(img_tag['src']) #['a.jpg','b.jpg']\n",
    "\n",
    "    print(len(img_url_list), img_url_list[:3])\n",
    "\n",
    "    imgdir_name = 'images/ch01/img'\n",
    "    # img 디렉토리가 없으면 생성\n",
    "    if not os.path.isdir(imgdir_name):\n",
    "        os.mkdir(imgdir_name)\n",
    "\n",
    "    for img_url in img_url_list:\n",
    "        res = requests.get(img_url, headers=req_header)\n",
    "        if res.ok:\n",
    "            # binary data 가져오기\n",
    "            img_data = res.content\n",
    "            # img/xxx.jpg 디렉토리명과 파일명을 join\n",
    "            dir_name = os.path.join(imgdir_name, os.path.basename(img_url))\n",
    "            # binday data를 file에 write하기\n",
    "            with open(dir_name,'wb') as file:\n",
    "                print(f'writing to {dir_name}({len(img_data):,} bytes)')\n",
    "                file.write(img_data)\n",
    "        else:\n",
    "            print(f'Error Code = {res.status_code}')\n",
    "else:\n",
    "    print(res.status_code)"
   ],
   "id": "92fabb27f46b4617",
   "outputs": [
    {
     "name": "stdout",
     "output_type": "stream",
     "text": [
      "18\n",
      "18 ['https://image-comic.pstatic.net/webtoon/817945/37/20240226100634_548bfa8f14799d53d45b5f12df1b289e_IMAG01_1.jpg', 'https://image-comic.pstatic.net/webtoon/817945/37/20240226100634_548bfa8f14799d53d45b5f12df1b289e_IMAG01_2.jpg', 'https://image-comic.pstatic.net/webtoon/817945/37/20240226100634_548bfa8f14799d53d45b5f12df1b289e_IMAG01_3.jpg']\n",
      "writing to images/ch01/img/20240226100634_548bfa8f14799d53d45b5f12df1b289e_IMAG01_1.jpg(128,897 bytes)\n",
      "writing to images/ch01/img/20240226100634_548bfa8f14799d53d45b5f12df1b289e_IMAG01_2.jpg(143,194 bytes)\n",
      "writing to images/ch01/img/20240226100634_548bfa8f14799d53d45b5f12df1b289e_IMAG01_3.jpg(101,900 bytes)\n",
      "writing to images/ch01/img/20240226100634_548bfa8f14799d53d45b5f12df1b289e_IMAG01_4.jpg(112,007 bytes)\n",
      "writing to images/ch01/img/20240226100634_548bfa8f14799d53d45b5f12df1b289e_IMAG01_5.jpg(190,876 bytes)\n",
      "writing to images/ch01/img/20240226100634_548bfa8f14799d53d45b5f12df1b289e_IMAG01_6.jpg(134,590 bytes)\n",
      "writing to images/ch01/img/20240226100634_548bfa8f14799d53d45b5f12df1b289e_IMAG01_7.jpg(132,910 bytes)\n",
      "writing to images/ch01/img/20240226100634_548bfa8f14799d53d45b5f12df1b289e_IMAG01_8.jpg(174,434 bytes)\n",
      "writing to images/ch01/img/20240226100634_548bfa8f14799d53d45b5f12df1b289e_IMAG01_9.jpg(88,576 bytes)\n",
      "writing to images/ch01/img/20240226100634_548bfa8f14799d53d45b5f12df1b289e_IMAG01_10.jpg(177,240 bytes)\n",
      "writing to images/ch01/img/20240226100634_548bfa8f14799d53d45b5f12df1b289e_IMAG01_11.jpg(95,130 bytes)\n",
      "writing to images/ch01/img/20240226100634_548bfa8f14799d53d45b5f12df1b289e_IMAG01_12.jpg(109,718 bytes)\n",
      "writing to images/ch01/img/20240226100634_548bfa8f14799d53d45b5f12df1b289e_IMAG01_13.jpg(144,476 bytes)\n",
      "writing to images/ch01/img/20240226100634_548bfa8f14799d53d45b5f12df1b289e_IMAG01_14.jpg(127,739 bytes)\n",
      "writing to images/ch01/img/20240226100634_548bfa8f14799d53d45b5f12df1b289e_IMAG01_15.jpg(143,133 bytes)\n",
      "writing to images/ch01/img/20240226100634_548bfa8f14799d53d45b5f12df1b289e_IMAG01_16.jpg(159,328 bytes)\n",
      "writing to images/ch01/img/20240226100634_548bfa8f14799d53d45b5f12df1b289e_IMAG01_17.jpg(139,300 bytes)\n",
      "writing to images/ch01/img/20240226100634_548bfa8f14799d53d45b5f12df1b289e_IMAG01_18.jpg(54,967 bytes)\n"
     ]
    }
   ],
   "execution_count": 26
  },
  {
   "metadata": {},
   "cell_type": "markdown",
   "source": [
    "## 3. 파일 업로드 하기\n",
    "- http://httpbin.org/post 업로드 요청을 할 수 있는 url\n"
   ],
   "id": "cf04b758523898e3"
  },
  {
   "metadata": {
    "ExecuteTime": {
     "end_time": "2025-02-25T14:34:01.533654Z",
     "start_time": "2025-02-25T14:33:58.510204Z"
    }
   },
   "cell_type": "code",
   "source": [
    "import requests\n",
    "\n",
    "upload_files = {\n",
    "    'img1': open('images/ch01/img.png','rb'), # rb --> read binary 의 약자\n",
    "    'img2': open('images/ch01/img_1.png','rb'),\n",
    "}\n",
    "#print(upload_files)\n",
    "url = 'http://httpbin.org/post'\n",
    "# file 업로드 하려면 post 함수에 files 속성을 사용합니다.\n",
    "res = requests.post(url, files=upload_files)\n",
    "print(res.status_code)\n",
    "#print(res.json())\n",
    "#print(res.json()['files']['img1'])"
   ],
   "id": "de55ecb6f2622953",
   "outputs": [
    {
     "name": "stdout",
     "output_type": "stream",
     "text": [
      "200\n"
     ]
    }
   ],
   "execution_count": 29
  },
  {
   "metadata": {},
   "cell_type": "markdown",
   "source": [
    "## 4. 캡챠 API 호출하기\n",
    "- urllib 사용\n",
    "    - 캡차 키 발급 요청\n",
    "    - 캡차 이미지 요청\n",
    "    - 사용자 입력값 검증 요청 ( requests 라이브러리 사용으로 코드 변경해 보기)"
   ],
   "id": "4e9d66a961763e0d"
  },
  {
   "metadata": {
    "ExecuteTime": {
     "end_time": "2025-02-25T14:37:42.536389Z",
     "start_time": "2025-02-25T14:37:42.284956Z"
    }
   },
   "cell_type": "code",
   "source": [
    "# 캡차 키 발급 요청\n",
    "import os\n",
    "import sys\n",
    "import urllib.request\n",
    "\n",
    "client_id = \"######\" # 개발자센터에서 발급받은 Client ID 값\n",
    "client_secret = \"######\" # 개발자센터에서 발급받은 Client Secret 값\n",
    "\n",
    "#요청하는 작업의 코드(기본값: 0). 캡차 키 발급을 요청할 때는 값을 0으로 설정해야 합니다.\n",
    "code = \"0\"\n",
    "url = f\"https://openapi.naver.com/v1/captcha/nkey?code={code}\"\n",
    "# Request 객체생성\n",
    "request = urllib.request.Request(url)\n",
    "\n",
    "# request header 설정\n",
    "request.add_header(\"X-Naver-Client-Id\",client_id)\n",
    "request.add_header(\"X-Naver-Client-Secret\",client_secret)\n",
    "\n",
    "# Request 요청 보내기\n",
    "response = urllib.request.urlopen(request)\n",
    "# 응답 코드 받기\n",
    "rescode = response.getcode()\n",
    "if(rescode==200):\n",
    "    response_body = response.read()\n",
    "    print(response_body.decode('utf-8'))\n",
    "else:\n",
    "    print(\"Error Code:\" + rescode)"
   ],
   "id": "bf4e2df497008be1",
   "outputs": [
    {
     "ename": "URLError",
     "evalue": "<urlopen error [SSL: CERTIFICATE_VERIFY_FAILED] certificate verify failed: self-signed certificate in certificate chain (_ssl.c:1000)>",
     "output_type": "error",
     "traceback": [
      "\u001B[0;31m---------------------------------------------------------------------------\u001B[0m",
      "\u001B[0;31mSSLCertVerificationError\u001B[0m                  Traceback (most recent call last)",
      "File \u001B[0;32m/Library/Frameworks/Python.framework/Versions/3.12/lib/python3.12/urllib/request.py:1344\u001B[0m, in \u001B[0;36mAbstractHTTPHandler.do_open\u001B[0;34m(self, http_class, req, **http_conn_args)\u001B[0m\n\u001B[1;32m   1343\u001B[0m \u001B[38;5;28;01mtry\u001B[39;00m:\n\u001B[0;32m-> 1344\u001B[0m     \u001B[43mh\u001B[49m\u001B[38;5;241;43m.\u001B[39;49m\u001B[43mrequest\u001B[49m\u001B[43m(\u001B[49m\u001B[43mreq\u001B[49m\u001B[38;5;241;43m.\u001B[39;49m\u001B[43mget_method\u001B[49m\u001B[43m(\u001B[49m\u001B[43m)\u001B[49m\u001B[43m,\u001B[49m\u001B[43m \u001B[49m\u001B[43mreq\u001B[49m\u001B[38;5;241;43m.\u001B[39;49m\u001B[43mselector\u001B[49m\u001B[43m,\u001B[49m\u001B[43m \u001B[49m\u001B[43mreq\u001B[49m\u001B[38;5;241;43m.\u001B[39;49m\u001B[43mdata\u001B[49m\u001B[43m,\u001B[49m\u001B[43m \u001B[49m\u001B[43mheaders\u001B[49m\u001B[43m,\u001B[49m\n\u001B[1;32m   1345\u001B[0m \u001B[43m              \u001B[49m\u001B[43mencode_chunked\u001B[49m\u001B[38;5;241;43m=\u001B[39;49m\u001B[43mreq\u001B[49m\u001B[38;5;241;43m.\u001B[39;49m\u001B[43mhas_header\u001B[49m\u001B[43m(\u001B[49m\u001B[38;5;124;43m'\u001B[39;49m\u001B[38;5;124;43mTransfer-encoding\u001B[39;49m\u001B[38;5;124;43m'\u001B[39;49m\u001B[43m)\u001B[49m\u001B[43m)\u001B[49m\n\u001B[1;32m   1346\u001B[0m \u001B[38;5;28;01mexcept\u001B[39;00m \u001B[38;5;167;01mOSError\u001B[39;00m \u001B[38;5;28;01mas\u001B[39;00m err: \u001B[38;5;66;03m# timeout error\u001B[39;00m\n",
      "File \u001B[0;32m/Library/Frameworks/Python.framework/Versions/3.12/lib/python3.12/http/client.py:1319\u001B[0m, in \u001B[0;36mHTTPConnection.request\u001B[0;34m(self, method, url, body, headers, encode_chunked)\u001B[0m\n\u001B[1;32m   1318\u001B[0m \u001B[38;5;250m\u001B[39m\u001B[38;5;124;03m\"\"\"Send a complete request to the server.\"\"\"\u001B[39;00m\n\u001B[0;32m-> 1319\u001B[0m \u001B[38;5;28;43mself\u001B[39;49m\u001B[38;5;241;43m.\u001B[39;49m\u001B[43m_send_request\u001B[49m\u001B[43m(\u001B[49m\u001B[43mmethod\u001B[49m\u001B[43m,\u001B[49m\u001B[43m \u001B[49m\u001B[43murl\u001B[49m\u001B[43m,\u001B[49m\u001B[43m \u001B[49m\u001B[43mbody\u001B[49m\u001B[43m,\u001B[49m\u001B[43m \u001B[49m\u001B[43mheaders\u001B[49m\u001B[43m,\u001B[49m\u001B[43m \u001B[49m\u001B[43mencode_chunked\u001B[49m\u001B[43m)\u001B[49m\n",
      "File \u001B[0;32m/Library/Frameworks/Python.framework/Versions/3.12/lib/python3.12/http/client.py:1365\u001B[0m, in \u001B[0;36mHTTPConnection._send_request\u001B[0;34m(self, method, url, body, headers, encode_chunked)\u001B[0m\n\u001B[1;32m   1364\u001B[0m     body \u001B[38;5;241m=\u001B[39m _encode(body, \u001B[38;5;124m'\u001B[39m\u001B[38;5;124mbody\u001B[39m\u001B[38;5;124m'\u001B[39m)\n\u001B[0;32m-> 1365\u001B[0m \u001B[38;5;28;43mself\u001B[39;49m\u001B[38;5;241;43m.\u001B[39;49m\u001B[43mendheaders\u001B[49m\u001B[43m(\u001B[49m\u001B[43mbody\u001B[49m\u001B[43m,\u001B[49m\u001B[43m \u001B[49m\u001B[43mencode_chunked\u001B[49m\u001B[38;5;241;43m=\u001B[39;49m\u001B[43mencode_chunked\u001B[49m\u001B[43m)\u001B[49m\n",
      "File \u001B[0;32m/Library/Frameworks/Python.framework/Versions/3.12/lib/python3.12/http/client.py:1314\u001B[0m, in \u001B[0;36mHTTPConnection.endheaders\u001B[0;34m(self, message_body, encode_chunked)\u001B[0m\n\u001B[1;32m   1313\u001B[0m     \u001B[38;5;28;01mraise\u001B[39;00m CannotSendHeader()\n\u001B[0;32m-> 1314\u001B[0m \u001B[38;5;28;43mself\u001B[39;49m\u001B[38;5;241;43m.\u001B[39;49m\u001B[43m_send_output\u001B[49m\u001B[43m(\u001B[49m\u001B[43mmessage_body\u001B[49m\u001B[43m,\u001B[49m\u001B[43m \u001B[49m\u001B[43mencode_chunked\u001B[49m\u001B[38;5;241;43m=\u001B[39;49m\u001B[43mencode_chunked\u001B[49m\u001B[43m)\u001B[49m\n",
      "File \u001B[0;32m/Library/Frameworks/Python.framework/Versions/3.12/lib/python3.12/http/client.py:1074\u001B[0m, in \u001B[0;36mHTTPConnection._send_output\u001B[0;34m(self, message_body, encode_chunked)\u001B[0m\n\u001B[1;32m   1073\u001B[0m \u001B[38;5;28;01mdel\u001B[39;00m \u001B[38;5;28mself\u001B[39m\u001B[38;5;241m.\u001B[39m_buffer[:]\n\u001B[0;32m-> 1074\u001B[0m \u001B[38;5;28;43mself\u001B[39;49m\u001B[38;5;241;43m.\u001B[39;49m\u001B[43msend\u001B[49m\u001B[43m(\u001B[49m\u001B[43mmsg\u001B[49m\u001B[43m)\u001B[49m\n\u001B[1;32m   1076\u001B[0m \u001B[38;5;28;01mif\u001B[39;00m message_body \u001B[38;5;129;01mis\u001B[39;00m \u001B[38;5;129;01mnot\u001B[39;00m \u001B[38;5;28;01mNone\u001B[39;00m:\n\u001B[1;32m   1077\u001B[0m \n\u001B[1;32m   1078\u001B[0m     \u001B[38;5;66;03m# create a consistent interface to message_body\u001B[39;00m\n",
      "File \u001B[0;32m/Library/Frameworks/Python.framework/Versions/3.12/lib/python3.12/http/client.py:1018\u001B[0m, in \u001B[0;36mHTTPConnection.send\u001B[0;34m(self, data)\u001B[0m\n\u001B[1;32m   1017\u001B[0m \u001B[38;5;28;01mif\u001B[39;00m \u001B[38;5;28mself\u001B[39m\u001B[38;5;241m.\u001B[39mauto_open:\n\u001B[0;32m-> 1018\u001B[0m     \u001B[38;5;28;43mself\u001B[39;49m\u001B[38;5;241;43m.\u001B[39;49m\u001B[43mconnect\u001B[49m\u001B[43m(\u001B[49m\u001B[43m)\u001B[49m\n\u001B[1;32m   1019\u001B[0m \u001B[38;5;28;01melse\u001B[39;00m:\n",
      "File \u001B[0;32m/Library/Frameworks/Python.framework/Versions/3.12/lib/python3.12/http/client.py:1460\u001B[0m, in \u001B[0;36mHTTPSConnection.connect\u001B[0;34m(self)\u001B[0m\n\u001B[1;32m   1458\u001B[0m     server_hostname \u001B[38;5;241m=\u001B[39m \u001B[38;5;28mself\u001B[39m\u001B[38;5;241m.\u001B[39mhost\n\u001B[0;32m-> 1460\u001B[0m \u001B[38;5;28mself\u001B[39m\u001B[38;5;241m.\u001B[39msock \u001B[38;5;241m=\u001B[39m \u001B[38;5;28;43mself\u001B[39;49m\u001B[38;5;241;43m.\u001B[39;49m\u001B[43m_context\u001B[49m\u001B[38;5;241;43m.\u001B[39;49m\u001B[43mwrap_socket\u001B[49m\u001B[43m(\u001B[49m\u001B[38;5;28;43mself\u001B[39;49m\u001B[38;5;241;43m.\u001B[39;49m\u001B[43msock\u001B[49m\u001B[43m,\u001B[49m\n\u001B[1;32m   1461\u001B[0m \u001B[43m                                      \u001B[49m\u001B[43mserver_hostname\u001B[49m\u001B[38;5;241;43m=\u001B[39;49m\u001B[43mserver_hostname\u001B[49m\u001B[43m)\u001B[49m\n",
      "File \u001B[0;32m/Library/Frameworks/Python.framework/Versions/3.12/lib/python3.12/ssl.py:455\u001B[0m, in \u001B[0;36mSSLContext.wrap_socket\u001B[0;34m(self, sock, server_side, do_handshake_on_connect, suppress_ragged_eofs, server_hostname, session)\u001B[0m\n\u001B[1;32m    449\u001B[0m \u001B[38;5;28;01mdef\u001B[39;00m\u001B[38;5;250m \u001B[39m\u001B[38;5;21mwrap_socket\u001B[39m(\u001B[38;5;28mself\u001B[39m, sock, server_side\u001B[38;5;241m=\u001B[39m\u001B[38;5;28;01mFalse\u001B[39;00m,\n\u001B[1;32m    450\u001B[0m                 do_handshake_on_connect\u001B[38;5;241m=\u001B[39m\u001B[38;5;28;01mTrue\u001B[39;00m,\n\u001B[1;32m    451\u001B[0m                 suppress_ragged_eofs\u001B[38;5;241m=\u001B[39m\u001B[38;5;28;01mTrue\u001B[39;00m,\n\u001B[1;32m    452\u001B[0m                 server_hostname\u001B[38;5;241m=\u001B[39m\u001B[38;5;28;01mNone\u001B[39;00m, session\u001B[38;5;241m=\u001B[39m\u001B[38;5;28;01mNone\u001B[39;00m):\n\u001B[1;32m    453\u001B[0m     \u001B[38;5;66;03m# SSLSocket class handles server_hostname encoding before it calls\u001B[39;00m\n\u001B[1;32m    454\u001B[0m     \u001B[38;5;66;03m# ctx._wrap_socket()\u001B[39;00m\n\u001B[0;32m--> 455\u001B[0m     \u001B[38;5;28;01mreturn\u001B[39;00m \u001B[38;5;28;43mself\u001B[39;49m\u001B[38;5;241;43m.\u001B[39;49m\u001B[43msslsocket_class\u001B[49m\u001B[38;5;241;43m.\u001B[39;49m\u001B[43m_create\u001B[49m\u001B[43m(\u001B[49m\n\u001B[1;32m    456\u001B[0m \u001B[43m        \u001B[49m\u001B[43msock\u001B[49m\u001B[38;5;241;43m=\u001B[39;49m\u001B[43msock\u001B[49m\u001B[43m,\u001B[49m\n\u001B[1;32m    457\u001B[0m \u001B[43m        \u001B[49m\u001B[43mserver_side\u001B[49m\u001B[38;5;241;43m=\u001B[39;49m\u001B[43mserver_side\u001B[49m\u001B[43m,\u001B[49m\n\u001B[1;32m    458\u001B[0m \u001B[43m        \u001B[49m\u001B[43mdo_handshake_on_connect\u001B[49m\u001B[38;5;241;43m=\u001B[39;49m\u001B[43mdo_handshake_on_connect\u001B[49m\u001B[43m,\u001B[49m\n\u001B[1;32m    459\u001B[0m \u001B[43m        \u001B[49m\u001B[43msuppress_ragged_eofs\u001B[49m\u001B[38;5;241;43m=\u001B[39;49m\u001B[43msuppress_ragged_eofs\u001B[49m\u001B[43m,\u001B[49m\n\u001B[1;32m    460\u001B[0m \u001B[43m        \u001B[49m\u001B[43mserver_hostname\u001B[49m\u001B[38;5;241;43m=\u001B[39;49m\u001B[43mserver_hostname\u001B[49m\u001B[43m,\u001B[49m\n\u001B[1;32m    461\u001B[0m \u001B[43m        \u001B[49m\u001B[43mcontext\u001B[49m\u001B[38;5;241;43m=\u001B[39;49m\u001B[38;5;28;43mself\u001B[39;49m\u001B[43m,\u001B[49m\n\u001B[1;32m    462\u001B[0m \u001B[43m        \u001B[49m\u001B[43msession\u001B[49m\u001B[38;5;241;43m=\u001B[39;49m\u001B[43msession\u001B[49m\n\u001B[1;32m    463\u001B[0m \u001B[43m    \u001B[49m\u001B[43m)\u001B[49m\n",
      "File \u001B[0;32m/Library/Frameworks/Python.framework/Versions/3.12/lib/python3.12/ssl.py:1046\u001B[0m, in \u001B[0;36mSSLSocket._create\u001B[0;34m(cls, sock, server_side, do_handshake_on_connect, suppress_ragged_eofs, server_hostname, context, session)\u001B[0m\n\u001B[1;32m   1045\u001B[0m             \u001B[38;5;28;01mraise\u001B[39;00m \u001B[38;5;167;01mValueError\u001B[39;00m(\u001B[38;5;124m\"\u001B[39m\u001B[38;5;124mdo_handshake_on_connect should not be specified for non-blocking sockets\u001B[39m\u001B[38;5;124m\"\u001B[39m)\n\u001B[0;32m-> 1046\u001B[0m         \u001B[38;5;28;43mself\u001B[39;49m\u001B[38;5;241;43m.\u001B[39;49m\u001B[43mdo_handshake\u001B[49m\u001B[43m(\u001B[49m\u001B[43m)\u001B[49m\n\u001B[1;32m   1047\u001B[0m \u001B[38;5;28;01mexcept\u001B[39;00m (\u001B[38;5;167;01mOSError\u001B[39;00m, \u001B[38;5;167;01mValueError\u001B[39;00m):\n",
      "File \u001B[0;32m/Library/Frameworks/Python.framework/Versions/3.12/lib/python3.12/ssl.py:1317\u001B[0m, in \u001B[0;36mSSLSocket.do_handshake\u001B[0;34m(self, block)\u001B[0m\n\u001B[1;32m   1316\u001B[0m         \u001B[38;5;28mself\u001B[39m\u001B[38;5;241m.\u001B[39msettimeout(\u001B[38;5;28;01mNone\u001B[39;00m)\n\u001B[0;32m-> 1317\u001B[0m     \u001B[38;5;28;43mself\u001B[39;49m\u001B[38;5;241;43m.\u001B[39;49m\u001B[43m_sslobj\u001B[49m\u001B[38;5;241;43m.\u001B[39;49m\u001B[43mdo_handshake\u001B[49m\u001B[43m(\u001B[49m\u001B[43m)\u001B[49m\n\u001B[1;32m   1318\u001B[0m \u001B[38;5;28;01mfinally\u001B[39;00m:\n",
      "\u001B[0;31mSSLCertVerificationError\u001B[0m: [SSL: CERTIFICATE_VERIFY_FAILED] certificate verify failed: self-signed certificate in certificate chain (_ssl.c:1000)",
      "\nDuring handling of the above exception, another exception occurred:\n",
      "\u001B[0;31mURLError\u001B[0m                                  Traceback (most recent call last)",
      "Cell \u001B[0;32mIn[30], line 20\u001B[0m\n\u001B[1;32m     17\u001B[0m request\u001B[38;5;241m.\u001B[39madd_header(\u001B[38;5;124m\"\u001B[39m\u001B[38;5;124mX-Naver-Client-Secret\u001B[39m\u001B[38;5;124m\"\u001B[39m,client_secret)\n\u001B[1;32m     19\u001B[0m \u001B[38;5;66;03m# Request 요청 보내기\u001B[39;00m\n\u001B[0;32m---> 20\u001B[0m response \u001B[38;5;241m=\u001B[39m \u001B[43murllib\u001B[49m\u001B[38;5;241;43m.\u001B[39;49m\u001B[43mrequest\u001B[49m\u001B[38;5;241;43m.\u001B[39;49m\u001B[43murlopen\u001B[49m\u001B[43m(\u001B[49m\u001B[43mrequest\u001B[49m\u001B[43m)\u001B[49m\n\u001B[1;32m     21\u001B[0m \u001B[38;5;66;03m# 응답 코드 받기\u001B[39;00m\n\u001B[1;32m     22\u001B[0m rescode \u001B[38;5;241m=\u001B[39m response\u001B[38;5;241m.\u001B[39mgetcode()\n",
      "File \u001B[0;32m/Library/Frameworks/Python.framework/Versions/3.12/lib/python3.12/urllib/request.py:215\u001B[0m, in \u001B[0;36murlopen\u001B[0;34m(url, data, timeout, cafile, capath, cadefault, context)\u001B[0m\n\u001B[1;32m    213\u001B[0m \u001B[38;5;28;01melse\u001B[39;00m:\n\u001B[1;32m    214\u001B[0m     opener \u001B[38;5;241m=\u001B[39m _opener\n\u001B[0;32m--> 215\u001B[0m \u001B[38;5;28;01mreturn\u001B[39;00m \u001B[43mopener\u001B[49m\u001B[38;5;241;43m.\u001B[39;49m\u001B[43mopen\u001B[49m\u001B[43m(\u001B[49m\u001B[43murl\u001B[49m\u001B[43m,\u001B[49m\u001B[43m \u001B[49m\u001B[43mdata\u001B[49m\u001B[43m,\u001B[49m\u001B[43m \u001B[49m\u001B[43mtimeout\u001B[49m\u001B[43m)\u001B[49m\n",
      "File \u001B[0;32m/Library/Frameworks/Python.framework/Versions/3.12/lib/python3.12/urllib/request.py:515\u001B[0m, in \u001B[0;36mOpenerDirector.open\u001B[0;34m(self, fullurl, data, timeout)\u001B[0m\n\u001B[1;32m    512\u001B[0m     req \u001B[38;5;241m=\u001B[39m meth(req)\n\u001B[1;32m    514\u001B[0m sys\u001B[38;5;241m.\u001B[39maudit(\u001B[38;5;124m'\u001B[39m\u001B[38;5;124murllib.Request\u001B[39m\u001B[38;5;124m'\u001B[39m, req\u001B[38;5;241m.\u001B[39mfull_url, req\u001B[38;5;241m.\u001B[39mdata, req\u001B[38;5;241m.\u001B[39mheaders, req\u001B[38;5;241m.\u001B[39mget_method())\n\u001B[0;32m--> 515\u001B[0m response \u001B[38;5;241m=\u001B[39m \u001B[38;5;28;43mself\u001B[39;49m\u001B[38;5;241;43m.\u001B[39;49m\u001B[43m_open\u001B[49m\u001B[43m(\u001B[49m\u001B[43mreq\u001B[49m\u001B[43m,\u001B[49m\u001B[43m \u001B[49m\u001B[43mdata\u001B[49m\u001B[43m)\u001B[49m\n\u001B[1;32m    517\u001B[0m \u001B[38;5;66;03m# post-process response\u001B[39;00m\n\u001B[1;32m    518\u001B[0m meth_name \u001B[38;5;241m=\u001B[39m protocol\u001B[38;5;241m+\u001B[39m\u001B[38;5;124m\"\u001B[39m\u001B[38;5;124m_response\u001B[39m\u001B[38;5;124m\"\u001B[39m\n",
      "File \u001B[0;32m/Library/Frameworks/Python.framework/Versions/3.12/lib/python3.12/urllib/request.py:532\u001B[0m, in \u001B[0;36mOpenerDirector._open\u001B[0;34m(self, req, data)\u001B[0m\n\u001B[1;32m    529\u001B[0m     \u001B[38;5;28;01mreturn\u001B[39;00m result\n\u001B[1;32m    531\u001B[0m protocol \u001B[38;5;241m=\u001B[39m req\u001B[38;5;241m.\u001B[39mtype\n\u001B[0;32m--> 532\u001B[0m result \u001B[38;5;241m=\u001B[39m \u001B[38;5;28;43mself\u001B[39;49m\u001B[38;5;241;43m.\u001B[39;49m\u001B[43m_call_chain\u001B[49m\u001B[43m(\u001B[49m\u001B[38;5;28;43mself\u001B[39;49m\u001B[38;5;241;43m.\u001B[39;49m\u001B[43mhandle_open\u001B[49m\u001B[43m,\u001B[49m\u001B[43m \u001B[49m\u001B[43mprotocol\u001B[49m\u001B[43m,\u001B[49m\u001B[43m \u001B[49m\u001B[43mprotocol\u001B[49m\u001B[43m \u001B[49m\u001B[38;5;241;43m+\u001B[39;49m\n\u001B[1;32m    533\u001B[0m \u001B[43m                          \u001B[49m\u001B[38;5;124;43m'\u001B[39;49m\u001B[38;5;124;43m_open\u001B[39;49m\u001B[38;5;124;43m'\u001B[39;49m\u001B[43m,\u001B[49m\u001B[43m \u001B[49m\u001B[43mreq\u001B[49m\u001B[43m)\u001B[49m\n\u001B[1;32m    534\u001B[0m \u001B[38;5;28;01mif\u001B[39;00m result:\n\u001B[1;32m    535\u001B[0m     \u001B[38;5;28;01mreturn\u001B[39;00m result\n",
      "File \u001B[0;32m/Library/Frameworks/Python.framework/Versions/3.12/lib/python3.12/urllib/request.py:492\u001B[0m, in \u001B[0;36mOpenerDirector._call_chain\u001B[0;34m(self, chain, kind, meth_name, *args)\u001B[0m\n\u001B[1;32m    490\u001B[0m \u001B[38;5;28;01mfor\u001B[39;00m handler \u001B[38;5;129;01min\u001B[39;00m handlers:\n\u001B[1;32m    491\u001B[0m     func \u001B[38;5;241m=\u001B[39m \u001B[38;5;28mgetattr\u001B[39m(handler, meth_name)\n\u001B[0;32m--> 492\u001B[0m     result \u001B[38;5;241m=\u001B[39m \u001B[43mfunc\u001B[49m\u001B[43m(\u001B[49m\u001B[38;5;241;43m*\u001B[39;49m\u001B[43margs\u001B[49m\u001B[43m)\u001B[49m\n\u001B[1;32m    493\u001B[0m     \u001B[38;5;28;01mif\u001B[39;00m result \u001B[38;5;129;01mis\u001B[39;00m \u001B[38;5;129;01mnot\u001B[39;00m \u001B[38;5;28;01mNone\u001B[39;00m:\n\u001B[1;32m    494\u001B[0m         \u001B[38;5;28;01mreturn\u001B[39;00m result\n",
      "File \u001B[0;32m/Library/Frameworks/Python.framework/Versions/3.12/lib/python3.12/urllib/request.py:1392\u001B[0m, in \u001B[0;36mHTTPSHandler.https_open\u001B[0;34m(self, req)\u001B[0m\n\u001B[1;32m   1391\u001B[0m \u001B[38;5;28;01mdef\u001B[39;00m\u001B[38;5;250m \u001B[39m\u001B[38;5;21mhttps_open\u001B[39m(\u001B[38;5;28mself\u001B[39m, req):\n\u001B[0;32m-> 1392\u001B[0m     \u001B[38;5;28;01mreturn\u001B[39;00m \u001B[38;5;28;43mself\u001B[39;49m\u001B[38;5;241;43m.\u001B[39;49m\u001B[43mdo_open\u001B[49m\u001B[43m(\u001B[49m\u001B[43mhttp\u001B[49m\u001B[38;5;241;43m.\u001B[39;49m\u001B[43mclient\u001B[49m\u001B[38;5;241;43m.\u001B[39;49m\u001B[43mHTTPSConnection\u001B[49m\u001B[43m,\u001B[49m\u001B[43m \u001B[49m\u001B[43mreq\u001B[49m\u001B[43m,\u001B[49m\n\u001B[1;32m   1393\u001B[0m \u001B[43m                        \u001B[49m\u001B[43mcontext\u001B[49m\u001B[38;5;241;43m=\u001B[39;49m\u001B[38;5;28;43mself\u001B[39;49m\u001B[38;5;241;43m.\u001B[39;49m\u001B[43m_context\u001B[49m\u001B[43m)\u001B[49m\n",
      "File \u001B[0;32m/Library/Frameworks/Python.framework/Versions/3.12/lib/python3.12/urllib/request.py:1347\u001B[0m, in \u001B[0;36mAbstractHTTPHandler.do_open\u001B[0;34m(self, http_class, req, **http_conn_args)\u001B[0m\n\u001B[1;32m   1344\u001B[0m         h\u001B[38;5;241m.\u001B[39mrequest(req\u001B[38;5;241m.\u001B[39mget_method(), req\u001B[38;5;241m.\u001B[39mselector, req\u001B[38;5;241m.\u001B[39mdata, headers,\n\u001B[1;32m   1345\u001B[0m                   encode_chunked\u001B[38;5;241m=\u001B[39mreq\u001B[38;5;241m.\u001B[39mhas_header(\u001B[38;5;124m'\u001B[39m\u001B[38;5;124mTransfer-encoding\u001B[39m\u001B[38;5;124m'\u001B[39m))\n\u001B[1;32m   1346\u001B[0m     \u001B[38;5;28;01mexcept\u001B[39;00m \u001B[38;5;167;01mOSError\u001B[39;00m \u001B[38;5;28;01mas\u001B[39;00m err: \u001B[38;5;66;03m# timeout error\u001B[39;00m\n\u001B[0;32m-> 1347\u001B[0m         \u001B[38;5;28;01mraise\u001B[39;00m URLError(err)\n\u001B[1;32m   1348\u001B[0m     r \u001B[38;5;241m=\u001B[39m h\u001B[38;5;241m.\u001B[39mgetresponse()\n\u001B[1;32m   1349\u001B[0m \u001B[38;5;28;01mexcept\u001B[39;00m:\n",
      "\u001B[0;31mURLError\u001B[0m: <urlopen error [SSL: CERTIFICATE_VERIFY_FAILED] certificate verify failed: self-signed certificate in certificate chain (_ssl.c:1000)>"
     ]
    }
   ],
   "execution_count": 30
  },
  {
   "metadata": {},
   "cell_type": "markdown",
   "source": "## 5. 블로그 검색하기",
   "id": "b09e79f5ce53527f"
  },
  {
   "metadata": {
    "ExecuteTime": {
     "end_time": "2025-02-25T14:57:43.884799Z",
     "start_time": "2025-02-25T14:57:43.684843Z"
    }
   },
   "cell_type": "code",
   "source": [
    "import requests\n",
    "import pprint\n",
    "\n",
    "headers = {\n",
    "    'X-Naver-Client-Id': 'GUQvbfoa50KbVrWDwDcB',\n",
    "    'X-Naver-Client-Secret': '37oUCddCAR',\n",
    "}\n",
    "\n",
    "payload = {\n",
    "    'query': '파이썬',\n",
    "    'display': 100,\n",
    "    'sort': 'sim'\n",
    "}\n",
    "\n",
    "url = 'https://openapi.naver.com/v1/search/blog.json'\n",
    "\n",
    "res = requests.get(url, params=payload, headers=headers)\n",
    "items_data = res.json()['items']\n",
    "#print(items_data)\n",
    "\n",
    "items_list = list()\n",
    "item_list = []\n",
    "for item in items_data:\n",
    "    #     print(item)\n",
    "    item_list.append(item['title'])\n",
    "    item_list.append(item['bloggername'])\n",
    "    item_list.append(item['description'])\n",
    "    item_list.append(item['bloggerlink'])\n",
    "    item_list.append(item['link'])\n",
    "\n",
    "    items_list.append(item_list)\n",
    "    item_list = []\n",
    "\n",
    "print(items_list)\n",
    "\n",
    "with open('data/nhnblog.txt','w',encoding=\"utf-8\")as file:\n",
    "    for items in items_list:\n",
    "        for item in items:\n",
    "            item = item + '\\n'\n",
    "            file.write(item)\n",
    "        file.write('-'*150+'\\n')"
   ],
   "id": "c2282caa5652bdf3",
   "outputs": [
    {
     "name": "stdout",
     "output_type": "stream",
     "text": [
      "[['대전자바학원 <b>파이썬</b> 앱개발 공부하고 취업까지', '반짝반짝 너와 나', '저는 <b>파이썬</b>부터 시작해 백엔드 개발에 필요한 다양한 과정을 배우기로 결정했어요. <b>파이썬</b>은 최근 많은 사람들이 주목하고 인기 있는 프로그래밍 언어로 특히 생성 AI 앱을 구축하고 싶다면 필수인 언어였고... ', 'blog.naver.com/mamansiri', 'https://blog.naver.com/mamansiri/223750243246'], ['(<b>파이썬</b> 학습기록)역시 개발공부 바닥도 고인물 투성. 내 길은... ', '찰나의 실행과 독서 그리고 성장', \"최근 <b>파이썬</b> 학습에 있어서 꽤나 큰 변화가 있었기에 이를 기록하고자 합니다. &quot;00 하지 마세요&quot; 투성이... 저의 경우에는 인프런 Dave Lee님의 강의 중 '크롤링' 수업을 통해 기본기를 깔짝 맛을 보며 <b>파이썬</b>으로... \", 'blog.naver.com/currybread0', 'https://blog.naver.com/currybread0/223761299487'], ['<b>파이썬</b> 자격증 시험 종류 및 취득과정', '화닝의 일본어+교육 교실', '오늘은 <b>파이썬</b> 자격증 시험 종류 및 취득과정에 대해서 자세히 알려드리도록 하겠습니다. <b>파이썬</b> 자격증은? <b>파이썬</b> 자격증 시험은 C, C+, JAVA Script 등 여러 프로그래밍 언어들 중 하나인 Python을 학습하는... ', 'blog.naver.com/hwani-0627', 'https://blog.naver.com/hwani-0627/223748981099'], ['데이터 사이언스 <b>파이썬</b> 판다스 코딩 인터뷰', '데이터 사이언티스트 루나의 미국 유학 후 취업', '<b>파이썬</b>은 데싸용이라는 것보니까 판다스 일 것 같은데 일단, 예전에 네트워킹 해놨던 사람... 챗지피티한테 이 포스팅 주제로 쓸 그림 좀 그려달라고, 특히나 &quot;판다스 <b>파이썬</b> 코딩 인터뷰&quot; 라고... ', 'blog.naver.com/data-scientist-luna', 'https://blog.naver.com/data-scientist-luna/223769365357'], ['아나콘다 주피터 노트북 설치 <b>파이썬</b> 프로그래밍 준비하기', '짜루의 이것저것 리뷰', '거의 모든 분야에서 생성형 AI에 관한 관심이 늘어나면서 인공지능을 활용한 <b>파이썬</b> 프로그래밍... 아나콘다 (Ananconda) 설치 VS Code, PyCharm과 더불어 3대 <b>파이썬</b> IDE로 통한다. 시스템 리소스를 적게 차지해... ', 'blog.naver.com/skdaksdptn', 'https://blog.naver.com/skdaksdptn/223675613694'], ['<b>파이썬</b>자격증 시험 일정 및 공부방법', 'JS 해피하게~★', '이번 글에서는 위의 언어 중 <b>파이썬</b>자격증 시험 일정 및 공부방법에 대해 말씀드리려고 합니다. <b>파이썬</b> 장점 <b>파이썬</b>자격증 장점은 다른 분야에 비해 진입이 간단하며 활용 범위가 넓다는 점에 있습니다.... ', 'blog.naver.com/lunasea883', 'https://blog.naver.com/lunasea883/223700486618'], ['부산<b>파이썬</b>학원, 도전한 후기!', 'JOO', '[부산<b>파이썬</b>학원] 기본 이론부터 실전까지! 문과를 전공했지만, 지난 몇 년 사이에 취업의 문이 극도로... 부산<b>파이썬</b>학원에 다니면서 자격증도 따고, 코딩을 배워서 앞으로 무엇을 할 것인지 어느 정도 가닥도... ', 'blog.naver.com/wldnek03', 'https://blog.naver.com/wldnek03/223479755700'], ['<b>파이썬</b> 주식 분석 자동매매 근황. 수익률 스포 조금(2025.02.19)', '☆ 브라보의 마이라이프 ☆', '한동안 주식을 수동 매매 하다가, 다시 <b>파이썬</b> 소스를 꺼냈는데 주식 스크리닝 후 좀 더 주의깊게 종목을 선정했더니 90%가 1-2일사이에 수익이 난다. 이번 종목들은 단기 매매 용이 아니라(물론 언제든지... ', 'blog.naver.com/bravozmylife', 'https://blog.naver.com/bravozmylife/223766569140'], ['윤가이코딩! 코딩밸리후기, <b>파이썬</b>기초부터 챗GPT까지', \"쭈's Diary\", '모바일앱 코딩 실습 <b>파이썬</b>기초와 챗GPT를 심도 있게 배우고 싶은 1인! 출퇴근 시간은 1시간 정도... 지하철에서 짧은 시간에도 앱을 켜서 <b>파이썬</b> 문법을 복습하고, ChatGPT 활용 팁을 간단히 학습할 수 있거든요!... ', 'blog.naver.com/sungdevilsh', 'https://blog.naver.com/sungdevilsh/223725619708'], ['주식 정리하기: 종가 데이터 자동 정리 방법 공개(With.<b>파이썬</b>)', '하고있습니까?', '다음은 <b>파이썬</b>으로 해당 최신 데이타를 끌어오는겁니다. 이부분은 단순하지만, 원하는 분들이... 코드는 위에 적은 <b>파이썬</b> 코드입니다. 그냥 <b>파이썬</b>에 넣고 돌리면 자동으로 저장됩니다. 단 자신의... ', 'blog.naver.com/anakist_y', 'https://blog.naver.com/anakist_y/223742196354'], ['<b>파이썬</b> seleniumd으로 파싱할 경우, 웹 트래픽 문제', 'Sam의 필리핀 Life ~', '현재 화상영어 관리 프로그램으로 몇개 <b>파이썬</b> 소스를 만들어서 사용중입니다. 사용상에 문제는... 홈페이지와 관련된 <b>파이썬</b> 프로그램을 여러개 사용하다보니 나의 ip에서 트래픽이 너무 지나치게... ', 'blog.naver.com/saintbell', 'https://blog.naver.com/saintbell/223711150729'], ['<b>파이썬</b>학원 IOT, AI 기술을 국비지원으로', 'Smart Box - JHL', '<b>파이썬</b>학원 IOT, AI 기술을 국비지원으로 최근 AI와 IOT 기술에 대한 엄청난 열풍이 불고 있으며 덩달아... 특히 <b>파이썬</b>(Python) 언어가 핵심인 기술이기 때문에 체계적이고 전문적인 컴퓨터 언어 교육이 필요하며... ', 'blog.naver.com/hoyaup', 'https://blog.naver.com/hoyaup/223703452455'], ['<b>파이썬</b> 프로그래밍 필수 툴, 아나콘다 주피터 노트북 사용법', '세수하면이병헌 IT/자동차', \"<b>파이썬</b> 프로그래밍을 처음 시작했다면, 가장 막히는 부분은 다름 아닌 '환경 설정'일 테다. 수많은... 아나콘다는 <b>파이썬</b> 프로그래밍을 위한 올인원 패키지다. 설치 방법은 아주 간단한데, 공식... \", 'blog.naver.com/supapa13', 'https://blog.naver.com/supapa13/223764207050'], ['유튜브 다운로더 yt-dlp Downloader (<b>파이썬</b>)', \"SN's Blog\", '기존 배치파일로 작성된 다운로드 스크립트를 <b>파이썬</b> 버전으로 제작한 프로그램입니다.... 사실 <b>파이썬</b>에 대해 거의 모르는 상태라 챗gpt랑 싸우느라 시간 엄청 걸렸네요. 변경점 옵션... ', 'blog.naver.com/sjs9880', 'https://blog.naver.com/sjs9880/223770966427'], ['c언어 <b>파이썬</b> 코딩 국비지원 학원 교육', '즐겨찾기', '<b>파이썬</b>, 자바뿐만 아니라, 웹 개발에 사용되는 자바스크립트, 데이터 분석에 강력한 R 언어 등 각 분야에 맞는 다양한 언어들이 존재합니다. 오늘은 그중에서도 대표적인 프로그래밍 언어인 C언어, <b>파이썬</b>... ', 'blog.naver.com/sunsun0621', 'https://blog.naver.com/sunsun0621/223716321825'], ['<b>파이썬</b> 설치·다운로드 및 입문 가이드', '주들의 그리 대단하진 않지만 굉장한 이야기', '<b>파이썬</b> 설치·다운로드 및 입문 가이드 많고 많은 프로그래밍 언어들 중에서 사용할 수 있는 범위가 굉장히 넓고, 다른 프로그래밍 언어들에 비해 체감 난이도가 쉽다고 알려진 <b>파이썬</b>은 학습을 하여... ', 'blog.naver.com/urmyver', 'https://blog.naver.com/urmyver/223756990512'], ['<b>파이썬</b> 인공지능 &amp; R 데이터 관련 과정 코칭 프로그램', '백기락 Best Biz IT AI Coach', '---------------------------- <b>파이썬</b> 인공지능 과정의 3월 오프모임 일정이 확정되었습니다. 1 Day... 안내 <b>파이썬</b> 기반 인공지능 입문 과정 및 데이터분석준전문가(ADsP) 에 대한 코치 과정을 진행합니다.... ', 'blog.naver.com/kirak', 'https://blog.naver.com/kirak/223767339653'], ['안산코딩학원 비전공자가 배워본, <b>파이썬</b> 수업 후기', '소소한 일상?', '보편적으로 사용되는 언어로는 자바, C언어, C++, <b>파이썬</b>이 있어요. 저는 그중 <b>파이썬</b>이 저와 잘 맞는 것 같아서 이걸로 수업을 들었어요. 제가 처음에 어떤 언어를 선택해야 할지 고심에 빠졌을 때 선생님께서... ', 'blog.naver.com/songin06', 'https://blog.naver.com/songin06/223725822718'], ['<b>파이썬</b>으로 배우는 게임 개발 입문편,실전편(이 책은 신성한... ', '마이클 키튼', \"<b>파이썬</b>으로 게임 만드는 책이다. '그래서 그게 뭐?' 이런 의문이 들텐데.. 2. 처음부터 간결하게 시작한다. 이 책은 <b>파이썬</b> 설치과정 간단하게 보여주고 내장 IDE로 시작한다. 그렇다. 보통 이런 종류 책이면... \", 'blog.naver.com/leecorea4', 'https://blog.naver.com/leecorea4/223759288900'], ['[<b>파이썬</b> 시리즈] 2.5. 조건문(if, elif, else)과 반복문... ', 'Blog for Verilog HDL&RF Circuit Design', '<b>파이썬</b>에서 조건문과 반복문은 프르그램의 흐름을 제어하는 데 핵심적인 역할을 합니다.... 이 게시물은 <b>파이썬</b> 3.9.0 기준 공식 문서를 참고하여 만들어졌습니다! &lt;<b>파이썬</b> 공식 문서(3.9.0 기준)&gt; https... ', 'blog.naver.com/soi897', 'https://blog.naver.com/soi897/223740720447'], ['<b>파이썬</b> C언어 뭘 먼저 공부할지 딱 정리해 드립니다.', '밥통구 놀이터', '<b>파이썬</b>? C언어? 어떤 걸 먼저 공부해야하나요? 코딩을 공부해보고 싶어서 인터넷을 돌아다니다보면 C언어를 먼저 공부하세요! <b>파이썬</b>으로 시작하세요! C++이 최곱니다! 자바스크립트부터 공부하세요~! 등등 .... ', 'blog.naver.com/tks8350', 'https://blog.naver.com/tks8350/223643401238'], ['<b>파이썬</b> 데이터분석 중앙값 median Python Quests', '합격의기운', '<b>파이썬</b> 데이터분석 중앙값 median Python Quests 오늘은 <b>파이썬</b> 데이터분석 중앙값 median Python Quests 에 대해서 알아볼게요. 안녕하세요 여러분~! 오늘은 중앙값에 대해 알아볼건데요. 타이타닉 데이터셋으로 깊게... ', 'blog.naver.com/gold5doo', 'https://blog.naver.com/gold5doo/223771521976'], ['<b>파이썬</b>전문가 자격증 전문가 과정 학습', 'rudolfio', '<b>파이썬</b>전문가 자격증 전문가 과정 학습 안녕하세요. 오늘은 <b>파이썬</b>전문가 자격증에 대해서 알아보겠습니다. 다들 자바칩이나 <b>파이썬</b> 등 IT 관련 용어는 많이 들어보셨을 거라고 생각해요. 저도 학교에서... ', 'blog.naver.com/rudolph77', 'https://blog.naver.com/rudolph77/223532016252'], ['맥북 <b>파이썬</b> 설치, FastAPI &amp; uvicorn으로 웹서버 구현... ', '개발자의 일상', \"하지만 <b>파이썬</b> 개발을 하다보면 프로젝트마다 버전관리를 해야하는 상황이 생긴다. 처음 구성할 때 'pyenv'를 통해 <b>파이썬</b> 버전 관리를 하는 부분부터 시작하려고 한다. 두번째로는... \", 'blog.naver.com/mcm1092', 'https://blog.naver.com/mcm1092/223740796408'], ['서버용으로 사용중인 미니pc_<b>파이썬</b> 에러 발생..', 'Sam의 필리핀 Life ~', ': 네이버블로그 원래 시놀로지 나스에서 도커에서 실행하는 <b>파이썬</b> 프로그램이 있는데, 이게... 이것때문에 1시간 단위로 alarm_bot을 사용해서 텔레그램으로 <b>파이썬</b>에서 같이 메세지도 발송함... ', 'blog.naver.com/saintbell', 'https://blog.naver.com/saintbell/223681630662'], ['야구 데이터로 배우는 <b>파이썬</b>, 오타니 쇼헤이의 기록으로... ', '워니정보통', '야구 데이터로 배우는 <b>파이썬</b>, 오타니 쇼헤이의 기록으로 시작하는 데이터 분석해봤어요. 요즘 <b>파이썬</b>과 데이터분석에 대한 관심이 높아지고 있죠. 하지만 어디서부터 시작해야 할지 막막할 때가 많아요. 특히... ', 'blog.naver.com/ahw0703', 'https://blog.naver.com/ahw0703/223769967238'], ['<b>파이썬</b> 설치 및 실행 ( Visual Studio Code 설치 )', '예술공기 - 언어 공부', '편의성이 필요할 때는 자동저장이 좋다. 중요한것은 아니다. 더블클릭또는 위의 원안의 아이콘을 클릭하면 생성된다. <b>파이썬</b>은 .py를 붙이면 된다.', 'blog.naver.com/hjs6855', 'https://blog.naver.com/hjs6855/223745899892'], ['<b>파이썬</b> 초보 탈출 몸부림 기록', '찰나의 실행과 독서 그리고 성장', 'https://blog.naver.com/currybread0/223632738497 그간 해왔던 것으로는 <b>파이썬</b> 관련된 강의를 10개 정도를... 코딩 시작은 <b>파이썬</b>? 쉽지 않다. <b>파이썬</b>에 대해 관심이 생긴 것은 작년 이맘때 즈음이었습니다. 호기롭게... ', 'blog.naver.com/currybread0', 'https://blog.naver.com/currybread0/223740781008'], ['<b>파이썬</b> 자격증 코딩테스트준비 PCCE PCCP 개발자취업', '브론테의 온실', '오늘 <b>파이썬</b>을 배워 도전할 수 있는 프로그래머스 자격증(PCCE, PCCP)에 관해 함께 알아보는 시간을... 어느 배움이든 다 연계가 되고, 1개만 배워서는 완전하게 쓰일 수 어렵기 때문에 <b>파이썬</b>, C언어, 자바, DBMS... ', 'blog.naver.com/kwon2640', 'https://blog.naver.com/kwon2640/223727844835'], ['<b>파이썬</b> 코딩 : API를 활용한 다국어 번역기 개발하기', '주들의 그리 대단하진 않지만 굉장한 이야기', '<b>파이썬</b> 코딩 API를 활용한 다국어 번역기 개발하기 <b>파이썬</b>을 비롯한 모든 프로그래밍 언어들은 소프트웨어를 개발하기 위해 코딩을 하는 과정에서 라이브러리와 프레임워크를 활용한다면 생산성을 크게... ', 'blog.naver.com/urmyver', 'https://blog.naver.com/urmyver/223689929168'], ['<b>파이썬</b>을 위한 무료 에디터를 소개합니다.', '#오늘도즐유해!', '<b>파이썬</b>을 설치하면 함께 설치되는 편집창, 즉 에디터가 있습니다. 여기서 코딩을 해도... <b>파이썬</b>을 포함해 많은 프로그래밍 언어에 사용 가능하죠~ 셰어웨어 shareware로 마음에 들면 구매해서... ', 'blog.naver.com/daldalrory', 'https://blog.naver.com/daldalrory/223710786179'], ['<b>파이썬</b> 공부) 랜덤함수 사용해서 점심 내기 게임 만들기', \"Mini's Daily diary\", '우선 저는 9일동안 &quot;나도코딩의 <b>파이썬</b> 입문&quot; 이라는 책을 1회독 했습니다. 깊이 있는 공부가 아닌 아, <b>파이썬</b>이 이런거구나? 느낌 정도를 받기 위해 단기간 1회독을 하였어요. 어제... ', 'blog.naver.com/pmh0830kr', 'https://blog.naver.com/pmh0830kr/223764568647'], ['부천에서 <b>파이썬</b> 개발자로의 꿈! IT, JAVA, AI까지 마스터하기', '쉼표, 느낌표', '특히 <b>파이썬</b>은 사용이 쉬우면서도 강력한 기능을 가진 언어로, 데이터 분석, 웹 개발, AI 등 다양한 분야에서 활용되고 있습니다. 부천에서 <b>파이썬</b>을 시작으로 IT 개발자로 성장하는 방법을 알려드립니다!... ', 'blog.naver.com/lmwu123', 'https://blog.naver.com/lmwu123/223691149643'], ['[<b>파이썬</b> 시리즈] 1.1 <b>파이썬</b>, 주피터 노트북 설치', 'Blog for Verilog HDL&RF Circuit Design', '여러분, 오늘은 <b>파이썬</b> 및 주피터 노트북을 설치하는 방법에 대해 다루어 보려고 합니다. <b>파이썬</b>은 다다음 시간부터 본격적으로 다루겠습니다. <b>파이썬</b> 설치(3.9.0) ※ 윈도우 운영체제 기준으로... ', 'blog.naver.com/soi897', 'https://blog.naver.com/soi897/223710778961'], ['내돈내산 야구 데이터로 배우는 <b>파이썬</b> 오타니 쇼헤이 진솔 후기', '행복안내자 여행라이프', '야구 데이터로 배우는 <b>파이썬</b> 저자 사이토 아마네 출판 영진닷컴 발매 2025.02.14. 내돈내산 야구 데이터로 배우는 <b>파이썬</b> 오타니 쇼헤이 진솔 후기 야구 데이터를 활용해 <b>파이썬</b>과 데이터 분석을 쉽게 배울 수... ', 'blog.naver.com/kjd110802', 'https://blog.naver.com/kjd110802/223773524494'], ['DAY.015_<b>파이썬</b>: 웹 크롤링', '뚜벅이의 지질여행', '<b>파이썬</b>을 활용한 데이터 수집: 웹 크롤링 실시간 강의 VOD 강의에서 배운 코드들을 사용해서 크롤링하는 방법을 배우고 실습. (<b>파이썬</b>과 판다스활용) &quot;어려워도 이 악물고 버티세요.... ', 'blog.naver.com/geologenie', 'https://blog.naver.com/geologenie/223723645301'], ['Flask: <b>파이썬</b> 웹 개발의 강력한 도구', '슬리피핑거의 게임 개발 블로그', 'Flask는 <b>파이썬</b> 기반의 마이크로 웹 프레임워크로, 웹 애플리케이션 개발을 위한 강력하고 유연한... 2004년 오스트리아의 오픈소스 개발자 아르민 로나허가 만든 Flask는 현재 Django와 함께 <b>파이썬</b> 웹... ', 'blog.naver.com/sleepyfinger', 'https://blog.naver.com/sleepyfinger/223743388574'], ['<b>파이썬</b> 비전공자 취업 고연봉 개발자로', 'Smart Box - JHL', '<b>파이썬</b> 비전공자 취업 고연봉 개발자로 최근 개발자 시장에서 <b>파이썬</b> 개발자에 대한 엄청난 열풍이 불 정도로 <b>파이썬</b> 취업에 대한 관심이 늘어가고 있으며 기업들의 구인 의뢰도 점점 늘어가고 있는 추세에요... ', 'blog.naver.com/hoyaup', 'https://blog.naver.com/hoyaup/223704417396'], ['(Python) <b>파이썬</b>으로 윈도우 프로그램 만들기, 다양한 GUI... ', '김동균의 소프트웨어아카데미(2004~ )', '#<b>파이썬</b>알고리즘 #수업자료 #학습자료 #객체지향프로그래밍 <b>파이썬</b>으로 윈도우 프로그램 만들기: 다양한 GUI 라이브러리 비교 <b>파이썬</b>으로 윈도우 프로그램을 만들기 위해서는 다양한 그래픽... ', 'blog.naver.com/nabilera1', 'https://blog.naver.com/nabilera1/223669308670'], ['천재처럼 <b>파이썬</b> 코드를 꿰뚫어 보는 방법', '알았다 - 에이아이', '천재처럼 <b>파이썬</b> 코드를 꿰뚫어 보는 방법 <b>파이썬</b> 코드를 빠르고 정확하게 이해하는 능력은 단순한 문법 숙달이 아니라 핵심 원리와 패턴을 직관적으로 파악하는 능력을 기르는 것입니다. 이를 위해... ', 'blog.naver.com/alotta', 'https://blog.naver.com/alotta/223763297765'], ['9년간의 시간과 현재의 나의 <b>파이썬</b> 코딩 실력 및 현재 생활', 'TPU', '대학교 입학 이후 <b>파이썬</b>에 대해 소통과 꾸준한 활동을 이어나가겠다고 다짐 하였으나, 대학 생활... 일을 하다보면 가끔식 내가 개발을 했던 <b>파이썬</b> 코드들과 다양한 소스코드가 기억이 나 어쩔 때는 &quot;아 진짜... ', 'blog.naver.com/chanyong0305', 'https://blog.naver.com/chanyong0305/223753880231'], ['<b>파이썬</b> C언어 자바 DBMS 기초코딩학원', '브론테의 온실', '기초코딩학원 <b>파이썬</b> <b>파이썬</b>은 기초 입문자용 언어로, 기본 문법만을 통해서도 간결하게 코드를 짤 수 있죠. 그럼에도, 활용도가 굉장히 높기 때문에 <b>파이썬</b>을 쉽게 접하며, 흥미적인 부분이 잘 맞다고 말씀... ', 'blog.naver.com/kwon2640', 'https://blog.naver.com/kwon2640/223755293478'], ['<b>파이썬</b> C언어 : 입문자 기준 둘 중 무엇이 우선인가?', '주들의 그리 대단하진 않지만 굉장한 이야기', '<b>파이썬</b> C언어 입문자 기준 둘 중 무엇이 우선인가? 많고 많은 프로그래밍 언어 중 <b>파이썬</b> C언어 두 개의 프로그래밍 언어는 사용 점유율이 높음과 동시에 프로그래밍 언어(코딩)에 대해 처음 입문하는 사람의... ', 'blog.naver.com/urmyver', 'https://blog.naver.com/urmyver/223680962800'], ['PYTHON <b>파이썬</b> 아나콘다 r프로그래밍 설치 방법 알아봄', '테크티노의 IT 이야기', 'PYTHON <b>파이썬</b> 아나콘다 r프로그래밍 설치 방법 알아봄 안녕하세요! 오늘은 <b>파이썬</b>(PYTHON)과 아나콘다(ANACONDA) 설치 방법을 쉽고 재미있게 설명해드릴게요. 프로그래밍이란 세계에 발을 들여놓게 된... ', 'blog.naver.com/01198916129', 'https://blog.naver.com/01198916129/223607071645'], ['<b>파이썬</b>에서 리스트 이용해 보기', '#오늘도즐유해!', '오늘도 즐겁고 유익한 하루 보내세요~ #<b>파이썬</b> #<b>파이썬</b>기초 #<b>파이썬</b>공부 #초등<b>파이썬</b> #<b>파이썬</b>초등 #초등코딩 #초등코딩공부 #<b>파이썬</b>리스트 #리스트사용 #리스트사용법 #<b>파이썬</b>큰수구하기... ', 'blog.naver.com/daldalrory', 'https://blog.naver.com/daldalrory/223715360047'], ['369게임 <b>파이썬</b>으로 만들기', '하루 하나 코딩 하나 책 하나', '369게임 <b>파이썬</b>으로 만들기를 통해 이러한 규칙을 컴퓨터 프로그램으로 작성하는 방법을... 여기서도 369게임 <b>파이썬</b>으로 만들기의 핵심은 반복문과 조건문을 적절히 활용하는 데 있습니다. &lt; 위 코드를... ', 'blog.naver.com/hma778', 'https://blog.naver.com/hma778/223682591648'], ['<b>파이썬</b>전문가 자격증 종류 및 취득과정', '모티베이터J', '<b>파이썬</b>전문가 자격증 종류 및 취득과정 안녕하세요 여러분! 요즘 여러분은 어떤 일에 푹 빠져 계신가요? 저는 요즘 <b>파이썬</b> 공부에 푹 빠져 있어요. 그래서 오늘은 <b>파이썬</b>전문가 자격증을 취득하게 된... ', 'blog.naver.com/jgrow29', 'https://blog.naver.com/jgrow29/223532577704'], ['리트코드 SQL <b>파이썬</b> dense_rank 문제풀이', '데이터 사이언티스트 루나의 미국 유학 후 취업', '같은 문제를 가지고 SQL과 <b>파이썬</b> 판다스를 가지고 풀어보겠습니다. 푸는 방법이... <b>파이썬</b> 판다스 답안 위에 SQL에서 푼 것과 같은 방법으로 풀었습니다. 프로젝트 당이니까... ', 'blog.naver.com/data-scientist-luna', 'https://blog.naver.com/data-scientist-luna/223770097870'], ['코딩 공부 기록  : 챗GPT /python <b>파이썬</b> / Visual Studio Code... ', '블링블링소유', '<b>파이썬</b> 자바 CSS 비주얼 스튜디오 코드 등을 자연스럽게 접하고 익숙해지는 게 이번 공부의 핵심이고 목표이다. 챗 GPT를 이용해 <b>파이썬</b> 프로그램 설치 챗 GPT는 내가 원하고 궁금한 내용을 자세하게... ', 'blog.naver.com/tasha81', 'https://blog.naver.com/tasha81/223750568625'], ['<b>파이썬</b> 게임 프로그래밍 하기 (with 챗GPT python)', '코예커플 IT', '<b>파이썬</b> 프로그래밍 하기 (with 챗GPT python) 프로그래밍을 처음 접하는 사람들도 쉽게 따라 할 수 있는 <b>파이썬</b> 게임 프로그래밍을 소개해 드립니다. 특히, 요즘 인기 있는 AI 도구인 챗GPT를 사용하면 <b>파이썬</b>... ', 'blog.naver.com/aiwositai', 'https://blog.naver.com/aiwositai/223662944748'], ['Copilot 이랑 <b>파이썬</b> 삽질하기 왕초보...', '또뽀끼의 취미 세상', 'py <b>파이썬</b> idle 나 vscode 안에서 실행은 가능하기에.... 어떻게든 원하는 걸 얻긴 했습니다 이렇게 파일명... 바꿨습니다 <b>파이썬</b> IDLE에 코드를 넣고 RUN~ 이렇게 짬뽕으로 돼 있어도 숫자만 지웁니다 대신 폴더는... ', 'blog.naver.com/rdh120', 'https://blog.naver.com/rdh120/223676529894'], ['NPU성능 향상? <b>파이썬</b>프로그래밍활용 데이터분석,라벨링 원리', '변검', \"오늘은 이 NPU의 성능을 실제로 끌어올리는 방법을 <b>파이썬</b>프로그래밍 도구로 설명해보려고 한다. NPU... <b>파이썬</b>은 이 NPU에게 '이건 사람이야' , '이건 나무야' 하고 알려주는 비서라고 보면 된다. 데이터라벨링... \", 'blog.naver.com/ddihw', 'https://blog.naver.com/ddihw/223716505362'], ['[<b>파이썬</b> 시리즈] 2.3. 연산자 (1)', 'Blog for Verilog HDL&RF Circuit Design', '이 게시물은 <b>파이썬</b> 3.9.0 기준 공식 문서를 참고하여 만들어졌습니다! &lt;<b>파이썬</b> 공식 문서(3.9.0 기준)&gt; https://docs.python.org/release/3.9.0/ &quot; &quot; 오늘도 주피터 노트북을 들어가셔서 새로운 이름의 ipynb 파일을... ', 'blog.naver.com/soi897', 'https://blog.naver.com/soi897/223722403799'], ['오타니쇼헤이 야구데이터로 배우는 <b>파이썬</b>', '먹고.보고.즐기고.배우고.', '&amp; 야구 데이터로 배우는 <b>파이썬</b> 저자 사이토 아마네 출판 영진닷컴 발매 2025.02.14. 신기하지? 야구를 보면서도 데이터를 분석할 수 있고, 그걸 배우면서 <b>파이썬</b>까지 익힐 수 있다니~ 바로 그걸 가능하게 해주는... ', 'blog.naver.com/lattettee', 'https://blog.naver.com/lattettee/223769900727'], ['대학원 직장인 <b>파이썬</b> 병행 학습 - 회사원 대학원생 대외활동', '무지개마을 니지동산 위에 세워진 마을회관', '첫번째 트랙은 <b>파이썬</b>으로 머신러닝, 트리모델 만들며 연구에 도움되는 분석트랙이었고 두번째 트랙은... 나는 1학기때 <b>파이썬</b> 스터디를 하고 ▼ 2학기때는 <b>파이썬</b> 수업을 두개 들었는데▼ 두번 다 제일... ', 'blog.naver.com/mildflower_', 'https://blog.naver.com/mildflower_/223767212098'], ['<b>파이썬</b> 파일 개발 : 브라우저 실행 도구 만들기', '주들의 그리 대단하진 않지만 굉장한 이야기', '<b>파이썬</b> 파일 개발 브라우저 실행 도구 만들기 필자는 컴퓨터로 업무를 수행하는 과정에선 항상 여러... 이번 포스팅에선 이러한 문제를 개선할 수 있도록 <b>파이썬</b>을 기반으로 닫힌 브라우저의 탭을... ', 'blog.naver.com/urmyver', 'https://blog.naver.com/urmyver/223744253147'], ['[백준]9663. N-Queen, <b>파이썬</b>.', 'LegenDUST의 잡다한 공간', '일반적으로 <b>파이썬</b>은 재귀가 느린 것으로 유명하니까. 콜스택을 만들고 이것저것 해야 하는데... 하여간 재귀가 더 빨랐다. queue에다가 넣고, 뺀 후에 tuple의 멤버에 접근하고 하는 것보다 그냥... ', 'blog.naver.com/dhnam0502', 'https://blog.naver.com/dhnam0502/223763970338'], ['<b>파이썬</b> 코드를 작성하고 실행해 보아요~', '#오늘도즐유해!', '좀 더 설명을 드려볼게요~ <b>파이썬</b> 프로그램을 작성하려고 위의 IDLE를 실행하면 셸 윈도우가... 편집창에서는 <b>파이썬</b> 코드를 작성하고 이 프로그램을 실행하면 셸 윈도우가 짜잔 하는 거죠~ 이제부터... ', 'blog.naver.com/daldalrory', 'https://blog.naver.com/daldalrory/223709733818'], ['잇업 ITUP 온라인 교육 <b>파이썬</b> 데이터 분석 강의 추천', '빵글즈의 IT존', '잇업 ITUP 온라인 교육 <b>파이썬</b> 데이터 분석 강의 추천에 대해서 알아보겠습니다. 2025년은 빅데이터... 특히 ADSP, 빅데이터 분석기사 등 R, <b>파이썬</b> 등의 AI 데이터 분석 언어에 관심이 많아지는데 너무 어려워서... ', 'blog.naver.com/bygcount', 'https://blog.naver.com/bygcount/223768861326'], ['[한빛미디어] 전문가를 위한 <b>파이썬</b> 개정판 리뷰', '오디와 칭구들', '오늘 리뷰할 책은 &lt;전문가를 위한 <b>파이썬</b>&gt;입니다. 전문가를 위한 <b>파이썬</b> 저자 루시아누 하말류 출판 한빛미디어 발매 2024.11.30. 근래 <b>파이썬</b>은 모교에서 문과도 교양필수로 지정될만큼 문이과 상관없이 교양... ', 'blog.naver.com/thwjd2717', 'https://blog.naver.com/thwjd2717/223708723738'], ['[<b>파이썬</b> 시리즈] 2.2. 추가적인 자료형(리스트, 튜플, 딕셔너리... ', 'Blog for Verilog HDL&RF Circuit Design', '<b>파이썬</b>은 숫자형, 문자열과 같은 기본 자료형 외에도 데이터를 더 구조적으로 저장하거나 복잡한... 이 게시물은 <b>파이썬</b> 3.9.0 기준 공식 문서를 참고하여 만들어졌습니다! &lt;<b>파이썬</b> 공식 문서(3.9.0 기준)... ', 'blog.naver.com/soi897', 'https://blog.naver.com/soi897/223715305738'], ['빅데이터 서비스 구현을 위한 자바 &amp; <b>파이썬</b> 개발자 과정', '로엘', '자바 &amp; <b>파이썬</b> 개발자 과정 안내드려요 6개월의 취업맞춤 교육 후 올해 취업까지 함께... 일단 상담신청 하세요  #IT교육 #국비지원 #빅데이터 #자바 #<b>파이썬</b> #취업연계 #멘토링 #소프트웨어... ', 'blog.naver.com/limjuyoun', 'https://blog.naver.com/limjuyoun/223767047813'], ['013_모듈 module _ <b>파이썬</b> 외부모듈', '뚜벅이의 지질여행', '내용) ※ <b>파이썬</b> 프로그래밍 예시문 [ 기본 구조 ] | 모듈 module ◆ 외부모듈 : <b>파이썬</b> 기본 제공이 아닌 외부 사람들이 만들어서 배포한 모듈 Numpy 수치계산 Pandas 데이터 처리 Matplotlib... ', 'blog.naver.com/geologenie', 'https://blog.naver.com/geologenie/223742717947'], ['<b>파이썬</b> 주사위 이모지 출력 GUI프로그램', '하루 하나 코딩 하나 책 하나', '지난해에 이어 오늘은 <b>파이썬</b> TK인터로 주사위 이모지 출력하기를 통해 GUI 프로그램을 만들어... 이번 프로젝트에서는 <b>파이썬</b> tkinter 주사위 이모지 출력 예제를 통해 주사위의 1부터 6까지의 눈을... ', 'blog.naver.com/hma778', 'https://blog.naver.com/hma778/223769515797'], ['[<b>파이썬</b>] 게임 개발 라이브러리', '슬리피핑거의 게임 개발 블로그', '<b>파이썬</b>은 게임 개발에 있어서 강력하고 유연한 도구입니다. 다양한 라이브러리를 활용하여... 지금부터 <b>파이썬</b> 게임 개발에 유용한 라이브러리들을 소개해 드리겠습니다. 2D 게임 개발의... ', 'blog.naver.com/sleepyfinger', 'https://blog.naver.com/sleepyfinger/223732759265'], ['엑셀 대신 <b>파이썬</b>으로 스마트하게 업무 자동화하는 방법', '워니정보통', '엑셀 대신 <b>파이썬</b>으로 스마트하게 업무 자동화하는 방법에 대해 이야기해보겠습니다. 요즘 직장인들 사이에서 엑셀 대신 <b>파이썬</b>을 활용해 업무 자동화를 실현하는 방법이 큰 관심을 받고 있어요. 특히 엑셀로... ', 'blog.naver.com/ahw0703', 'https://blog.naver.com/ahw0703/223603457283'], ['초보자를 위한 <b>파이썬</b>200제', '검이와 이슬이의 헌책방, Zéfəːr', '초보자를 위한 <b>파이썬</b> 200제 저자 장삼용 출판 정보문화사 발매 2024.11.25. 제작자인 네덜란드 출신의 소프트웨어 엔지니어인 귀도 반 로섬이 즐겨 보던 영국의 코미디 그룹 몬티 <b>파이썬</b>에서 프로젝트의... ', 'blog.naver.com/kimws4e', 'https://blog.naver.com/kimws4e/223704375497'], ['반월당<b>파이썬</b>, IT의 기본은 <b>파이썬</b>부터', '반짝이는 하루', '<b>파이썬</b>이란? <b>파이썬</b>(Python)은 1991년 귀도 반 로썸(Guido van Rossum)에 의해 개발된 고급 프로그래밍 언어입니다. <b>파이썬</b>은 간결하고 가독성이 높은 문법 덕분에 많은 개발자들 사이에서 인기를 얻고 있으며... ', 'blog.naver.com/pwb5926', 'https://blog.naver.com/pwb5926/223772774488'], ['<b>파이썬</b> 오라클 연결 및 오류 확인', '단테스 이야기 :: 단테스 이야기', '<b>파이썬</b> 오라클 연결 및 오류 확인 개발 2025. 1. 6. 18:51 <b>파이썬</b>에서 오라클에 접속할 수 있도록 라이브러리를 설치한다. pip install oracledb 간단한 예제 소스 import... ', 'https://dantes.kr/', 'https://dantes.kr/648'], ['<b>파이썬</b> 개발자 환경 설정하는 방법', '신디게이트', '<b>파이썬</b> 개발자 환경 구축 방법 공유 하도록 하겠습니다. 환경에 사용하는 프로그램은... <b>파이썬</b> 설치 https://www.python.org/ 다운로드 파일 클릭하여 설치하세요 * Add python.exe to PATH... ', 'blog.naver.com/syndgate', 'https://blog.naver.com/syndgate/223769876534'], ['[<b>파이썬</b>, C++] YOLO v8/v11 해보기', 'Notebook', '[<b>파이썬</b>] YOLO v8 해보기 https://github.com/ultralytics/ultralytics ******************************** <b>파이썬</b> 3.12는 이미 설치되어 있음. pip install ultralytics yolo.exe는 C:\\\\Users\\\\admin\\\\AppData\\\\Local... ', 'blog.naver.com/jdkim2004', 'https://blog.naver.com/jdkim2004/223764416093'], ['[ <b>파이썬</b> 국비학원 ]<b>파이썬</b>으로 할 수 있는 유망 분야 7가지', '구디아카데미 공식 블로그', '<b>파이썬</b>은 다양한 분야에서 폭넓게 사용되는 프로그래밍 언어 입니다.<b>파이썬</b>으로 할 수 있는 유망 분야 9가지를 소개 하겠습니다. 1. 웹개발 웹 개발을 할 수 있는 프레임워크로는 DJango, Flask 같은 <b>파이썬</b>... ', 'blog.naver.com/goodee0205', 'https://blog.naver.com/goodee0205/223667457056'], ['<b>파이썬</b> tkinter 카운트 프로그램 만들기', '하루 하나 코딩 하나 책 하나', '<b>파이썬</b>에서 GUI(Graphical User Interface)를 만들 수 있는 기본 라이브러리 중 하나가 바로 <b>파이썬</b> tkinter입니다. <b>파이썬</b> tkinter를 사용하면 간단한 버튼, 라벨, 입력 창 등을 쉽게 만들 수 있으며... ', 'blog.naver.com/hma778', 'https://blog.naver.com/hma778/223767278725'], ['<b>파이썬</b>에서 함수 사용하기', '#오늘도즐유해!', '오늘도 즐겁고 유익한 하루 보내세요~ #<b>파이썬</b> #<b>파이썬</b>기초 #<b>파이썬</b>공부 #초등<b>파이썬</b> #<b>파이썬</b>초등 #초등코딩 #초등코딩공부 #<b>파이썬</b>함수 #<b>파이썬</b>함수사용 #<b>파이썬</b>난수 #<b>파이썬</b>난수사용... ', 'blog.naver.com/daldalrory', 'https://blog.naver.com/daldalrory/223717526073'], ['[<b>파이썬</b> 시리즈] 2.4. 연산자 (2)', 'Blog for Verilog HDL&RF Circuit Design', '이 게시물은 <b>파이썬</b> 3.9.0 기준 공식 문서를 참고하여 만들어졌습니다! &lt;<b>파이썬</b> 공식 문서(3.9.0 기준)&gt; https://docs.python.org/release/3.9.0/ &quot; &quot; 오늘도 주피터 노트북을 들어가셔서 새로운 이름의 ipynb 파일을... ', 'blog.naver.com/soi897', 'https://blog.naver.com/soi897/223730006709'], ['<b>파이썬</b>과 챗GPT의 만남으로 직장인코딩 효율 높이기', 'SPACE CREATOR', '오늘은 <b>파이썬</b>과 챗GPT를 통해 직장인코딩 효율을 높일 수 있는 방법이 있다고하는데요. 지난번 소개드린 코딩밸리에서 새로운 강의가 추가됐다고 하니 한번 살펴보도록 합시다. <b>파이썬</b>과 챗GPT의 만남으로... ', 'blog.naver.com/freemeadow', 'https://blog.naver.com/freemeadow/223723615818'], ['<b>파이썬</b>독학 효율적으로 공부해보자', '호잇의 룰루랄라', '안녕하세요, 오늘은 <b>파이썬</b>독학을 위해 알아두면 유익한 정보들을 소개해드리고자 합니다. 프로그래밍에 관심이 있으시거나 취미의 일환으로 많은 분들이 <b>파이썬</b>독학에 입문하고 계시는데요, 가장 대표적이고... ', 'blog.naver.com/thebenzecl', 'https://blog.naver.com/thebenzecl/223758936632'], ['크리스마스를 SQL-<b>파이썬</b> 공부로 뽀갬', '찰나의 실행과 독서 그리고 성장', \"사실 요새 '잔재미코딩, Dave Lee'님의 <b>파이썬</b> 웹개발 풀스택 로드맵을 따라가고 있는데요... 이 와중에... <b>파이썬</b> ↔ SQL 관계를 이해하다 가장 좋았던 부분은 강의 후반부에 <b>파이썬</b>을 이용한 MySQL다루는... \", 'blog.naver.com/currybread0', 'https://blog.naver.com/currybread0/223705270354'], ['<b>파이썬</b>강의 비전공자 초보자 독학 공부법', '유유의 이야기 한 잔', '바로 <b>파이썬</b>(Python)에 대해 소개해 드리려고 해요 요즘은 프로그래밍에 대한 관심이 워낙 많다 보니 전공자가 아니더라도 <b>파이썬</b>을 독학으로 공부하시는 분들이 많은 것 같아요 <b>파이썬</b>은 데이터 분석, 웹 개발... ', 'blog.naver.com/smujack', 'https://blog.naver.com/smujack/223750973661'], ['[<b>파이썬</b> 시리즈] 2.1 변수와 기본적인 자료형', 'Blog for Verilog HDL&RF Circuit Design', '이 게시물은 <b>파이썬</b> 3.9.0 기준 공식 문서를 참고하여 만들어졌습니다! &lt;<b>파이썬</b> 공식 문서(3.9.0 기준)&gt; https://docs.python.org/release/3.9.0/ &quot; &quot; 오늘도 주피터 노트북을 들어가셔서 새로운 이름의 ipynb 파일을... ', 'blog.naver.com/soi897', 'https://blog.naver.com/soi897/223714499138'], ['지오지브라 활용 수학 교수학습: <b>파이썬</b> 코딩수학편', '수학독서', '<b>파이썬</b> 코딩수학편 최경식 , 임상연 저자(글) 지오북스 · 2025년 02월 01일 https://product.kyobobook.co.kr/detail/S000215571251 책 소개 최경식의 『지오지브라 활용 수학 교수학습: <b>파이썬</b>... ', 'blog.naver.com/emotion-books', 'https://blog.naver.com/emotion-books/223734789528'], ['실전 데이터 분석 with <b>파이썬</b> :: <b>파이썬</b>을 활용하여 분석 및... ', '율리시스SS 리뷰 못 하는 블로그', '실전 데이터 분석 with <b>파이썬</b> 안녕하세요. 율리시스SS입니다. 오늘 소개시켜드릴 도서는 실전 데이터 분석 with <b>파이썬</b>입니다. 최근에 <b>파이썬</b> 도서를 많이 소개시켜드리는것 같은데요. <b>파이썬</b>은 데이터 분석에... ', 'blog.naver.com/adg0609', 'https://blog.naver.com/adg0609/223706369169'], ['일 잘하는 직장인을 위한 엑셀 자동화 with <b>파이썬</b>', '강명규님의 블로그', '1~4장: <b>파이썬</b> 개발환경, 기본문법(변수,자료형, 함수,클래스, 모듈) 및 파일 읽기/쓰기 기존 <b>파이썬</b>을 사용하고 있었다면 훑어보면 되겠다. <b>파이썬</b> 개발환경을 주피터 노트북으로 설정하자고... ', 'blog.naver.com/myunggyu', 'https://blog.naver.com/myunggyu/223712509252'], ['<b>파이썬</b> 별 찍기로 코딩 즐기자', '하루 하나 코딩 하나 책 하나', '안녕하세요 초보 코딩러들이 코딩에 대한 감각을 익히고 재미를 느낄 수 있도록 도울 때 활용하기에 좋은 것이 <b>파이썬</b> 별 찍기가 아닐까 싶은데요. 오늘 다함께 <b>파이썬</b> 별 찍기로 코딩을 즐겨보자구요... ', 'blog.naver.com/hma778', 'https://blog.naver.com/hma778/223681358891'], ['<b>파이썬</b> &amp; SQL 코딩인강추천 코딩밸리', 'SPACE CREATOR', '오늘은 <b>파이썬</b> &amp; SQL 코딩인강추천 코딩밸리를 살펴보고자 하는데요. 그 어렵던 코딩을 손쉽게 배울 수 있는 서비스라고해서 항상 망설였던 <b>파이썬</b>과 SQL에 도전해봤습니다. 코딩밸리란? 출처 : 코딩밸리... ', 'blog.naver.com/freemeadow', 'https://blog.naver.com/freemeadow/223714040555'], ['[<b>파이썬</b>cospro문제_풀이]03. 구현_그리드_2d배열_시뮬레이션', 'Coding & Math', '테스트 Pythonic Coding <b>파이썬</b> 답게 수정하기 1. 리스트 언패킹: 기존 코드: target = area[i]를 사용해 데이터를 가져오고 변수에 할당. Pythonic 코드: for from_r, from_c, to_r, to_c, color in area로 리스트... ', 'blog.naver.com/therich21', 'https://blog.naver.com/therich21/223712664500'], ['부트캠프] 9일차_<b>파이썬</b>과 SQL 연동, MariaDB ALTER TABLE', '취미 부자의 생활기록부', '이때 <b>파이썬</b>과 SQL을 연동하면, 데이터베이스와의 상호작용을 통해 <b>파이썬</b> 코드 내에서 데이터베이스의 데이터를 조회, 삽입, 수정, 삭제하는 작업을 자동화하거나 효율화할... ', 'blog.naver.com/under_26', 'https://blog.naver.com/under_26/223759429951'], ['012_모듈 module _ <b>파이썬</b> 내부모듈', '뚜벅이의 지질여행', \"내용) ※ <b>파이썬</b> 프로그래밍 예시문 [ 기본 구조 ] | 모듈 module ◆ 모듈 module : 비슷한 성격의 함수, 클래스들을 가지고 있는 .py 파일 _ '모듈을 사용한다.' : <b>파이썬</b>으로 변수, 함수... \", 'blog.naver.com/geologenie', 'https://blog.naver.com/geologenie/223742454193'], ['시간을 사는 법 - <b>파이썬</b>을 이용한 자동화(등기 대량 확인)', '찰나의 실행과 독서 그리고 성장', '그 전에 잠깐 공부했었던 <b>파이썬</b>을 들고 왔습니다. 우선, 그 전에 고객들에게 보내는 엑셀파일도... 이제 <b>파이썬</b>으로 &quot;자동화&quot;가 가능합니... ', 'blog.naver.com/currybread0', 'https://blog.naver.com/currybread0/223701145227'], ['알고리즘 수업 - 병합 정렬 1의 시간 제한과 <b>파이썬</b>', 'LegenDUST의 잡다한 공간', '병합 정렬을 의사코드를 그대로 <b>파이썬</b>으로 구현하고, 제일 마지막에 A[]에 대입하는 부분만... 파이ㅆ 오늘의 팁: <b>파이썬</b>은 느리다. 아마 어제의 팁이었고 내일의 팁일 것이다. 심지어 pypy로도 속도 제한에... ', 'blog.naver.com/dhnam0502', 'https://blog.naver.com/dhnam0502/223761740066'], ['야구 데이터로 배우는 <b>파이썬</b>', '영진닷컴 공식 블로그', '야구 데이터로 배우는 <b>파이썬</b> * 책 소개 오타니 쇼헤이 선수&amp;일본 프로야구의 리얼한 데이터로 배우는 <b>파이썬</b> 이 책은 야구 데이터를 활용하여 <b>파이썬</b> 프로그래밍과 데이터 분석을 배울 수 있는 실습... ', 'blog.naver.com/ydot', 'https://blog.naver.com/ydot/223728444755'], ['<b>파이썬</b>의 threading 과 multiprocessing 비교', '파워 프로그래머', '이로 인해 CPU 코어별로 병렬 처리가 가능하며, <b>파이썬</b>의 GIL(Global Interpreter Lock) 제한을 피할 수 있습니다. 1. 멀티쓰레딩 vs 멀티프로세싱 차이 2. multiprocessing의 실행 방식 각 함수는 독립된... ', 'blog.naver.com/websearch', 'https://blog.naver.com/websearch/223747111410'], ['Python(<b>파이썬</b>)을 사용한 프로그램 만들기', '일상의 기록소', 'Python(<b>파이썬</b>)을 사용한 프로그램 만들기 안녕하세요, 이번에는 Python(<b>파이썬</b>) 프로그래밍 언어를 사용하여 간단한 프로그램을 만들어 보았어요. 그냥 만들면 임팩트(?)가 약할 것 같아 영상처리... ', 'blog.naver.com/gonman2k', 'https://blog.naver.com/gonman2k/223704658968'], ['SQL, <b>파이썬</b> 기초 자격증 클래스 프로모션', '사람인공식블로그', '사람인 x 프로그래머스 SQL <b>파이썬</b> 자격증 클래스 OPEN! 실무에서 바로 쓰는 SQL 기술, 비전공자도 하루만에 마스터 <b>파이썬</b>을 전혀 몰라도 일주일만에 기초 코딩역량 마스터 사람인·프로그래머스 특별... ', 'blog.naver.com/saraminapp', 'https://blog.naver.com/saraminapp/223703076050'], ['[K-digital] &quot;실전에서 써먹는 <b>파이썬</b> 데이터분석&quot;', '데이터공방', '링크 첨부합니다. https://itup.co.kr/rv1/k-digital/main/lecture/info?course_uid=940482&amp;education_uid=55178 #<b>파이썬</b> #데이터분석 #강의 #Kdigital #K-digital #SQL #프로젝트 #잇업 #데이터공방 #시각화 #분류 #강의추천', 'blog.naver.com/kiddwannabe', 'https://blog.naver.com/kiddwannabe/223719397064'], ['Visual Studio Code <b>파이썬</b> 실행경로 지정 : launch.json', '여행하는 프로그래머', '<b>파이썬</b> 코드를 실행하고 디버깅하는 과정을 원활하게 만들어줍니다. 파일 어디위치에서든... &quot;&quot; &quot;&quot; &quot;&quot; &quot;&quot; &quot; &quot; &quot;&quot; &quot;&quot; &quot;&quot; &quot;&quot; &quot;&quot; &quot;&quot; &quot;&quot; &quot;&quot; launch.json 파일은 VSCode에서 <b>파이썬</b> 개발 생산성을 높이는 데... ', 'blog.naver.com/merds', 'https://blog.naver.com/merds/223698839317'], ['초등아이에게 코딩,<b>파이썬</b>, 프롬프트.. 뭣 부터 시킬까요?', '송숙희의 돈이되는글쓰기', '<b>파이썬</b>을 배우지 않으면 먹고살기 힘들다고요? 구글의 대표 AI엔지니어 세가 챙은 펄쩍 뜁니다.... 문해력을 키워주면 공부머리가 트이고 그러면 아이 스스로 코딩이든 <b>파이썬</b>이든 알아서 다 찾아... ', 'blog.naver.com/scarf94', 'https://blog.naver.com/scarf94/223769267129'], ['책 리뷰 - &quot;<b>파이썬</b>의 엑셀, 판다스 라이브러리&quot;', '벼락치기의 달인', '그 중 가장 잘쓰는 스크립트 언어는 단연 <b>파이썬</b>이라고 할 수 있습니다. <b>파이썬</b>이 좋은 이유는 크게 1. 쉽다. 2. 어디든 써먹을 수 있다. (정말 거의 대부분..) 제가 현재의 (나름)억대 소득을 할 수 있던 이유도... ', 'https://eastkim64.tistory.com/', 'https://eastkim64.tistory.com/140'], ['[<b>파이썬</b>] 주피터 노트북', '모두 이루지리라 얍!', '장점 코드 실행: <b>파이썬</b>, R, Julia 등의 언어로 코드를 실행하고 그 결과를 바로 확인할 수 있습니다. 문서화: 텍스트, 수학 공식(LaTeX), 이미지 등을 포함시켜서 코드의 설명을 자세히 할... ', 'https://fomerain.tistory.com/', 'https://fomerain.tistory.com/434'], ['오늘의 뉴스 헤드라인 추출하기 - 도커와 <b>파이썬</b> 크롤러', 'B급 코드 리뷰', '<b>파이썬</b> 크롤러를 소스코드를 작성하고 도커로 이미지화하고 필요할 때 컨테이너로 가져와 사용하는 컨셉이다. 물론, 간단한 <b>파이썬</b> 크롤링을 도커로... ', 'https://iamgus.tistory.com/', 'https://iamgus.tistory.com/733']]\n"
     ]
    }
   ],
   "execution_count": 32
  }
 ],
 "metadata": {
  "kernelspec": {
   "display_name": "Python 3",
   "language": "python",
   "name": "python3"
  },
  "language_info": {
   "codemirror_mode": {
    "name": "ipython",
    "version": 2
   },
   "file_extension": ".py",
   "mimetype": "text/x-python",
   "name": "python",
   "nbconvert_exporter": "python",
   "pygments_lexer": "ipython2",
   "version": "2.7.6"
  }
 },
 "nbformat": 4,
 "nbformat_minor": 5
}
