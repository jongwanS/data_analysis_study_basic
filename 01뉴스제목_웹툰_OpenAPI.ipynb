{
 "cells": [
  {
   "cell_type": "code",
   "id": "initial_id",
   "metadata": {
    "collapsed": true
   },
   "source": [
    "#!는 쉘 명령어를 실행할때 사용\n",
    "#requests 라이브러리는 http 호출 관련 라이브러리\n",
    "!pip show requests"
   ],
   "outputs": [],
   "execution_count": null
  },
  {
   "metadata": {},
   "cell_type": "code",
   "source": "!pip show beautifulsoup4",
   "id": "b736f289a49fbf1",
   "outputs": [],
   "execution_count": null
  },
  {
   "metadata": {
    "ExecuteTime": {
     "end_time": "2025-02-19T15:48:00.928657Z",
     "start_time": "2025-02-19T15:48:00.728548Z"
    }
   },
   "cell_type": "code",
   "source": [
    "import requests\n",
    "import bs4\n",
    "from bs4 import BeautifulSoup"
   ],
   "id": "59be8394553d589",
   "outputs": [],
   "execution_count": 4
  },
  {
   "metadata": {
    "ExecuteTime": {
     "end_time": "2025-02-19T15:48:06.989601Z",
     "start_time": "2025-02-19T15:48:06.985444Z"
    }
   },
   "cell_type": "code",
   "source": [
    "print(f'requests 버전 {requests.__version__}' )\n",
    "print('beautifulsoup 버전 {}'.format(bs4.__version__))"
   ],
   "id": "f619c28a97728d69",
   "outputs": [
    {
     "name": "stdout",
     "output_type": "stream",
     "text": [
      "requests 버전 2.32.3\n",
      "beautifulsoup 버전 4.13.3\n"
     ]
    }
   ],
   "execution_count": 6
  },
  {
   "metadata": {
    "ExecuteTime": {
     "end_time": "2025-02-19T15:49:50.396941Z",
     "start_time": "2025-02-19T15:49:50.244669Z"
    }
   },
   "cell_type": "code",
   "source": [
    "# IT/과학 뉴스\n",
    "req_param = {\n",
    "    'sid': 105\n",
    "}\n",
    "url = 'https://news.naver.com/section/{sid}'.format(**req_param)\n",
    "print('url : ' + url)\n",
    "# 요청 헤더 설정 : 브라우저 정보\n",
    "req_header = {\n",
    "    'user-agent': 'Mozilla/5.0 (Windows NT 10.0; Win64; x64) AppleWebKit/537.36 (KHTML, like Gecko) Chrome/104.0.0.0 Safari/537.36'\n",
    "}\n",
    "res = requests.get(url, headers=req_header)\n",
    "print(type(res))\n",
    "print(res.status_code)\n",
    "# status_code == 200\n",
    "if res.ok:\n",
    "    html = res.text\n",
    "    soup = BeautifulSoup(html,'html.parser')\n",
    "    #print(soup.select(\"div.sa_text a[href*='mnews/article']\"))\n",
    "    a_tag_list = soup.select(\"div.sa_text a[href*='mnews/article']\")\n",
    "    print(type(a_tag_list)) #[<a>뉴스제목</a>,<a></a>]\n",
    "    for a_tag in a_tag_list:\n",
    "        #print(a_tag)\n",
    "        title = a_tag.text.strip()\n",
    "        link = a_tag['href']\n",
    "        print(title, link)\n",
    "else:\n",
    "    print(f'에러코드 = {res.status_code}')"
   ],
   "id": "9e68e0358317571c",
   "outputs": [
    {
     "name": "stdout",
     "output_type": "stream",
     "text": [
      "url : https://news.naver.com/section/105\n",
      "<class 'requests.models.Response'>\n",
      "200\n",
      "<class 'bs4.element.ResultSet'>\n",
      "`규제보다 진흥 시급`…네이버 간 국회 과방위 \"앞장서 지원\" https://n.news.naver.com/mnews/article/029/0002936377\n",
      " https://n.news.naver.com/mnews/article/comment/029/0002936377\n",
      "S-OIL, LG CNS와 손잡고 '디지털 정유공장' 구축 가속화 https://n.news.naver.com/mnews/article/008/0005155396\n",
      " https://n.news.naver.com/mnews/article/comment/008/0005155396\n",
      "아이폰에서 갤럭시로 대용량 문자메시지 가능해진다 https://n.news.naver.com/mnews/article/032/0003351953\n",
      " https://n.news.naver.com/mnews/article/comment/032/0003351953\n",
      "中 '딥시크 쇼크'…곽노정 SK하이닉스 사장 \"훨씬 더 큰 기회로 다가올 것\" https://n.news.naver.com/mnews/article/293/0000063974\n",
      " https://n.news.naver.com/mnews/article/comment/293/0000063974\n",
      "최상목, 젊은 과학자들 만나…\"첨단과학, 혁신 이끄는 핵심동력\" https://n.news.naver.com/mnews/article/422/0000714768\n",
      " https://n.news.naver.com/mnews/article/comment/422/0000714768\n",
      "자국민에 ‘포괄적 정보 제공’ 의무화… 중국 국가정보법 ‘정보사냥’ 논란 https://n.news.naver.com/mnews/article/021/0002691301\n",
      " https://n.news.naver.com/mnews/article/comment/021/0002691301\n",
      "내년도 정부 R&D 투자방향은? 공청회 개최 https://n.news.naver.com/mnews/article/018/0005946971\n",
      " https://n.news.naver.com/mnews/article/comment/018/0005946971\n",
      "\"주주와의 약속\" 정신아 카카오 대표, 1억원 규모 자사주 매입 https://n.news.naver.com/mnews/article/421/0008086458\n",
      " https://n.news.naver.com/mnews/article/comment/421/0008086458\n",
      "[영상]“딥시크? 너 누군데” 치열한 AI 각축전, 승자는 누구 https://n.news.naver.com/mnews/article/016/0002431374\n",
      " https://n.news.naver.com/mnews/article/comment/016/0002431374\n",
      "곽노정 SK하이닉스 \"저가 AI 등장은 메모리로선 오히려 큰 자극제\" [인더인싸] https://n.news.naver.com/mnews/article/138/0002191192\n",
      " https://n.news.naver.com/mnews/article/comment/138/0002191192\n",
      "원전 가동 47년 만에 영구처분장 법 마련 https://n.news.naver.com/mnews/article/056/0011896325\n",
      " https://n.news.naver.com/mnews/article/comment/056/0011896325\n",
      "“언제부터 중국집이 배달비 받았냐” 강남 진출한 ‘0원 배달’…정체 알고보니 https://n.news.naver.com/mnews/article/016/0002431370\n",
      " https://n.news.naver.com/mnews/article/comment/016/0002431370\n",
      "딥시크 쇼크?... 곽노정 SK하이닉스 CEO “AI 반도체 시장 기폭제 될 것” https://n.news.naver.com/mnews/article/009/0005446639\n",
      " https://n.news.naver.com/mnews/article/comment/009/0005446639\n",
      "中 딥시크 등장에도…곽노정 SK하이닉스 사장 \"결국 반도체 시장에 큰 기회\" https://n.news.naver.com/mnews/article/092/0002363840\n",
      " https://n.news.naver.com/mnews/article/comment/092/0002363840\n",
      "딥시크 쇼크 속 곽노정 “AI보급에 자극제… HBM 시장 더 커진다” https://n.news.naver.com/mnews/article/016/0002431368\n",
      " https://n.news.naver.com/mnews/article/comment/016/0002431368\n",
      "질병 막을 ‘황금쌀’…GMO 오해 탓 20년째 식탁 못 올렸다[최정균의 유전자 천태만상] https://n.news.naver.com/mnews/article/032/0003352072\n",
      " https://n.news.naver.com/mnews/article/comment/032/0003352072\n",
      "10년전 제대로 걷지도 못하던 로봇…이제 마이클 조던처럼 점프슛 https://n.news.naver.com/mnews/article/009/0005446633\n",
      " https://n.news.naver.com/mnews/article/comment/009/0005446633\n",
      "140만원짜린데 ‘80만원 웃돈’ 줘도 못구한다…대체 https://n.news.naver.com/mnews/article/009/0005446629\n",
      " https://n.news.naver.com/mnews/article/comment/009/0005446629\n",
      "中 딥시크 쇼크에…곽노정 SK하이닉스 사장 \"HBM에 큰 기회\" https://n.news.naver.com/mnews/article/001/0015223036\n",
      " https://n.news.naver.com/mnews/article/comment/001/0015223036\n",
      "AI로 '인공태양' 상용화 포문···핵융합판 스페이스X 꿈꾸는 이 기업 https://n.news.naver.com/mnews/article/018/0005947339\n",
      " https://n.news.naver.com/mnews/article/comment/018/0005947339\n",
      "변기 뚜껑 닫으나 마나 ‘세균’은 퍼진다…‘환풍기’가 답 https://n.news.naver.com/mnews/article/016/0002431362\n",
      " https://n.news.naver.com/mnews/article/comment/016/0002431362\n",
      "곽노정 SK하이닉스 사장 “딥시크 출현, 반도체 산업에 기회… 낸드 수요 연말 회복 기대” https://n.news.naver.com/mnews/article/366/0001055228\n",
      " https://n.news.naver.com/mnews/article/comment/366/0001055228\n",
      "“10만원짜리→ 1만원, 싼 맛에 난리” 전국민 열풍 ‘700만명’ 우르르…결국 ‘떼돈’ 벌었다 https://n.news.naver.com/mnews/article/016/0002431355\n",
      " https://n.news.naver.com/mnews/article/comment/016/0002431355\n",
      "\"AI로 희귀질환 진단 새 패러다임 열 것…치료제까지 개발\" https://n.news.naver.com/mnews/article/029/0002936555\n",
      " https://n.news.naver.com/mnews/article/comment/029/0002936555\n",
      "[사이언스] 위성영상 ·발사체 재활용·우주탐사…AI로 우주 길 뚫는다 https://n.news.naver.com/mnews/article/011/0004452545\n",
      " https://n.news.naver.com/mnews/article/comment/011/0004452545\n",
      "딥시크발 AI 신냉전 열리나…`차단 vs 허용` 나뉜 전세계 https://n.news.naver.com/mnews/article/029/0002936549\n",
      " https://n.news.naver.com/mnews/article/comment/029/0002936549\n",
      "처분장 건설 ‘산 넘어 산’…공감대 ‘과제’ https://n.news.naver.com/mnews/article/056/0011896179\n",
      " https://n.news.naver.com/mnews/article/comment/056/0011896179\n",
      "원전 가동 47년 만에 영구처분장 법 마련 https://n.news.naver.com/mnews/article/056/0011896178\n",
      " https://n.news.naver.com/mnews/article/comment/056/0011896178\n",
      "“암엔 선보다 원형”… mRNA 항암제 효율 200배 높여 https://n.news.naver.com/mnews/article/366/0001055225\n",
      " https://n.news.naver.com/mnews/article/comment/366/0001055225\n",
      "\"AI시대 청바지 팔자\"...`국가AI인프라` 국내외 빅테크 물밑 움직임 https://n.news.naver.com/mnews/article/029/0002936546\n",
      " https://n.news.naver.com/mnews/article/comment/029/0002936546\n",
      "“또 마라톤 신나게 뛸 거죠?” 다신 보고 싶지 않은 이 풍경…쓰레기는 어쩌나 [지구, 뭐래?] https://n.news.naver.com/mnews/article/016/0002431348\n",
      " https://n.news.naver.com/mnews/article/comment/016/0002431348\n",
      "커지는 보톡스 시장…녹십자 가세로 더 뜨거워진다 https://n.news.naver.com/mnews/article/029/0002936537\n",
      " https://n.news.naver.com/mnews/article/comment/029/0002936537\n",
      "`겨우 1%`…5G 가입자 확대 갈길 먼 알뜰폰 https://n.news.naver.com/mnews/article/029/0002936536\n",
      " https://n.news.naver.com/mnews/article/comment/029/0002936536\n",
      "[단독] 위기의 삼성, 국내외 임원진 2000명 비상 소집…삼성DNA 다시 주입한다 https://n.news.naver.com/mnews/article/009/0005446591\n",
      " https://n.news.naver.com/mnews/article/comment/009/0005446591\n",
      "\"KAIST 실패연구소처럼…자본·인력 20%는 '불확실성'에 투자를\" https://n.news.naver.com/mnews/article/015/0005096503\n",
      " https://n.news.naver.com/mnews/article/comment/015/0005096503\n",
      "\"두유제조기 소음 위험 수준…일부는 화상 우려도\" https://n.news.naver.com/mnews/article/092/0002363831\n",
      " https://n.news.naver.com/mnews/article/comment/092/0002363831\n",
      "3300만 쓰는 '채팅플러스', PC 버전은 'SKT 1사 체제'로 https://n.news.naver.com/mnews/article/031/0000910135\n",
      " https://n.news.naver.com/mnews/article/comment/031/0000910135\n",
      "500만원대 내놓은 화웨이… 삼성 '트리플폴드폰' 가격 고심 https://n.news.naver.com/mnews/article/014/0005310758\n",
      " https://n.news.naver.com/mnews/article/comment/014/0005310758\n",
      "배터리·휴대성·성능… 삼박자 갖춘 AI노트북 [IT 써보니] https://n.news.naver.com/mnews/article/014/0005310754\n",
      " https://n.news.naver.com/mnews/article/comment/014/0005310754\n",
      "180만원 → 280만원 '껑충'…품귀 현상에 되팔이 성행하는 엔비디아 그래픽카드 https://n.news.naver.com/mnews/article/277/0005549109\n",
      " https://n.news.naver.com/mnews/article/comment/277/0005549109\n",
      "‘국내시장 가망 없다’ 해외로 턴하는 게임사들 https://n.news.naver.com/mnews/article/005/0001758437\n",
      " https://n.news.naver.com/mnews/article/comment/005/0001758437\n",
      "네이버 \"생성형 AI 이용해 우버형 헬스케어 내놓을 것\" https://n.news.naver.com/mnews/article/015/0005096488\n",
      " https://n.news.naver.com/mnews/article/comment/015/0005096488\n",
      "\"AI 골든타임 길어야 2년 … 韓, 도약·추락 갈림길에 섰다\" https://n.news.naver.com/mnews/article/009/0005446567\n",
      " https://n.news.naver.com/mnews/article/comment/009/0005446567\n",
      "‘그록3 vs 딥시크 vs 챗GPT’…승자는? https://n.news.naver.com/mnews/article/056/0011896094\n",
      " https://n.news.naver.com/mnews/article/comment/056/0011896094\n"
     ]
    }
   ],
   "execution_count": 8
  },
  {
   "metadata": {},
   "cell_type": "markdown",
   "source": "",
   "id": "75a27006c437bec2"
  },
  {
   "metadata": {},
   "cell_type": "code",
   "outputs": [],
   "execution_count": null,
   "source": "",
   "id": "46e330acd42b8aec"
  }
 ],
 "metadata": {
  "kernelspec": {
   "display_name": "Python 3",
   "language": "python",
   "name": "python3"
  },
  "language_info": {
   "codemirror_mode": {
    "name": "ipython",
    "version": 2
   },
   "file_extension": ".py",
   "mimetype": "text/x-python",
   "name": "python",
   "nbconvert_exporter": "python",
   "pygments_lexer": "ipython2",
   "version": "2.7.6"
  }
 },
 "nbformat": 4,
 "nbformat_minor": 5
}
