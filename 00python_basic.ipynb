{
 "cells": [
  {
   "cell_type": "code",
   "id": "initial_id",
   "metadata": {
    "collapsed": true,
    "ExecuteTime": {
     "end_time": "2025-02-18T14:32:18.945722Z",
     "start_time": "2025-02-18T14:32:18.938013Z"
    }
   },
   "source": [
    "lang = 'python'\n",
    "value = 100\n",
    "myStr = '{} {} 언어'.format(lang, value)\n",
    "myStr"
   ],
   "outputs": [
    {
     "data": {
      "text/plain": [
       "'python 100 언어'"
      ]
     },
     "execution_count": 2,
     "metadata": {},
     "output_type": "execute_result"
    }
   ],
   "execution_count": 2
  },
  {
   "metadata": {
    "ExecuteTime": {
     "end_time": "2025-02-18T14:32:30.028114Z",
     "start_time": "2025-02-18T14:32:30.021829Z"
    }
   },
   "cell_type": "code",
   "source": [
    "myStr2 = f'{lang} {value} 언어'\n",
    "myStr2"
   ],
   "id": "a56e97035dba302d",
   "outputs": [
    {
     "data": {
      "text/plain": [
       "'python 100 언어'"
      ]
     },
     "execution_count": 3,
     "metadata": {},
     "output_type": "execute_result"
    }
   ],
   "execution_count": 3
  },
  {
   "metadata": {
    "ExecuteTime": {
     "end_time": "2025-02-18T14:38:23.484414Z",
     "start_time": "2025-02-18T14:38:23.475139Z"
    }
   },
   "cell_type": "code",
   "source": [
    "#f-string에서 숫자에 1000단위로 콤마(,)를 찍는 포맷 지정자\n",
    "val = 56784949494\n",
    "format_val = f'{val:,}'\n",
    "format_val"
   ],
   "id": "8d07bb6b81fc6b55",
   "outputs": [
    {
     "data": {
      "text/plain": [
       "'56,784,949,494'"
      ]
     },
     "execution_count": 7,
     "metadata": {},
     "output_type": "execute_result"
    }
   ],
   "execution_count": 7
  },
  {
   "metadata": {
    "ExecuteTime": {
     "end_time": "2025-02-18T14:39:09.651611Z",
     "start_time": "2025-02-18T14:39:09.644276Z"
    }
   },
   "cell_type": "code",
   "source": [
    "#1000단위 콤마 + 소수점 2자리\n",
    "val = 24737.1234\n",
    "format_val = f'{val:,.2f}'\n",
    "format_val"
   ],
   "id": "7fcffe82cb61364e",
   "outputs": [
    {
     "data": {
      "text/plain": [
       "'24,737.12'"
      ]
     },
     "execution_count": 9,
     "metadata": {},
     "output_type": "execute_result"
    }
   ],
   "execution_count": 9
  },
  {
   "metadata": {
    "ExecuteTime": {
     "end_time": "2025-02-18T14:39:32.096447Z",
     "start_time": "2025-02-18T14:39:32.090538Z"
    }
   },
   "cell_type": "code",
   "source": [
    "## dict 연습\n",
    "my_dict1 = dict()  # {}\n",
    "my_dict = {\n",
    "    'name': '파이썬'\n",
    "}\n",
    "my_dict['addr'] = '서울'\n",
    "print(my_dict)\n",
    "print(my_dict['name'])"
   ],
   "id": "c5edf06cc9c665f8",
   "outputs": [
    {
     "name": "stdout",
     "output_type": "stream",
     "text": [
      "{'name': '파이썬', 'addr': '서울'}\n",
      "파이썬\n"
     ]
    }
   ],
   "execution_count": 10
  },
  {
   "metadata": {
    "ExecuteTime": {
     "end_time": "2025-02-18T14:40:08.327632Z",
     "start_time": "2025-02-18T14:40:08.321504Z"
    }
   },
   "cell_type": "code",
   "source": [
    "for k in my_dict.keys():\n",
    "    print(k,my_dict[k])\n",
    "\n",
    "for k,v in my_dict.items():\n",
    "    print(k, v)"
   ],
   "id": "c8c2c67fda65aeb8",
   "outputs": [
    {
     "name": "stdout",
     "output_type": "stream",
     "text": [
      "name 파이썬\n",
      "addr 서울\n",
      "name 파이썬\n",
      "addr 서울\n"
     ]
    }
   ],
   "execution_count": 11
  },
  {
   "metadata": {
    "ExecuteTime": {
     "end_time": "2025-02-18T14:41:05.303544Z",
     "start_time": "2025-02-18T14:41:05.284982Z"
    }
   },
   "cell_type": "code",
   "source": [
    "# empty list 생성\n",
    "my_list = list() # []\n",
    "my_list.append('a')\n",
    "odd_list = [1,3,5]\n",
    "my_list.extend(odd_list)\n",
    "my_list"
   ],
   "id": "630f6ece5bdad3f6",
   "outputs": [
    {
     "data": {
      "text/plain": [
       "['a', 1, 3, 5]"
      ]
     },
     "execution_count": 12,
     "metadata": {},
     "output_type": "execute_result"
    }
   ],
   "execution_count": 12
  },
  {
   "metadata": {
    "ExecuteTime": {
     "end_time": "2025-02-18T14:46:21.910469Z",
     "start_time": "2025-02-18T14:46:21.904624Z"
    }
   },
   "cell_type": "code",
   "source": [
    "# 함수에서 tuple을 반환\n",
    "def swap(a,b):\n",
    "    #() tuple\n",
    "    return (b,a)"
   ],
   "id": "6e1f9adecf51ecf3",
   "outputs": [],
   "execution_count": 13
  },
  {
   "metadata": {
    "ExecuteTime": {
     "end_time": "2025-02-18T14:50:36.339175Z",
     "start_time": "2025-02-18T14:50:36.235666Z"
    }
   },
   "cell_type": "code",
   "source": [
    "(n1,n2) = swap(10,20)\n",
    "print(n1)\n",
    "print(n2)"
   ],
   "id": "f77554ba6083cf8",
   "outputs": [
    {
     "name": "stdout",
     "output_type": "stream",
     "text": [
      "30\n",
      "10\n"
     ]
    }
   ],
   "execution_count": 16
  },
  {
   "metadata": {
    "ExecuteTime": {
     "end_time": "2025-02-18T14:53:42.404421Z",
     "start_time": "2025-02-18T14:53:42.390575Z"
    }
   },
   "cell_type": "code",
   "source": [
    "# unpacking\n",
    "n1,n2 = [100,200]\n",
    "print(n1)\n",
    "print(n2)"
   ],
   "id": "8eb8fee5d1a06933",
   "outputs": [
    {
     "name": "stdout",
     "output_type": "stream",
     "text": [
      "100\n",
      "200\n"
     ]
    }
   ],
   "execution_count": 17
  },
  {
   "metadata": {
    "ExecuteTime": {
     "end_time": "2025-02-18T14:54:44.361493Z",
     "start_time": "2025-02-18T14:54:44.355187Z"
    }
   },
   "cell_type": "code",
   "source": [
    "squares = []\n",
    "for i in range(10): #0~9\n",
    "    if i % 2 == 0:\n",
    "        squares.append(i * i)\n",
    "\n",
    "print(squares)"
   ],
   "id": "8f736e24d583da74",
   "outputs": [
    {
     "name": "stdout",
     "output_type": "stream",
     "text": [
      "[0, 4, 16, 36, 64]\n"
     ]
    }
   ],
   "execution_count": 18
  },
  {
   "metadata": {
    "ExecuteTime": {
     "end_time": "2025-02-18T14:59:33.700325Z",
     "start_time": "2025-02-18T14:59:33.680303Z"
    }
   },
   "cell_type": "code",
   "source": [
    "# list comprehension\n",
    "\n",
    "squares2 = [i*i for i in range(10) if i % 2 == 0]\n",
    "squares2"
   ],
   "id": "e4417c99d5d59b51",
   "outputs": [
    {
     "data": {
      "text/plain": [
       "[0, 4, 16, 36, 64]"
      ]
     },
     "execution_count": 19,
     "metadata": {},
     "output_type": "execute_result"
    }
   ],
   "execution_count": 19
  },
  {
   "metadata": {
    "ExecuteTime": {
     "end_time": "2025-02-18T15:00:05.577103Z",
     "start_time": "2025-02-18T15:00:05.556884Z"
    }
   },
   "cell_type": "code",
   "source": "'H e l l o'.split(' ')",
   "id": "f51b67c2bc9d0b64",
   "outputs": [
    {
     "data": {
      "text/plain": [
       "['H', 'e', 'l', 'l', 'o']"
      ]
     },
     "execution_count": 20,
     "metadata": {},
     "output_type": "execute_result"
    }
   ],
   "execution_count": 20
  },
  {
   "metadata": {
    "ExecuteTime": {
     "end_time": "2025-02-18T15:03:13.486181Z",
     "start_time": "2025-02-18T15:03:13.477983Z"
    }
   },
   "cell_type": "code",
   "source": [
    "def get_text_list():\n",
    "    lists = []\n",
    "    with open('data/yesterday.txt', 'r',encoding=\"utf8\") as file:\n",
    "        contents = file.read()\n",
    "        lists = contents.split(\"\\n\")\n",
    "\n",
    "    return lists"
   ],
   "id": "f15d74a1128fb75e",
   "outputs": [],
   "execution_count": 24
  },
  {
   "metadata": {
    "ExecuteTime": {
     "end_time": "2025-02-18T15:03:36.361712Z",
     "start_time": "2025-02-18T15:03:36.348312Z"
    }
   },
   "cell_type": "code",
   "source": [
    "lyric_list = get_text_list()\n",
    "print(len(lyric_list))\n",
    "# 줄바꿈했는데, 줄이 비어있는경우\n",
    "lyric_list2 = [lyric for lyric in lyric_list if len(lyric) != 0]\n",
    "print(len(lyric_list2))"
   ],
   "id": "9a07131f894c49eb",
   "outputs": [
    {
     "name": "stdout",
     "output_type": "stream",
     "text": [
      "23\n",
      "17\n"
     ]
    }
   ],
   "execution_count": 25
  },
  {
   "metadata": {
    "ExecuteTime": {
     "end_time": "2025-02-18T15:09:28.933594Z",
     "start_time": "2025-02-18T15:09:28.921119Z"
    }
   },
   "cell_type": "code",
   "source": [
    "#리스트 슬라이싱\n",
    "#인덱스 0부터 시작하여 인덱스 2 전까지 가져옴.\n",
    "my_list = ['a','b','c','d','e']\n",
    "my_list[0:2]"
   ],
   "id": "4951298e517ea5ad",
   "outputs": [
    {
     "data": {
      "text/plain": [
       "['a', 'b']"
      ]
     },
     "execution_count": 34,
     "metadata": {},
     "output_type": "execute_result"
    }
   ],
   "execution_count": 34
  },
  {
   "metadata": {
    "ExecuteTime": {
     "end_time": "2025-02-18T15:09:31.090842Z",
     "start_time": "2025-02-18T15:09:31.086769Z"
    }
   },
   "cell_type": "code",
   "source": [
    "#\n",
    "my_list[2:]"
   ],
   "id": "9d16f6dd6e2cff9f",
   "outputs": [
    {
     "data": {
      "text/plain": [
       "['c', 'd', 'e']"
      ]
     },
     "execution_count": 35,
     "metadata": {},
     "output_type": "execute_result"
    }
   ],
   "execution_count": 35
  },
  {
   "metadata": {
    "ExecuteTime": {
     "end_time": "2025-02-18T15:09:39.722170Z",
     "start_time": "2025-02-18T15:09:39.716332Z"
    }
   },
   "cell_type": "code",
   "source": "my_list[:2]",
   "id": "56026ef72a38bd5d",
   "outputs": [
    {
     "data": {
      "text/plain": [
       "['a', 'b']"
      ]
     },
     "execution_count": 36,
     "metadata": {},
     "output_type": "execute_result"
    }
   ],
   "execution_count": 36
  },
  {
   "metadata": {
    "ExecuteTime": {
     "end_time": "2025-02-18T15:09:53.676821Z",
     "start_time": "2025-02-18T15:09:53.668291Z"
    }
   },
   "cell_type": "code",
   "source": [
    "# range() 함수의 결과값은 Iterable 하지 않음\n",
    "range(10)"
   ],
   "id": "c535c85a4a12d6d3",
   "outputs": [
    {
     "data": {
      "text/plain": [
       "range(0, 10)"
      ]
     },
     "execution_count": 37,
     "metadata": {},
     "output_type": "execute_result"
    }
   ],
   "execution_count": 37
  },
  {
   "metadata": {
    "ExecuteTime": {
     "end_time": "2025-02-18T15:10:12.241283Z",
     "start_time": "2025-02-18T15:10:12.070685Z"
    }
   },
   "cell_type": "code",
   "source": [
    "#수치 계산을 위한 파이썬 라이브러리\n",
    "import numpy as np\n",
    "np.arange(10)"
   ],
   "id": "cf6f11b54e734e23",
   "outputs": [
    {
     "data": {
      "text/plain": [
       "array([0, 1, 2, 3, 4, 5, 6, 7, 8, 9])"
      ]
     },
     "execution_count": 38,
     "metadata": {},
     "output_type": "execute_result"
    }
   ],
   "execution_count": 38
  },
  {
   "metadata": {
    "ExecuteTime": {
     "end_time": "2025-02-18T15:11:59.141225Z",
     "start_time": "2025-02-18T15:11:59.118340Z"
    }
   },
   "cell_type": "code",
   "source": [
    "# range() 와 numpy의 arange() 함수 비교\n",
    "# range() 함수의 결과값은 Iterable 하지 않기 때문에 list() 함수로 wrapping\n",
    "print(list(range(10)))\n",
    "for data in range(10):\n",
    "    print(data)"
   ],
   "id": "521718ed8b0bc30a",
   "outputs": [
    {
     "name": "stdout",
     "output_type": "stream",
     "text": [
      "[0, 1, 2, 3, 4, 5, 6, 7, 8, 9]\n",
      "0\n",
      "1\n",
      "2\n",
      "3\n",
      "4\n",
      "5\n",
      "6\n",
      "7\n",
      "8\n",
      "9\n"
     ]
    }
   ],
   "execution_count": 39
  },
  {
   "metadata": {
    "ExecuteTime": {
     "end_time": "2025-02-18T15:13:18.677124Z",
     "start_time": "2025-02-18T15:13:18.671080Z"
    }
   },
   "cell_type": "code",
   "source": [
    "import numpy as np\n",
    "\n",
    "np.arange(1,11)"
   ],
   "id": "85b37a738c50c7eb",
   "outputs": [
    {
     "data": {
      "text/plain": [
       "array([ 1,  2,  3,  4,  5,  6,  7,  8,  9, 10])"
      ]
     },
     "execution_count": 40,
     "metadata": {},
     "output_type": "execute_result"
    }
   ],
   "execution_count": 40
  },
  {
   "metadata": {
    "ExecuteTime": {
     "end_time": "2025-02-18T15:13:31.032263Z",
     "start_time": "2025-02-18T15:13:31.024896Z"
    }
   },
   "cell_type": "code",
   "source": [
    "#lambda x, loc: \"{:,}\".format(int(x)\n",
    "def my_format(val):\n",
    "    #소수점 표기\n",
    "    return \"{:,}\".format(int(val))"
   ],
   "id": "bae89f4949560b67",
   "outputs": [],
   "execution_count": 41
  },
  {
   "metadata": {
    "ExecuteTime": {
     "end_time": "2025-02-18T15:13:41.468324Z",
     "start_time": "2025-02-18T15:13:41.451836Z"
    }
   },
   "cell_type": "code",
   "source": "my_format(\"1028326272727\")",
   "id": "535ae226e134b11e",
   "outputs": [
    {
     "data": {
      "text/plain": [
       "'1,028,326,272,727'"
      ]
     },
     "execution_count": 42,
     "metadata": {},
     "output_type": "execute_result"
    }
   ],
   "execution_count": 42
  },
  {
   "metadata": {
    "ExecuteTime": {
     "end_time": "2025-02-18T15:17:55.308606Z",
     "start_time": "2025-02-18T15:17:55.302829Z"
    }
   },
   "cell_type": "code",
   "source": "result = lambda val:\"{:,}\".format(int(val))",
   "id": "c062bb034ebde007",
   "outputs": [],
   "execution_count": 43
  },
  {
   "metadata": {
    "ExecuteTime": {
     "end_time": "2025-02-18T15:18:05.197128Z",
     "start_time": "2025-02-18T15:18:05.191909Z"
    }
   },
   "cell_type": "code",
   "source": "result(\"38383823823940\")",
   "id": "2748e48835d5435d",
   "outputs": [
    {
     "data": {
      "text/plain": [
       "'38,383,823,823,940'"
      ]
     },
     "execution_count": 44,
     "metadata": {},
     "output_type": "execute_result"
    }
   ],
   "execution_count": 44
  },
  {
   "metadata": {
    "ExecuteTime": {
     "end_time": "2025-02-18T15:18:15.960215Z",
     "start_time": "2025-02-18T15:18:15.951651Z"
    }
   },
   "cell_type": "code",
   "source": [
    "dt_list=['이름','취미','나이']\n",
    "dd_list=['파이썬','독서','20']\n",
    "for data in zip(dt_list,dd_list):\n",
    "    print(data)"
   ],
   "id": "2037dbb244ee5fd6",
   "outputs": [
    {
     "name": "stdout",
     "output_type": "stream",
     "text": [
      "('이름', '파이썬')\n",
      "('취미', '독서')\n",
      "('나이', '20')\n"
     ]
    }
   ],
   "execution_count": 45
  },
  {
   "metadata": {
    "ExecuteTime": {
     "end_time": "2025-02-18T15:19:03.627986Z",
     "start_time": "2025-02-18T15:19:03.610302Z"
    }
   },
   "cell_type": "code",
   "source": [
    "# 딕셔너리로 변환\n",
    "dict(zip(dt_list,dd_list))"
   ],
   "id": "2d91151ff3647fb9",
   "outputs": [
    {
     "data": {
      "text/plain": [
       "{'이름': '파이썬', '취미': '독서', '나이': '20'}"
      ]
     },
     "execution_count": 46,
     "metadata": {},
     "output_type": "execute_result"
    }
   ],
   "execution_count": 46
  },
  {
   "metadata": {
    "ExecuteTime": {
     "end_time": "2025-02-18T15:22:00.038978Z",
     "start_time": "2025-02-18T15:22:00.027588Z"
    }
   },
   "cell_type": "code",
   "source": [
    "#튜플 비교\n",
    "#12 와 1 먼저 비교, 이미 False\n",
    "(12,15) < (1,1)  # False0"
   ],
   "id": "67938c85a07736da",
   "outputs": [
    {
     "data": {
      "text/plain": [
       "True"
      ]
     },
     "execution_count": 49,
     "metadata": {},
     "output_type": "execute_result"
    }
   ],
   "execution_count": 49
  },
  {
   "metadata": {
    "ExecuteTime": {
     "end_time": "2025-02-18T15:22:39.010187Z",
     "start_time": "2025-02-18T15:22:38.999642Z"
    }
   },
   "cell_type": "code",
   "source": "(12,15) < (12,17) # True 1",
   "id": "face7afd797f4cba",
   "outputs": [
    {
     "data": {
      "text/plain": [
       "True"
      ]
     },
     "execution_count": 51,
     "metadata": {},
     "output_type": "execute_result"
    }
   ],
   "execution_count": 51
  }
 ],
 "metadata": {
  "kernelspec": {
   "display_name": "Python 3",
   "language": "python",
   "name": "python3"
  },
  "language_info": {
   "codemirror_mode": {
    "name": "ipython",
    "version": 2
   },
   "file_extension": ".py",
   "mimetype": "text/x-python",
   "name": "python",
   "nbconvert_exporter": "python",
   "pygments_lexer": "ipython2",
   "version": "2.7.6"
  }
 },
 "nbformat": 4,
 "nbformat_minor": 5
}
