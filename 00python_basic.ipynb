{
 "cells": [
  {
   "cell_type": "code",
   "id": "initial_id",
   "metadata": {
    "collapsed": true,
    "ExecuteTime": {
     "end_time": "2025-02-18T14:32:18.945722Z",
     "start_time": "2025-02-18T14:32:18.938013Z"
    }
   },
   "source": [
    "lang = 'python'\n",
    "value = 100\n",
    "myStr = '{} {} 언어'.format(lang, value)\n",
    "myStr"
   ],
   "outputs": [
    {
     "data": {
      "text/plain": [
       "'python 100 언어'"
      ]
     },
     "execution_count": 2,
     "metadata": {},
     "output_type": "execute_result"
    }
   ],
   "execution_count": 2
  },
  {
   "metadata": {
    "ExecuteTime": {
     "end_time": "2025-02-18T14:32:30.028114Z",
     "start_time": "2025-02-18T14:32:30.021829Z"
    }
   },
   "cell_type": "code",
   "source": [
    "myStr2 = f'{lang} {value} 언어'\n",
    "myStr2"
   ],
   "id": "a56e97035dba302d",
   "outputs": [
    {
     "data": {
      "text/plain": [
       "'python 100 언어'"
      ]
     },
     "execution_count": 3,
     "metadata": {},
     "output_type": "execute_result"
    }
   ],
   "execution_count": 3
  },
  {
   "metadata": {
    "ExecuteTime": {
     "end_time": "2025-02-18T14:38:23.484414Z",
     "start_time": "2025-02-18T14:38:23.475139Z"
    }
   },
   "cell_type": "code",
   "source": [
    "#f-string에서 숫자에 1000단위로 콤마(,)를 찍는 포맷 지정자\n",
    "val = 56784949494\n",
    "format_val = f'{val:,}'\n",
    "format_val"
   ],
   "id": "8d07bb6b81fc6b55",
   "outputs": [
    {
     "data": {
      "text/plain": [
       "'56,784,949,494'"
      ]
     },
     "execution_count": 7,
     "metadata": {},
     "output_type": "execute_result"
    }
   ],
   "execution_count": 7
  },
  {
   "metadata": {
    "ExecuteTime": {
     "end_time": "2025-02-18T14:39:09.651611Z",
     "start_time": "2025-02-18T14:39:09.644276Z"
    }
   },
   "cell_type": "code",
   "source": [
    "#1000단위 콤마 + 소수점 2자리\n",
    "val = 24737.1234\n",
    "format_val = f'{val:,.2f}'\n",
    "format_val"
   ],
   "id": "7fcffe82cb61364e",
   "outputs": [
    {
     "data": {
      "text/plain": [
       "'24,737.12'"
      ]
     },
     "execution_count": 9,
     "metadata": {},
     "output_type": "execute_result"
    }
   ],
   "execution_count": 9
  },
  {
   "metadata": {
    "ExecuteTime": {
     "end_time": "2025-02-18T14:39:32.096447Z",
     "start_time": "2025-02-18T14:39:32.090538Z"
    }
   },
   "cell_type": "code",
   "source": [
    "## dict 연습\n",
    "my_dict1 = dict()  # {}\n",
    "my_dict = {\n",
    "    'name': '파이썬'\n",
    "}\n",
    "my_dict['addr'] = '서울'\n",
    "print(my_dict)\n",
    "print(my_dict['name'])"
   ],
   "id": "c5edf06cc9c665f8",
   "outputs": [
    {
     "name": "stdout",
     "output_type": "stream",
     "text": [
      "{'name': '파이썬', 'addr': '서울'}\n",
      "파이썬\n"
     ]
    }
   ],
   "execution_count": 10
  },
  {
   "metadata": {
    "ExecuteTime": {
     "end_time": "2025-02-18T14:40:08.327632Z",
     "start_time": "2025-02-18T14:40:08.321504Z"
    }
   },
   "cell_type": "code",
   "source": [
    "for k in my_dict.keys():\n",
    "    print(k,my_dict[k])\n",
    "\n",
    "for k,v in my_dict.items():\n",
    "    print(k, v)"
   ],
   "id": "c8c2c67fda65aeb8",
   "outputs": [
    {
     "name": "stdout",
     "output_type": "stream",
     "text": [
      "name 파이썬\n",
      "addr 서울\n",
      "name 파이썬\n",
      "addr 서울\n"
     ]
    }
   ],
   "execution_count": 11
  },
  {
   "metadata": {
    "ExecuteTime": {
     "end_time": "2025-02-18T14:41:05.303544Z",
     "start_time": "2025-02-18T14:41:05.284982Z"
    }
   },
   "cell_type": "code",
   "source": [
    "# empty list 생성\n",
    "my_list = list() # []\n",
    "my_list.append('a')\n",
    "odd_list = [1,3,5]\n",
    "my_list.extend(odd_list)\n",
    "my_list"
   ],
   "id": "630f6ece5bdad3f6",
   "outputs": [
    {
     "data": {
      "text/plain": [
       "['a', 1, 3, 5]"
      ]
     },
     "execution_count": 12,
     "metadata": {},
     "output_type": "execute_result"
    }
   ],
   "execution_count": 12
  },
  {
   "metadata": {
    "ExecuteTime": {
     "end_time": "2025-02-18T14:46:21.910469Z",
     "start_time": "2025-02-18T14:46:21.904624Z"
    }
   },
   "cell_type": "code",
   "source": [
    "# 함수에서 tuple을 반환\n",
    "def swap(a,b):\n",
    "    #() tuple\n",
    "    return (b,a)"
   ],
   "id": "6e1f9adecf51ecf3",
   "outputs": [],
   "execution_count": 13
  },
  {
   "metadata": {
    "ExecuteTime": {
     "end_time": "2025-02-18T14:50:36.339175Z",
     "start_time": "2025-02-18T14:50:36.235666Z"
    }
   },
   "cell_type": "code",
   "source": [
    "(n1,n2) = swap(10,20)\n",
    "print(n1)\n",
    "print(n2)"
   ],
   "id": "f77554ba6083cf8",
   "outputs": [
    {
     "name": "stdout",
     "output_type": "stream",
     "text": [
      "30\n",
      "10\n"
     ]
    }
   ],
   "execution_count": 16
  },
  {
   "metadata": {
    "ExecuteTime": {
     "end_time": "2025-02-18T14:53:42.404421Z",
     "start_time": "2025-02-18T14:53:42.390575Z"
    }
   },
   "cell_type": "code",
   "source": [
    "# unpacking\n",
    "n1,n2 = [100,200]\n",
    "print(n1)\n",
    "print(n2)"
   ],
   "id": "8eb8fee5d1a06933",
   "outputs": [
    {
     "name": "stdout",
     "output_type": "stream",
     "text": [
      "100\n",
      "200\n"
     ]
    }
   ],
   "execution_count": 17
  },
  {
   "metadata": {
    "ExecuteTime": {
     "end_time": "2025-02-18T14:54:44.361493Z",
     "start_time": "2025-02-18T14:54:44.355187Z"
    }
   },
   "cell_type": "code",
   "source": [
    "squares = []\n",
    "for i in range(10): #0~9\n",
    "    if i % 2 == 0:\n",
    "        squares.append(i * i)\n",
    "\n",
    "print(squares)"
   ],
   "id": "8f736e24d583da74",
   "outputs": [
    {
     "name": "stdout",
     "output_type": "stream",
     "text": [
      "[0, 4, 16, 36, 64]\n"
     ]
    }
   ],
   "execution_count": 18
  },
  {
   "metadata": {
    "ExecuteTime": {
     "end_time": "2025-02-18T14:59:33.700325Z",
     "start_time": "2025-02-18T14:59:33.680303Z"
    }
   },
   "cell_type": "code",
   "source": [
    "# list comprehension\n",
    "\n",
    "squares2 = [i*i for i in range(10) if i % 2 == 0]\n",
    "squares2"
   ],
   "id": "e4417c99d5d59b51",
   "outputs": [
    {
     "data": {
      "text/plain": [
       "[0, 4, 16, 36, 64]"
      ]
     },
     "execution_count": 19,
     "metadata": {},
     "output_type": "execute_result"
    }
   ],
   "execution_count": 19
  },
  {
   "metadata": {
    "ExecuteTime": {
     "end_time": "2025-02-18T15:00:05.577103Z",
     "start_time": "2025-02-18T15:00:05.556884Z"
    }
   },
   "cell_type": "code",
   "source": "'H e l l o'.split(' ')",
   "id": "f51b67c2bc9d0b64",
   "outputs": [
    {
     "data": {
      "text/plain": [
       "['H', 'e', 'l', 'l', 'o']"
      ]
     },
     "execution_count": 20,
     "metadata": {},
     "output_type": "execute_result"
    }
   ],
   "execution_count": 20
  },
  {
   "metadata": {
    "ExecuteTime": {
     "end_time": "2025-02-18T15:00:25.367911Z",
     "start_time": "2025-02-18T15:00:25.362514Z"
    }
   },
   "cell_type": "code",
   "source": [
    "def get_text_list():\n",
    "    lists = []\n",
    "    with open('data/yesterday.txt', 'r',encoding=\"utf8\") as file:\n",
    "        contents = file.read()\n",
    "        lists = contents.split(\"\\n\")\n",
    "\n",
    "    return lists"
   ],
   "id": "f15d74a1128fb75e",
   "outputs": [],
   "execution_count": 21
  },
  {
   "metadata": {
    "ExecuteTime": {
     "end_time": "2025-02-18T15:00:36.677030Z",
     "start_time": "2025-02-18T15:00:36.240602Z"
    }
   },
   "cell_type": "code",
   "source": [
    "lyric_list = get_text_list()\n",
    "print(len(lyric_list))\n",
    "lyric_list2 = [lyric for lyric in lyric_list if len(lyric) != 0]\n",
    "print(len(lyric_list2))"
   ],
   "id": "9a07131f894c49eb",
   "outputs": [
    {
     "ename": "FileNotFoundError",
     "evalue": "[Errno 2] No such file or directory: 'data/yesterday.txt'",
     "output_type": "error",
     "traceback": [
      "\u001B[0;31m---------------------------------------------------------------------------\u001B[0m",
      "\u001B[0;31mFileNotFoundError\u001B[0m                         Traceback (most recent call last)",
      "Cell \u001B[0;32mIn[22], line 1\u001B[0m\n\u001B[0;32m----> 1\u001B[0m lyric_list \u001B[38;5;241m=\u001B[39m \u001B[43mget_text_list\u001B[49m\u001B[43m(\u001B[49m\u001B[43m)\u001B[49m\n\u001B[1;32m      2\u001B[0m \u001B[38;5;28mprint\u001B[39m(\u001B[38;5;28mlen\u001B[39m(lyric_list))\n\u001B[1;32m      3\u001B[0m lyric_list2 \u001B[38;5;241m=\u001B[39m [lyric \u001B[38;5;28;01mfor\u001B[39;00m lyric \u001B[38;5;129;01min\u001B[39;00m lyric_list \u001B[38;5;28;01mif\u001B[39;00m \u001B[38;5;28mlen\u001B[39m(lyric) \u001B[38;5;241m!=\u001B[39m \u001B[38;5;241m0\u001B[39m]\n",
      "Cell \u001B[0;32mIn[21], line 3\u001B[0m, in \u001B[0;36mget_text_list\u001B[0;34m()\u001B[0m\n\u001B[1;32m      1\u001B[0m \u001B[38;5;28;01mdef\u001B[39;00m\u001B[38;5;250m \u001B[39m\u001B[38;5;21mget_text_list\u001B[39m():\n\u001B[1;32m      2\u001B[0m     lists \u001B[38;5;241m=\u001B[39m []\n\u001B[0;32m----> 3\u001B[0m     \u001B[38;5;28;01mwith\u001B[39;00m \u001B[38;5;28;43mopen\u001B[39;49m\u001B[43m(\u001B[49m\u001B[38;5;124;43m'\u001B[39;49m\u001B[38;5;124;43mdata/yesterday.txt\u001B[39;49m\u001B[38;5;124;43m'\u001B[39;49m\u001B[43m,\u001B[49m\u001B[43m \u001B[49m\u001B[38;5;124;43m'\u001B[39;49m\u001B[38;5;124;43mr\u001B[39;49m\u001B[38;5;124;43m'\u001B[39;49m\u001B[43m,\u001B[49m\u001B[43mencoding\u001B[49m\u001B[38;5;241;43m=\u001B[39;49m\u001B[38;5;124;43m\"\u001B[39;49m\u001B[38;5;124;43mutf8\u001B[39;49m\u001B[38;5;124;43m\"\u001B[39;49m\u001B[43m)\u001B[49m \u001B[38;5;28;01mas\u001B[39;00m file:\n\u001B[1;32m      4\u001B[0m         contents \u001B[38;5;241m=\u001B[39m file\u001B[38;5;241m.\u001B[39mread()\n\u001B[1;32m      5\u001B[0m         lists \u001B[38;5;241m=\u001B[39m contents\u001B[38;5;241m.\u001B[39msplit(\u001B[38;5;124m\"\u001B[39m\u001B[38;5;130;01m\\n\u001B[39;00m\u001B[38;5;124m\"\u001B[39m)\n",
      "File \u001B[0;32m~/Desktop/study/data_analysis/venv/lib/python3.12/site-packages/IPython/core/interactiveshell.py:324\u001B[0m, in \u001B[0;36m_modified_open\u001B[0;34m(file, *args, **kwargs)\u001B[0m\n\u001B[1;32m    317\u001B[0m \u001B[38;5;28;01mif\u001B[39;00m file \u001B[38;5;129;01min\u001B[39;00m {\u001B[38;5;241m0\u001B[39m, \u001B[38;5;241m1\u001B[39m, \u001B[38;5;241m2\u001B[39m}:\n\u001B[1;32m    318\u001B[0m     \u001B[38;5;28;01mraise\u001B[39;00m \u001B[38;5;167;01mValueError\u001B[39;00m(\n\u001B[1;32m    319\u001B[0m         \u001B[38;5;124mf\u001B[39m\u001B[38;5;124m\"\u001B[39m\u001B[38;5;124mIPython won\u001B[39m\u001B[38;5;124m'\u001B[39m\u001B[38;5;124mt let you open fd=\u001B[39m\u001B[38;5;132;01m{\u001B[39;00mfile\u001B[38;5;132;01m}\u001B[39;00m\u001B[38;5;124m by default \u001B[39m\u001B[38;5;124m\"\u001B[39m\n\u001B[1;32m    320\u001B[0m         \u001B[38;5;124m\"\u001B[39m\u001B[38;5;124mas it is likely to crash IPython. If you know what you are doing, \u001B[39m\u001B[38;5;124m\"\u001B[39m\n\u001B[1;32m    321\u001B[0m         \u001B[38;5;124m\"\u001B[39m\u001B[38;5;124myou can use builtins\u001B[39m\u001B[38;5;124m'\u001B[39m\u001B[38;5;124m open.\u001B[39m\u001B[38;5;124m\"\u001B[39m\n\u001B[1;32m    322\u001B[0m     )\n\u001B[0;32m--> 324\u001B[0m \u001B[38;5;28;01mreturn\u001B[39;00m \u001B[43mio_open\u001B[49m\u001B[43m(\u001B[49m\u001B[43mfile\u001B[49m\u001B[43m,\u001B[49m\u001B[43m \u001B[49m\u001B[38;5;241;43m*\u001B[39;49m\u001B[43margs\u001B[49m\u001B[43m,\u001B[49m\u001B[43m \u001B[49m\u001B[38;5;241;43m*\u001B[39;49m\u001B[38;5;241;43m*\u001B[39;49m\u001B[43mkwargs\u001B[49m\u001B[43m)\u001B[49m\n",
      "\u001B[0;31mFileNotFoundError\u001B[0m: [Errno 2] No such file or directory: 'data/yesterday.txt'"
     ]
    }
   ],
   "execution_count": 22
  }
 ],
 "metadata": {
  "kernelspec": {
   "display_name": "Python 3",
   "language": "python",
   "name": "python3"
  },
  "language_info": {
   "codemirror_mode": {
    "name": "ipython",
    "version": 2
   },
   "file_extension": ".py",
   "mimetype": "text/x-python",
   "name": "python",
   "nbconvert_exporter": "python",
   "pygments_lexer": "ipython2",
   "version": "2.7.6"
  }
 },
 "nbformat": 4,
 "nbformat_minor": 5
}
