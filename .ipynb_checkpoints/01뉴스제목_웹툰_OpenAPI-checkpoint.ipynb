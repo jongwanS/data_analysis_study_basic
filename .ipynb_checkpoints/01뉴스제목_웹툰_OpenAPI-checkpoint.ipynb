{
 "cells": [
  {
   "cell_type": "code",
   "id": "initial_id",
   "metadata": {
    "collapsed": true,
    "ExecuteTime": {
     "end_time": "2025-02-25T13:30:53.323200Z",
     "start_time": "2025-02-25T13:30:52.402344Z"
    }
   },
   "source": [
    "#!는 쉘 명령어를 실행할때 사용\n",
    "#requests 라이브러리는 http 호출 관련 라이브러리\n",
    "!pip show requests"
   ],
   "outputs": [
    {
     "name": "stdout",
     "output_type": "stream",
     "text": [
      "Name: requests\r\n",
      "Version: 2.32.3\r\n",
      "Summary: Python HTTP for Humans.\r\n",
      "Home-page: https://requests.readthedocs.io\r\n",
      "Author: Kenneth Reitz\r\n",
      "Author-email: me@kennethreitz.org\r\n",
      "License: Apache-2.0\r\n",
      "Location: /Users/limjong-wan/Desktop/study/data_analysis/venv/lib/python3.12/site-packages\r\n",
      "Requires: certifi, charset-normalizer, idna, urllib3\r\n",
      "Required-by: jupyterlab_server\r\n"
     ]
    }
   ],
   "execution_count": 2
  },
  {
   "metadata": {
    "ExecuteTime": {
     "end_time": "2025-02-25T13:30:55.619142Z",
     "start_time": "2025-02-25T13:30:54.803663Z"
    }
   },
   "cell_type": "code",
   "source": "!pip show beautifulsoup4",
   "id": "b736f289a49fbf1",
   "outputs": [
    {
     "name": "stdout",
     "output_type": "stream",
     "text": [
      "Name: beautifulsoup4\r\n",
      "Version: 4.13.3\r\n",
      "Summary: Screen-scraping library\r\n",
      "Home-page: \r\n",
      "Author: \r\n",
      "Author-email: Leonard Richardson <leonardr@segfault.org>\r\n",
      "License: MIT License\r\n",
      "Location: /Users/limjong-wan/Desktop/study/data_analysis/venv/lib/python3.12/site-packages\r\n",
      "Requires: soupsieve, typing-extensions\r\n",
      "Required-by: nbconvert\r\n"
     ]
    }
   ],
   "execution_count": 3
  },
  {
   "metadata": {
    "ExecuteTime": {
     "end_time": "2025-02-25T13:30:57.745577Z",
     "start_time": "2025-02-25T13:30:57.654273Z"
    }
   },
   "cell_type": "code",
   "source": [
    "import requests\n",
    "import bs4\n",
    "from bs4 import BeautifulSoup"
   ],
   "id": "59be8394553d589",
   "outputs": [],
   "execution_count": 4
  },
  {
   "metadata": {
    "ExecuteTime": {
     "end_time": "2025-02-25T13:31:00.062785Z",
     "start_time": "2025-02-25T13:31:00.058883Z"
    }
   },
   "cell_type": "code",
   "source": [
    "print(f'requests 버전 {requests.__version__}' )\n",
    "print('beautifulsoup 버전 {}'.format(bs4.__version__))"
   ],
   "id": "f619c28a97728d69",
   "outputs": [
    {
     "name": "stdout",
     "output_type": "stream",
     "text": [
      "requests 버전 2.32.3\n",
      "beautifulsoup 버전 4.13.3\n"
     ]
    }
   ],
   "execution_count": 5
  },
  {
   "metadata": {},
   "cell_type": "code",
   "outputs": [],
   "execution_count": null,
   "source": [
    "# IT/과학 뉴스\n",
    "# https://news.naver.com/section/105\n",
    "req_param = {\n",
    "    'sid': 105\n",
    "}\n",
    "url = 'https://news.naver.com/section/{sid}'.format(**req_param)\n",
    "print('url : ' + url)\n",
    "# 요청 헤더 설정 : 브라우저 정보\n",
    "req_header = {\n",
    "    'user-agent': 'Mozilla/5.0 (Windows NT 10.0; Win64; x64) AppleWebKit/537.36 (KHTML, like Gecko) Chrome/104.0.0.0 Safari/537.36'\n",
    "}\n",
    "res = requests.get(url, headers=req_header)\n",
    "\n",
    "print(type(res))\n",
    "print(res.status_code)\n",
    "# status_code == 200\n",
    "if res.ok:\n",
    "    html = res.text\n",
    "    soup = BeautifulSoup(html,'html.parser')\n",
    "    #print(soup.select(\"div.sa_text a[href*='mnews/article']\"))\n",
    "    a_tag_list = soup.select(\"div.sa_text a[href*='mnews/article']\")\n",
    "    print(type(a_tag_list)) #[<a>뉴스제목</a>,<a></a>]\n",
    "    for a_tag in a_tag_list:\n",
    "        #print(a_tag)\n",
    "        title = a_tag.text.strip() #strip() => \\n \\t 없애줌\n",
    "        link = a_tag['href']\n",
    "        print(title, link)\n",
    "else:\n",
    "    print(f'에러코드 = {res.status_code}')"
   ],
   "id": "abc91091b7e64279"
  },
  {
   "metadata": {},
   "cell_type": "markdown",
   "source": "## 1.1 뉴스제목 추출 함수 선언",
   "id": "3eb35d83140f6b99"
  },
  {
   "metadata": {
    "ExecuteTime": {
     "end_time": "2025-02-22T08:21:41.790493Z",
     "start_time": "2025-02-22T08:21:41.788604Z"
    }
   },
   "cell_type": "code",
   "source": "",
   "id": "46e330acd42b8aec",
   "outputs": [],
   "execution_count": null
  },
  {
   "metadata": {},
   "cell_type": "markdown",
   "source": "",
   "id": "3cb9e34649cbdb11"
  }
 ],
 "metadata": {
  "kernelspec": {
   "display_name": "Python 3",
   "language": "python",
   "name": "python3"
  },
  "language_info": {
   "codemirror_mode": {
    "name": "ipython",
    "version": 2
   },
   "file_extension": ".py",
   "mimetype": "text/x-python",
   "name": "python",
   "nbconvert_exporter": "python",
   "pygments_lexer": "ipython2",
   "version": "2.7.6"
  }
 },
 "nbformat": 4,
 "nbformat_minor": 5
}
